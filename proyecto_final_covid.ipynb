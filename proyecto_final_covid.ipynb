{
 "cells": [
  {
   "cell_type": "markdown",
   "metadata": {},
   "source": [
    "# Características\n",
    "En las funciones booleanas, 1 significa \"sí\" y 2 significa \"no\". valores como 97 y 99 significa datos faltantes.\n",
    "| **Atributo**         | **Descripción**                                                                                   |\n",
    "|----------------------|--------------------------------------------------------------------------------------------------|\n",
    "| **USMER**            | Indica si el paciente fue atendido en unidades médicas de primer, segundo o tercer nivel.       |\n",
    "| **MEDICAL_UNIT**     | Tipo de institución del Sistema Nacional de Salud que proporcionó la atención.                   |\n",
    "| **SEX**              | 1 para mujer, 2 para hombre.                                                                    |\n",
    "| **PATIENT_TYPE**     | Tipo de atención recibida: 1 para retorno a casa, 2 para hospitalización.                       |\n",
    "| **DATE_DIED**        | Fecha de fallecimiento, o `9999-99-99` si el paciente no falleció.                               |\n",
    "| **INTUBED**        | Indica si el paciente estaba conectado a un ventilador                   |\n",
    "| **PNEUMONIA**     | Indica si el paciente tenía neumonía                                         |\n",
    "| **AGE**           | Edad del paciente.                                                                              |\n",
    "| **PREGNANT**      | Indica si el paciente está embarazada                                       |\n",
    "| **DIABETES**      | Indica si el paciente tiene diabetes                                        |\n",
    "| **COPD**          | Indica si el paciente tiene enfermedad pulmonar obstructiva crónica         |\n",
    "| **ASTHMA**       | Indica si el paciente tiene asma                                           |\n",
    "| **INMSUPR**      | Indica si el paciente está inmunodeprimido                                 |\n",
    "| **HIPERTENSION**  | Indica si el paciente tiene hipertensión                                 |\n",
    "| **OTHER_DISEASE** | Indica si el paciente tiene otras enfermedades                               |\n",
    "| **CARDIOVASCULAR** | Indica si el paciente tiene enfermedad cardiovascular                       |\n",
    "| **OBESITY**       | Indica si el paciente tiene obesidad                                        |\n",
    "| **RENAL_CHRONIC** | Indica si el paciente tiene enfermedad renal crónica                        |\n",
    "| **TOBACCO**       | Indica si el paciente consume tabaco                                       |\n",
    "| **CLASIFFICATION_FINAL** | Resultados de la prueba de Covid-19: 1-3 para casos confirmados (diferentes grados), 4+ para casos no confirmados. |\n",
    "| **ICU**           | Indica si el paciente ingresó a la Unidad de Cuidados Intensivos           |"
   ]
  },
  {
   "cell_type": "code",
   "metadata": {
    "ExecuteTime": {
     "end_time": "2024-12-08T02:36:11.307010Z",
     "start_time": "2024-12-08T02:36:11.293314Z"
    }
   },
   "source": [
    "import pandas as pd\n",
    "import numpy as np\n",
    "import matplotlib.pyplot as plt\n",
    "import seaborn as sns\n",
    "from scipy.stats import chi2_contingency\n",
    "from sklearn.model_selection import train_test_split\n",
    "from sklearn.experimental import enable_iterative_imputer\n",
    "from sklearn.impute import IterativeImputer\n",
    "from sklearn.metrics import confusion_matrix, precision_score, recall_score, f1_score, roc_auc_score, accuracy_score\n",
    "from sklearn.linear_model import LogisticRegression\n",
    "from sklearn.ensemble import RandomForestClassifier\n",
    "from sklearn.tree import DecisionTreeClassifier\n",
    "from sklearn.ensemble import GradientBoostingClassifier\n",
    "from sklearn.neighbors import KNeighborsClassifier\n",
    "from sklearn.naive_bayes import GaussianNB\n",
    "from sklearn.neural_network import MLPClassifier\n",
    "import xgboost as xgb\n",
    "from catboost import CatBoostClassifier\n",
    "import lightgbm as lgb\n",
    "from imblearn.over_sampling import SMOTE\n",
    "import re\n",
    "from sklearn.metrics import precision_recall_curve"
   ],
   "outputs": [],
   "execution_count": 251
  },
  {
   "cell_type": "markdown",
   "metadata": {},
   "source": [
    "# Análisis Exploratorio"
   ]
  },
  {
   "cell_type": "code",
   "metadata": {
    "ExecuteTime": {
     "end_time": "2024-12-08T00:18:12.244199Z",
     "start_time": "2024-12-08T00:18:11.633486Z"
    }
   },
   "source": [
    "df = pd.read_csv(\"./Covid Data.csv\")\n",
    "df.head()"
   ],
   "outputs": [
    {
     "data": {
      "text/plain": [
       "   USMER  MEDICAL_UNIT  SEX  PATIENT_TYPE   DATE_DIED  INTUBED  PNEUMONIA  \\\n",
       "0      2             1    1             1  03/05/2020       97          1   \n",
       "1      2             1    2             1  03/06/2020       97          1   \n",
       "2      2             1    2             2  09/06/2020        1          2   \n",
       "3      2             1    1             1  12/06/2020       97          2   \n",
       "4      2             1    2             1  21/06/2020       97          2   \n",
       "\n",
       "   AGE  PREGNANT  DIABETES  ...  ASTHMA  INMSUPR  HIPERTENSION  OTHER_DISEASE  \\\n",
       "0   65         2         2  ...       2        2             1              2   \n",
       "1   72        97         2  ...       2        2             1              2   \n",
       "2   55        97         1  ...       2        2             2              2   \n",
       "3   53         2         2  ...       2        2             2              2   \n",
       "4   68        97         1  ...       2        2             1              2   \n",
       "\n",
       "   CARDIOVASCULAR  OBESITY  RENAL_CHRONIC  TOBACCO  CLASIFFICATION_FINAL  ICU  \n",
       "0               2        2              2        2                     3   97  \n",
       "1               2        1              1        2                     5   97  \n",
       "2               2        2              2        2                     3    2  \n",
       "3               2        2              2        2                     7   97  \n",
       "4               2        2              2        2                     3   97  \n",
       "\n",
       "[5 rows x 21 columns]"
      ],
      "text/html": [
       "<div>\n",
       "<style scoped>\n",
       "    .dataframe tbody tr th:only-of-type {\n",
       "        vertical-align: middle;\n",
       "    }\n",
       "\n",
       "    .dataframe tbody tr th {\n",
       "        vertical-align: top;\n",
       "    }\n",
       "\n",
       "    .dataframe thead th {\n",
       "        text-align: right;\n",
       "    }\n",
       "</style>\n",
       "<table border=\"1\" class=\"dataframe\">\n",
       "  <thead>\n",
       "    <tr style=\"text-align: right;\">\n",
       "      <th></th>\n",
       "      <th>USMER</th>\n",
       "      <th>MEDICAL_UNIT</th>\n",
       "      <th>SEX</th>\n",
       "      <th>PATIENT_TYPE</th>\n",
       "      <th>DATE_DIED</th>\n",
       "      <th>INTUBED</th>\n",
       "      <th>PNEUMONIA</th>\n",
       "      <th>AGE</th>\n",
       "      <th>PREGNANT</th>\n",
       "      <th>DIABETES</th>\n",
       "      <th>...</th>\n",
       "      <th>ASTHMA</th>\n",
       "      <th>INMSUPR</th>\n",
       "      <th>HIPERTENSION</th>\n",
       "      <th>OTHER_DISEASE</th>\n",
       "      <th>CARDIOVASCULAR</th>\n",
       "      <th>OBESITY</th>\n",
       "      <th>RENAL_CHRONIC</th>\n",
       "      <th>TOBACCO</th>\n",
       "      <th>CLASIFFICATION_FINAL</th>\n",
       "      <th>ICU</th>\n",
       "    </tr>\n",
       "  </thead>\n",
       "  <tbody>\n",
       "    <tr>\n",
       "      <th>0</th>\n",
       "      <td>2</td>\n",
       "      <td>1</td>\n",
       "      <td>1</td>\n",
       "      <td>1</td>\n",
       "      <td>03/05/2020</td>\n",
       "      <td>97</td>\n",
       "      <td>1</td>\n",
       "      <td>65</td>\n",
       "      <td>2</td>\n",
       "      <td>2</td>\n",
       "      <td>...</td>\n",
       "      <td>2</td>\n",
       "      <td>2</td>\n",
       "      <td>1</td>\n",
       "      <td>2</td>\n",
       "      <td>2</td>\n",
       "      <td>2</td>\n",
       "      <td>2</td>\n",
       "      <td>2</td>\n",
       "      <td>3</td>\n",
       "      <td>97</td>\n",
       "    </tr>\n",
       "    <tr>\n",
       "      <th>1</th>\n",
       "      <td>2</td>\n",
       "      <td>1</td>\n",
       "      <td>2</td>\n",
       "      <td>1</td>\n",
       "      <td>03/06/2020</td>\n",
       "      <td>97</td>\n",
       "      <td>1</td>\n",
       "      <td>72</td>\n",
       "      <td>97</td>\n",
       "      <td>2</td>\n",
       "      <td>...</td>\n",
       "      <td>2</td>\n",
       "      <td>2</td>\n",
       "      <td>1</td>\n",
       "      <td>2</td>\n",
       "      <td>2</td>\n",
       "      <td>1</td>\n",
       "      <td>1</td>\n",
       "      <td>2</td>\n",
       "      <td>5</td>\n",
       "      <td>97</td>\n",
       "    </tr>\n",
       "    <tr>\n",
       "      <th>2</th>\n",
       "      <td>2</td>\n",
       "      <td>1</td>\n",
       "      <td>2</td>\n",
       "      <td>2</td>\n",
       "      <td>09/06/2020</td>\n",
       "      <td>1</td>\n",
       "      <td>2</td>\n",
       "      <td>55</td>\n",
       "      <td>97</td>\n",
       "      <td>1</td>\n",
       "      <td>...</td>\n",
       "      <td>2</td>\n",
       "      <td>2</td>\n",
       "      <td>2</td>\n",
       "      <td>2</td>\n",
       "      <td>2</td>\n",
       "      <td>2</td>\n",
       "      <td>2</td>\n",
       "      <td>2</td>\n",
       "      <td>3</td>\n",
       "      <td>2</td>\n",
       "    </tr>\n",
       "    <tr>\n",
       "      <th>3</th>\n",
       "      <td>2</td>\n",
       "      <td>1</td>\n",
       "      <td>1</td>\n",
       "      <td>1</td>\n",
       "      <td>12/06/2020</td>\n",
       "      <td>97</td>\n",
       "      <td>2</td>\n",
       "      <td>53</td>\n",
       "      <td>2</td>\n",
       "      <td>2</td>\n",
       "      <td>...</td>\n",
       "      <td>2</td>\n",
       "      <td>2</td>\n",
       "      <td>2</td>\n",
       "      <td>2</td>\n",
       "      <td>2</td>\n",
       "      <td>2</td>\n",
       "      <td>2</td>\n",
       "      <td>2</td>\n",
       "      <td>7</td>\n",
       "      <td>97</td>\n",
       "    </tr>\n",
       "    <tr>\n",
       "      <th>4</th>\n",
       "      <td>2</td>\n",
       "      <td>1</td>\n",
       "      <td>2</td>\n",
       "      <td>1</td>\n",
       "      <td>21/06/2020</td>\n",
       "      <td>97</td>\n",
       "      <td>2</td>\n",
       "      <td>68</td>\n",
       "      <td>97</td>\n",
       "      <td>1</td>\n",
       "      <td>...</td>\n",
       "      <td>2</td>\n",
       "      <td>2</td>\n",
       "      <td>1</td>\n",
       "      <td>2</td>\n",
       "      <td>2</td>\n",
       "      <td>2</td>\n",
       "      <td>2</td>\n",
       "      <td>2</td>\n",
       "      <td>3</td>\n",
       "      <td>97</td>\n",
       "    </tr>\n",
       "  </tbody>\n",
       "</table>\n",
       "<p>5 rows × 21 columns</p>\n",
       "</div>"
      ]
     },
     "execution_count": 198,
     "metadata": {},
     "output_type": "execute_result"
    }
   ],
   "execution_count": 198
  },
  {
   "cell_type": "code",
   "metadata": {
    "ExecuteTime": {
     "end_time": "2024-12-08T00:18:12.329650Z",
     "start_time": "2024-12-08T00:18:12.285456Z"
    }
   },
   "source": [
    "df.info()"
   ],
   "outputs": [
    {
     "name": "stdout",
     "output_type": "stream",
     "text": [
      "<class 'pandas.core.frame.DataFrame'>\n",
      "RangeIndex: 1048575 entries, 0 to 1048574\n",
      "Data columns (total 21 columns):\n",
      " #   Column                Non-Null Count    Dtype \n",
      "---  ------                --------------    ----- \n",
      " 0   USMER                 1048575 non-null  int64 \n",
      " 1   MEDICAL_UNIT          1048575 non-null  int64 \n",
      " 2   SEX                   1048575 non-null  int64 \n",
      " 3   PATIENT_TYPE          1048575 non-null  int64 \n",
      " 4   DATE_DIED             1048575 non-null  object\n",
      " 5   INTUBED               1048575 non-null  int64 \n",
      " 6   PNEUMONIA             1048575 non-null  int64 \n",
      " 7   AGE                   1048575 non-null  int64 \n",
      " 8   PREGNANT              1048575 non-null  int64 \n",
      " 9   DIABETES              1048575 non-null  int64 \n",
      " 10  COPD                  1048575 non-null  int64 \n",
      " 11  ASTHMA                1048575 non-null  int64 \n",
      " 12  INMSUPR               1048575 non-null  int64 \n",
      " 13  HIPERTENSION          1048575 non-null  int64 \n",
      " 14  OTHER_DISEASE         1048575 non-null  int64 \n",
      " 15  CARDIOVASCULAR        1048575 non-null  int64 \n",
      " 16  OBESITY               1048575 non-null  int64 \n",
      " 17  RENAL_CHRONIC         1048575 non-null  int64 \n",
      " 18  TOBACCO               1048575 non-null  int64 \n",
      " 19  CLASIFFICATION_FINAL  1048575 non-null  int64 \n",
      " 20  ICU                   1048575 non-null  int64 \n",
      "dtypes: int64(20), object(1)\n",
      "memory usage: 168.0+ MB\n"
     ]
    }
   ],
   "execution_count": 199
  },
  {
   "cell_type": "code",
   "metadata": {
    "colab": {
     "base_uri": "https://localhost:8080/",
     "height": 320
    },
    "id": "QZptxngzPWGo",
    "outputId": "1621660c-e232-41c1-da91-d565c3199e9f",
    "ExecuteTime": {
     "end_time": "2024-12-08T00:18:12.674583Z",
     "start_time": "2024-12-08T00:18:12.357277Z"
    }
   },
   "source": [
    "df.describe()"
   ],
   "outputs": [
    {
     "data": {
      "text/plain": [
       "              USMER  MEDICAL_UNIT           SEX  PATIENT_TYPE       INTUBED  \\\n",
       "count  1.048575e+06  1.048575e+06  1.048575e+06  1.048575e+06  1.048575e+06   \n",
       "mean   1.632194e+00  8.980565e+00  1.499259e+00  1.190765e+00  7.952288e+01   \n",
       "std    4.822084e-01  3.723278e+00  4.999997e-01  3.929041e-01  3.686889e+01   \n",
       "min    1.000000e+00  1.000000e+00  1.000000e+00  1.000000e+00  1.000000e+00   \n",
       "25%    1.000000e+00  4.000000e+00  1.000000e+00  1.000000e+00  9.700000e+01   \n",
       "50%    2.000000e+00  1.200000e+01  1.000000e+00  1.000000e+00  9.700000e+01   \n",
       "75%    2.000000e+00  1.200000e+01  2.000000e+00  1.000000e+00  9.700000e+01   \n",
       "max    2.000000e+00  1.300000e+01  2.000000e+00  2.000000e+00  9.900000e+01   \n",
       "\n",
       "          PNEUMONIA           AGE      PREGNANT      DIABETES          COPD  \\\n",
       "count  1.048575e+06  1.048575e+06  1.048575e+06  1.048575e+06  1.048575e+06   \n",
       "mean   3.346831e+00  4.179410e+01  4.976558e+01  2.186404e+00  2.260569e+00   \n",
       "std    1.191288e+01  1.690739e+01  4.751073e+01  5.424242e+00  5.132258e+00   \n",
       "min    1.000000e+00  0.000000e+00  1.000000e+00  1.000000e+00  1.000000e+00   \n",
       "25%    2.000000e+00  3.000000e+01  2.000000e+00  2.000000e+00  2.000000e+00   \n",
       "50%    2.000000e+00  4.000000e+01  9.700000e+01  2.000000e+00  2.000000e+00   \n",
       "75%    2.000000e+00  5.300000e+01  9.700000e+01  2.000000e+00  2.000000e+00   \n",
       "max    9.900000e+01  1.210000e+02  9.800000e+01  9.800000e+01  9.800000e+01   \n",
       "\n",
       "             ASTHMA       INMSUPR  HIPERTENSION  OTHER_DISEASE  \\\n",
       "count  1.048575e+06  1.048575e+06  1.048575e+06   1.048575e+06   \n",
       "mean   2.242626e+00  2.298132e+00  2.128989e+00   2.435143e+00   \n",
       "std    5.114089e+00  5.462843e+00  5.236397e+00   6.646676e+00   \n",
       "min    1.000000e+00  1.000000e+00  1.000000e+00   1.000000e+00   \n",
       "25%    2.000000e+00  2.000000e+00  2.000000e+00   2.000000e+00   \n",
       "50%    2.000000e+00  2.000000e+00  2.000000e+00   2.000000e+00   \n",
       "75%    2.000000e+00  2.000000e+00  2.000000e+00   2.000000e+00   \n",
       "max    9.800000e+01  9.800000e+01  9.800000e+01   9.800000e+01   \n",
       "\n",
       "       CARDIOVASCULAR       OBESITY  RENAL_CHRONIC       TOBACCO  \\\n",
       "count    1.048575e+06  1.048575e+06   1.048575e+06  1.048575e+06   \n",
       "mean     2.261810e+00  2.125176e+00   2.257180e+00  2.214333e+00   \n",
       "std      5.194850e+00  5.175445e+00   5.135354e+00  5.323097e+00   \n",
       "min      1.000000e+00  1.000000e+00   1.000000e+00  1.000000e+00   \n",
       "25%      2.000000e+00  2.000000e+00   2.000000e+00  2.000000e+00   \n",
       "50%      2.000000e+00  2.000000e+00   2.000000e+00  2.000000e+00   \n",
       "75%      2.000000e+00  2.000000e+00   2.000000e+00  2.000000e+00   \n",
       "max      9.800000e+01  9.800000e+01   9.800000e+01  9.800000e+01   \n",
       "\n",
       "       CLASIFFICATION_FINAL           ICU  \n",
       "count          1.048575e+06  1.048575e+06  \n",
       "mean           5.305653e+00  7.955397e+01  \n",
       "std            1.881165e+00  3.682307e+01  \n",
       "min            1.000000e+00  1.000000e+00  \n",
       "25%            3.000000e+00  9.700000e+01  \n",
       "50%            6.000000e+00  9.700000e+01  \n",
       "75%            7.000000e+00  9.700000e+01  \n",
       "max            7.000000e+00  9.900000e+01  "
      ],
      "text/html": [
       "<div>\n",
       "<style scoped>\n",
       "    .dataframe tbody tr th:only-of-type {\n",
       "        vertical-align: middle;\n",
       "    }\n",
       "\n",
       "    .dataframe tbody tr th {\n",
       "        vertical-align: top;\n",
       "    }\n",
       "\n",
       "    .dataframe thead th {\n",
       "        text-align: right;\n",
       "    }\n",
       "</style>\n",
       "<table border=\"1\" class=\"dataframe\">\n",
       "  <thead>\n",
       "    <tr style=\"text-align: right;\">\n",
       "      <th></th>\n",
       "      <th>USMER</th>\n",
       "      <th>MEDICAL_UNIT</th>\n",
       "      <th>SEX</th>\n",
       "      <th>PATIENT_TYPE</th>\n",
       "      <th>INTUBED</th>\n",
       "      <th>PNEUMONIA</th>\n",
       "      <th>AGE</th>\n",
       "      <th>PREGNANT</th>\n",
       "      <th>DIABETES</th>\n",
       "      <th>COPD</th>\n",
       "      <th>ASTHMA</th>\n",
       "      <th>INMSUPR</th>\n",
       "      <th>HIPERTENSION</th>\n",
       "      <th>OTHER_DISEASE</th>\n",
       "      <th>CARDIOVASCULAR</th>\n",
       "      <th>OBESITY</th>\n",
       "      <th>RENAL_CHRONIC</th>\n",
       "      <th>TOBACCO</th>\n",
       "      <th>CLASIFFICATION_FINAL</th>\n",
       "      <th>ICU</th>\n",
       "    </tr>\n",
       "  </thead>\n",
       "  <tbody>\n",
       "    <tr>\n",
       "      <th>count</th>\n",
       "      <td>1.048575e+06</td>\n",
       "      <td>1.048575e+06</td>\n",
       "      <td>1.048575e+06</td>\n",
       "      <td>1.048575e+06</td>\n",
       "      <td>1.048575e+06</td>\n",
       "      <td>1.048575e+06</td>\n",
       "      <td>1.048575e+06</td>\n",
       "      <td>1.048575e+06</td>\n",
       "      <td>1.048575e+06</td>\n",
       "      <td>1.048575e+06</td>\n",
       "      <td>1.048575e+06</td>\n",
       "      <td>1.048575e+06</td>\n",
       "      <td>1.048575e+06</td>\n",
       "      <td>1.048575e+06</td>\n",
       "      <td>1.048575e+06</td>\n",
       "      <td>1.048575e+06</td>\n",
       "      <td>1.048575e+06</td>\n",
       "      <td>1.048575e+06</td>\n",
       "      <td>1.048575e+06</td>\n",
       "      <td>1.048575e+06</td>\n",
       "    </tr>\n",
       "    <tr>\n",
       "      <th>mean</th>\n",
       "      <td>1.632194e+00</td>\n",
       "      <td>8.980565e+00</td>\n",
       "      <td>1.499259e+00</td>\n",
       "      <td>1.190765e+00</td>\n",
       "      <td>7.952288e+01</td>\n",
       "      <td>3.346831e+00</td>\n",
       "      <td>4.179410e+01</td>\n",
       "      <td>4.976558e+01</td>\n",
       "      <td>2.186404e+00</td>\n",
       "      <td>2.260569e+00</td>\n",
       "      <td>2.242626e+00</td>\n",
       "      <td>2.298132e+00</td>\n",
       "      <td>2.128989e+00</td>\n",
       "      <td>2.435143e+00</td>\n",
       "      <td>2.261810e+00</td>\n",
       "      <td>2.125176e+00</td>\n",
       "      <td>2.257180e+00</td>\n",
       "      <td>2.214333e+00</td>\n",
       "      <td>5.305653e+00</td>\n",
       "      <td>7.955397e+01</td>\n",
       "    </tr>\n",
       "    <tr>\n",
       "      <th>std</th>\n",
       "      <td>4.822084e-01</td>\n",
       "      <td>3.723278e+00</td>\n",
       "      <td>4.999997e-01</td>\n",
       "      <td>3.929041e-01</td>\n",
       "      <td>3.686889e+01</td>\n",
       "      <td>1.191288e+01</td>\n",
       "      <td>1.690739e+01</td>\n",
       "      <td>4.751073e+01</td>\n",
       "      <td>5.424242e+00</td>\n",
       "      <td>5.132258e+00</td>\n",
       "      <td>5.114089e+00</td>\n",
       "      <td>5.462843e+00</td>\n",
       "      <td>5.236397e+00</td>\n",
       "      <td>6.646676e+00</td>\n",
       "      <td>5.194850e+00</td>\n",
       "      <td>5.175445e+00</td>\n",
       "      <td>5.135354e+00</td>\n",
       "      <td>5.323097e+00</td>\n",
       "      <td>1.881165e+00</td>\n",
       "      <td>3.682307e+01</td>\n",
       "    </tr>\n",
       "    <tr>\n",
       "      <th>min</th>\n",
       "      <td>1.000000e+00</td>\n",
       "      <td>1.000000e+00</td>\n",
       "      <td>1.000000e+00</td>\n",
       "      <td>1.000000e+00</td>\n",
       "      <td>1.000000e+00</td>\n",
       "      <td>1.000000e+00</td>\n",
       "      <td>0.000000e+00</td>\n",
       "      <td>1.000000e+00</td>\n",
       "      <td>1.000000e+00</td>\n",
       "      <td>1.000000e+00</td>\n",
       "      <td>1.000000e+00</td>\n",
       "      <td>1.000000e+00</td>\n",
       "      <td>1.000000e+00</td>\n",
       "      <td>1.000000e+00</td>\n",
       "      <td>1.000000e+00</td>\n",
       "      <td>1.000000e+00</td>\n",
       "      <td>1.000000e+00</td>\n",
       "      <td>1.000000e+00</td>\n",
       "      <td>1.000000e+00</td>\n",
       "      <td>1.000000e+00</td>\n",
       "    </tr>\n",
       "    <tr>\n",
       "      <th>25%</th>\n",
       "      <td>1.000000e+00</td>\n",
       "      <td>4.000000e+00</td>\n",
       "      <td>1.000000e+00</td>\n",
       "      <td>1.000000e+00</td>\n",
       "      <td>9.700000e+01</td>\n",
       "      <td>2.000000e+00</td>\n",
       "      <td>3.000000e+01</td>\n",
       "      <td>2.000000e+00</td>\n",
       "      <td>2.000000e+00</td>\n",
       "      <td>2.000000e+00</td>\n",
       "      <td>2.000000e+00</td>\n",
       "      <td>2.000000e+00</td>\n",
       "      <td>2.000000e+00</td>\n",
       "      <td>2.000000e+00</td>\n",
       "      <td>2.000000e+00</td>\n",
       "      <td>2.000000e+00</td>\n",
       "      <td>2.000000e+00</td>\n",
       "      <td>2.000000e+00</td>\n",
       "      <td>3.000000e+00</td>\n",
       "      <td>9.700000e+01</td>\n",
       "    </tr>\n",
       "    <tr>\n",
       "      <th>50%</th>\n",
       "      <td>2.000000e+00</td>\n",
       "      <td>1.200000e+01</td>\n",
       "      <td>1.000000e+00</td>\n",
       "      <td>1.000000e+00</td>\n",
       "      <td>9.700000e+01</td>\n",
       "      <td>2.000000e+00</td>\n",
       "      <td>4.000000e+01</td>\n",
       "      <td>9.700000e+01</td>\n",
       "      <td>2.000000e+00</td>\n",
       "      <td>2.000000e+00</td>\n",
       "      <td>2.000000e+00</td>\n",
       "      <td>2.000000e+00</td>\n",
       "      <td>2.000000e+00</td>\n",
       "      <td>2.000000e+00</td>\n",
       "      <td>2.000000e+00</td>\n",
       "      <td>2.000000e+00</td>\n",
       "      <td>2.000000e+00</td>\n",
       "      <td>2.000000e+00</td>\n",
       "      <td>6.000000e+00</td>\n",
       "      <td>9.700000e+01</td>\n",
       "    </tr>\n",
       "    <tr>\n",
       "      <th>75%</th>\n",
       "      <td>2.000000e+00</td>\n",
       "      <td>1.200000e+01</td>\n",
       "      <td>2.000000e+00</td>\n",
       "      <td>1.000000e+00</td>\n",
       "      <td>9.700000e+01</td>\n",
       "      <td>2.000000e+00</td>\n",
       "      <td>5.300000e+01</td>\n",
       "      <td>9.700000e+01</td>\n",
       "      <td>2.000000e+00</td>\n",
       "      <td>2.000000e+00</td>\n",
       "      <td>2.000000e+00</td>\n",
       "      <td>2.000000e+00</td>\n",
       "      <td>2.000000e+00</td>\n",
       "      <td>2.000000e+00</td>\n",
       "      <td>2.000000e+00</td>\n",
       "      <td>2.000000e+00</td>\n",
       "      <td>2.000000e+00</td>\n",
       "      <td>2.000000e+00</td>\n",
       "      <td>7.000000e+00</td>\n",
       "      <td>9.700000e+01</td>\n",
       "    </tr>\n",
       "    <tr>\n",
       "      <th>max</th>\n",
       "      <td>2.000000e+00</td>\n",
       "      <td>1.300000e+01</td>\n",
       "      <td>2.000000e+00</td>\n",
       "      <td>2.000000e+00</td>\n",
       "      <td>9.900000e+01</td>\n",
       "      <td>9.900000e+01</td>\n",
       "      <td>1.210000e+02</td>\n",
       "      <td>9.800000e+01</td>\n",
       "      <td>9.800000e+01</td>\n",
       "      <td>9.800000e+01</td>\n",
       "      <td>9.800000e+01</td>\n",
       "      <td>9.800000e+01</td>\n",
       "      <td>9.800000e+01</td>\n",
       "      <td>9.800000e+01</td>\n",
       "      <td>9.800000e+01</td>\n",
       "      <td>9.800000e+01</td>\n",
       "      <td>9.800000e+01</td>\n",
       "      <td>9.800000e+01</td>\n",
       "      <td>7.000000e+00</td>\n",
       "      <td>9.900000e+01</td>\n",
       "    </tr>\n",
       "  </tbody>\n",
       "</table>\n",
       "</div>"
      ]
     },
     "execution_count": 200,
     "metadata": {},
     "output_type": "execute_result"
    }
   ],
   "execution_count": 200
  },
  {
   "cell_type": "code",
   "metadata": {
    "colab": {
     "base_uri": "https://localhost:8080/",
     "height": 743
    },
    "id": "9lxfObipPYjO",
    "outputId": "51415bcb-a63b-464c-bbc1-0348e09ac218",
    "ExecuteTime": {
     "end_time": "2024-12-08T00:18:12.905593Z",
     "start_time": "2024-12-08T00:18:12.868635Z"
    }
   },
   "source": [
    "df.isnull().sum()"
   ],
   "outputs": [
    {
     "data": {
      "text/plain": [
       "USMER                   0\n",
       "MEDICAL_UNIT            0\n",
       "SEX                     0\n",
       "PATIENT_TYPE            0\n",
       "DATE_DIED               0\n",
       "INTUBED                 0\n",
       "PNEUMONIA               0\n",
       "AGE                     0\n",
       "PREGNANT                0\n",
       "DIABETES                0\n",
       "COPD                    0\n",
       "ASTHMA                  0\n",
       "INMSUPR                 0\n",
       "HIPERTENSION            0\n",
       "OTHER_DISEASE           0\n",
       "CARDIOVASCULAR          0\n",
       "OBESITY                 0\n",
       "RENAL_CHRONIC           0\n",
       "TOBACCO                 0\n",
       "CLASIFFICATION_FINAL    0\n",
       "ICU                     0\n",
       "dtype: int64"
      ]
     },
     "execution_count": 201,
     "metadata": {},
     "output_type": "execute_result"
    }
   ],
   "execution_count": 201
  },
  {
   "cell_type": "markdown",
   "metadata": {
    "id": "5NH-zuTTlzMd"
   },
   "source": [
    "## Limpieza"
   ]
  },
  {
   "metadata": {},
   "cell_type": "markdown",
   "source": "Cambiar DATE_DIED por 0 si es 9999-99-99 o 1 si es cualquier otro"
  },
  {
   "cell_type": "code",
   "metadata": {
    "ExecuteTime": {
     "end_time": "2024-12-08T00:18:13.188412Z",
     "start_time": "2024-12-08T00:18:12.954596Z"
    }
   },
   "source": [
    "def cambiar_fecha(fecha):\n",
    "    fecha = str(fecha)\n",
    "    if fecha == '9999-99-99':\n",
    "        return 0\n",
    "    else:\n",
    "        return 1\n",
    "\n",
    "df['DIED'] = df['DATE_DIED'].apply(cambiar_fecha)\n",
    "\n",
    "df = df.drop('DATE_DIED', axis=1)"
   ],
   "outputs": [],
   "execution_count": 202
  },
  {
   "cell_type": "code",
   "metadata": {
    "ExecuteTime": {
     "end_time": "2024-12-08T00:18:14.250303Z",
     "start_time": "2024-12-08T00:18:13.209648Z"
    }
   },
   "source": [
    "plt.figure(figsize=(10, 8))\n",
    "corr = df.corr()\n",
    "sns.heatmap(corr, cmap='Reds', annot=True, fmt=\".2f\", annot_kws={'size': 6})\n",
    "plt.title('Matriz de Correlación de Variables')\n",
    "plt.show()"
   ],
   "outputs": [
    {
     "data": {
      "text/plain": [
       "<Figure size 1000x800 with 2 Axes>"
      ],
      "image/png": "[encoded data removed]"
     },
     "metadata": {},
     "output_type": "display_data"
    }
   ],
   "execution_count": 203
  },
  {
   "metadata": {},
   "cell_type": "markdown",
   "source": "Quito ICU por ser una copia de INTUBED"
  },
  {
   "cell_type": "code",
   "metadata": {
    "ExecuteTime": {
     "end_time": "2024-12-08T00:18:14.301072Z",
     "start_time": "2024-12-08T00:18:14.257861Z"
    }
   },
   "source": "df = df.drop('ICU', axis=1)",
   "outputs": [],
   "execution_count": 204
  },
  {
   "metadata": {},
   "cell_type": "markdown",
   "source": "Cambiar a booleanos y a None"
  },
  {
   "cell_type": "code",
   "metadata": {
    "ExecuteTime": {
     "end_time": "2024-12-08T00:18:16.208923Z",
     "start_time": "2024-12-08T00:18:14.335648Z"
    }
   },
   "source": [
    "def to_bool(num):\n",
    "    if num == 1:\n",
    "        return 1\n",
    "\n",
    "    if num == 2:\n",
    "        return 0\n",
    "\n",
    "    return None\n",
    "\n",
    "bool_cols = ['USMER', 'INTUBED', 'PNEUMONIA', 'PREGNANT', 'DIABETES', 'COPD', 'ASTHMA', 'INMSUPR', 'HIPERTENSION', 'OTHER_DISEASE', 'CARDIOVASCULAR', 'OBESITY', 'RENAL_CHRONIC', 'TOBACCO']\n",
    "\n",
    "for col in bool_cols:\n",
    "    df[col] = df[col].apply(to_bool)"
   ],
   "outputs": [],
   "execution_count": 205
  },
  {
   "metadata": {},
   "cell_type": "markdown",
   "source": "Creo HOSPITALIZED basandome en PATIENT_TYPE"
  },
  {
   "cell_type": "code",
   "metadata": {
    "ExecuteTime": {
     "end_time": "2024-12-08T00:18:16.437147Z",
     "start_time": "2024-12-08T00:18:16.212501Z"
    }
   },
   "source": [
    "df[\"HOSPITALIZED\"] = df[\"PATIENT_TYPE\"].apply(lambda x: 1 if x == 2 else 0)\n",
    "df = df.drop('PATIENT_TYPE', axis=1)"
   ],
   "outputs": [],
   "execution_count": 206
  },
  {
   "metadata": {},
   "cell_type": "markdown",
   "source": "Quitao resultados no concluyentes (CLASIFFICATION_FINAL = 4)"
  },
  {
   "cell_type": "code",
   "metadata": {
    "ExecuteTime": {
     "end_time": "2024-12-08T00:18:16.525634Z",
     "start_time": "2024-12-08T00:18:16.453088Z"
    }
   },
   "source": [
    "rows_to_drop = df[df['CLASIFFICATION_FINAL'] == 4].index\n",
    "\n",
    "df.drop(rows_to_drop, inplace=True)"
   ],
   "outputs": [],
   "execution_count": 207
  },
  {
   "metadata": {},
   "cell_type": "markdown",
   "source": "### Tratar Nulos"
  },
  {
   "cell_type": "code",
   "metadata": {
    "ExecuteTime": {
     "end_time": "2024-12-08T00:18:16.564908Z",
     "start_time": "2024-12-08T00:18:16.543625Z"
    }
   },
   "source": [
    "df.isnull().sum()"
   ],
   "outputs": [
    {
     "data": {
      "text/plain": [
       "USMER                        0\n",
       "MEDICAL_UNIT                 0\n",
       "SEX                          0\n",
       "INTUBED                 853339\n",
       "PNEUMONIA                15992\n",
       "AGE                          0\n",
       "PREGNANT                525732\n",
       "DIABETES                  3332\n",
       "COPD                      2999\n",
       "ASTHMA                    2974\n",
       "INMSUPR                   3399\n",
       "HIPERTENSION              3101\n",
       "OTHER_DISEASE             5030\n",
       "CARDIOVASCULAR            3072\n",
       "OBESITY                   3029\n",
       "RENAL_CHRONIC             3003\n",
       "TOBACCO                   3216\n",
       "CLASIFFICATION_FINAL         0\n",
       "DIED                         0\n",
       "HOSPITALIZED                 0\n",
       "dtype: int64"
      ]
     },
     "execution_count": 208,
     "metadata": {},
     "output_type": "execute_result"
    }
   ],
   "execution_count": 208
  },
  {
   "cell_type": "markdown",
   "metadata": {},
   "source": "#### Tratar PREGNANT"
  },
  {
   "cell_type": "code",
   "metadata": {
    "ExecuteTime": {
     "end_time": "2024-12-08T00:18:16.652158Z",
     "start_time": "2024-12-08T00:18:16.599953Z"
    }
   },
   "source": [
    "df[\"PREGNANT\"].describe()"
   ],
   "outputs": [
    {
     "data": {
      "text/plain": [
       "count    519721.000000\n",
       "mean          0.015606\n",
       "std           0.123947\n",
       "min           0.000000\n",
       "25%           0.000000\n",
       "50%           0.000000\n",
       "75%           0.000000\n",
       "max           1.000000\n",
       "Name: PREGNANT, dtype: float64"
      ]
     },
     "execution_count": 209,
     "metadata": {},
     "output_type": "execute_result"
    }
   ],
   "execution_count": 209
  },
  {
   "metadata": {},
   "cell_type": "markdown",
   "source": "Pongo PREGNANT como false si es hombre"
  },
  {
   "cell_type": "code",
   "metadata": {
    "ExecuteTime": {
     "end_time": "2024-12-08T00:18:19.478168Z",
     "start_time": "2024-12-08T00:18:16.695155Z"
    }
   },
   "source": "df['PREGNANT'] = df.apply(lambda row: 0 if row['SEX'] == 2 else row['PREGNANT'], axis=1)",
   "outputs": [],
   "execution_count": 210
  },
  {
   "cell_type": "code",
   "metadata": {
    "ExecuteTime": {
     "end_time": "2024-12-08T00:18:19.515421Z",
     "start_time": "2024-12-08T00:18:19.501436Z"
    }
   },
   "source": [
    "df.isnull().sum()[\"PREGNANT\"]"
   ],
   "outputs": [
    {
     "data": {
      "text/plain": [
       "3751"
      ]
     },
     "execution_count": 211,
     "metadata": {},
     "output_type": "execute_result"
    }
   ],
   "execution_count": 211
  },
  {
   "cell_type": "code",
   "metadata": {
    "ExecuteTime": {
     "end_time": "2024-12-08T00:18:19.555368Z",
     "start_time": "2024-12-08T00:18:19.525851Z"
    }
   },
   "source": [
    "df[\"PREGNANT\"].describe()"
   ],
   "outputs": [
    {
     "data": {
      "text/plain": [
       "count    1.041702e+06\n",
       "mean     7.786296e-03\n",
       "std      8.789583e-02\n",
       "min      0.000000e+00\n",
       "25%      0.000000e+00\n",
       "50%      0.000000e+00\n",
       "75%      0.000000e+00\n",
       "max      1.000000e+00\n",
       "Name: PREGNANT, dtype: float64"
      ]
     },
     "execution_count": 212,
     "metadata": {},
     "output_type": "execute_result"
    }
   ],
   "execution_count": 212
  },
  {
   "cell_type": "markdown",
   "metadata": {},
   "source": [
    "### Tratar INTUBED"
   ]
  },
  {
   "metadata": {},
   "cell_type": "markdown",
   "source": "Por la alta correlación entre intubed y el tipo de paciente (hospitalizado) voy a ver la contigencia para poder imputar INTUBED."
  },
  {
   "cell_type": "code",
   "metadata": {
    "ExecuteTime": {
     "end_time": "2024-12-08T00:18:19.733459Z",
     "start_time": "2024-12-08T00:18:19.594636Z"
    }
   },
   "source": [
    "df['INTUBED_IS_NULL'] = df['INTUBED'].isnull().astype(int)\n",
    "\n",
    "contingency = pd.crosstab(\n",
    "    df['HOSPITALIZED'],\n",
    "    df['INTUBED_IS_NULL']\n",
    ")\n",
    "\n",
    "df = df.drop('INTUBED_IS_NULL', axis=1)\n",
    "\n",
    "print(contingency)\n",
    "\n",
    "chi2, p, dof, expected = chi2_contingency(contingency)\n",
    "\n",
    "print(f\"Chi2: {chi2}\")\n",
    "print(f\"Grados de Libertad: {dof}\")\n",
    "print(f\"P-Valor: {p}\")\n",
    "\n",
    "print(\"-----\")\n",
    "\n",
    "contingency = pd.crosstab(\n",
    "    df['HOSPITALIZED'],\n",
    "    df['INTUBED']\n",
    ")\n",
    "print(contingency)\n",
    "\n",
    "chi2, p, dof, expected = chi2_contingency(contingency)\n",
    "\n",
    "print(f\"Chi2: {chi2}\")\n",
    "print(f\"Grados de Libertad: {dof}\")\n",
    "print(f\"P-Valor: {p}\")\n",
    "\n"
   ],
   "outputs": [
    {
     "name": "stdout",
     "output_type": "stream",
     "text": [
      "INTUBED_IS_NULL       0       1\n",
      "HOSPITALIZED                   \n",
      "0                     0  846028\n",
      "1                192114    7311\n",
      "Chi2: 998491.2779551606\n",
      "Grados de Libertad: 1\n",
      "P-Valor: 0.0\n",
      "-----\n",
      "INTUBED          0.0    1.0\n",
      "HOSPITALIZED               \n",
      "1             158507  33607\n",
      "Chi2: 0.0\n",
      "Grados de Libertad: 0\n",
      "P-Valor: 1.0\n"
     ]
    }
   ],
   "execution_count": 213
  },
  {
   "cell_type": "markdown",
   "metadata": {},
   "source": [
    "#### Si no fué hospitalizado, entonces no estuvo intubado\n",
    "Después de observar la contingencia entre HOSPITALIZED y INTUBED, me doy cuenta que puedo establecer en todos los no hospitalizados el valor INTUBED como false."
   ]
  },
  {
   "cell_type": "code",
   "metadata": {
    "ExecuteTime": {
     "end_time": "2024-12-08T00:18:22.266825Z",
     "start_time": "2024-12-08T00:18:19.753522Z"
    }
   },
   "source": [
    "df['INTUBED'] = df.apply(lambda row: 0 if row['HOSPITALIZED'] == 0 else row['INTUBED'], axis=1)"
   ],
   "outputs": [],
   "execution_count": 214
  },
  {
   "cell_type": "code",
   "metadata": {
    "ExecuteTime": {
     "end_time": "2024-12-08T00:18:22.285759Z",
     "start_time": "2024-12-08T00:18:22.271185Z"
    }
   },
   "source": [
    "df.isnull().sum()[\"INTUBED\"]"
   ],
   "outputs": [
    {
     "data": {
      "text/plain": [
       "7311"
      ]
     },
     "execution_count": 215,
     "metadata": {},
     "output_type": "execute_result"
    }
   ],
   "execution_count": 215
  },
  {
   "cell_type": "markdown",
   "metadata": {},
   "source": "#### Imputar nulos restantes"
  },
  {
   "cell_type": "code",
   "metadata": {
    "ExecuteTime": {
     "end_time": "2024-12-08T00:18:22.317427Z",
     "start_time": "2024-12-08T00:18:22.304766Z"
    }
   },
   "source": [
    "df.isnull().sum()"
   ],
   "outputs": [
    {
     "data": {
      "text/plain": [
       "USMER                       0\n",
       "MEDICAL_UNIT                0\n",
       "SEX                         0\n",
       "INTUBED                  7311\n",
       "PNEUMONIA               15992\n",
       "AGE                         0\n",
       "PREGNANT                 3751\n",
       "DIABETES                 3332\n",
       "COPD                     2999\n",
       "ASTHMA                   2974\n",
       "INMSUPR                  3399\n",
       "HIPERTENSION             3101\n",
       "OTHER_DISEASE            5030\n",
       "CARDIOVASCULAR           3072\n",
       "OBESITY                  3029\n",
       "RENAL_CHRONIC            3003\n",
       "TOBACCO                  3216\n",
       "CLASIFFICATION_FINAL        0\n",
       "DIED                        0\n",
       "HOSPITALIZED                0\n",
       "dtype: int64"
      ]
     },
     "execution_count": 216,
     "metadata": {},
     "output_type": "execute_result"
    }
   ],
   "execution_count": 216
  },
  {
   "cell_type": "code",
   "metadata": {
    "ExecuteTime": {
     "end_time": "2024-12-08T00:19:30.847476Z",
     "start_time": "2024-12-08T00:18:22.352096Z"
    }
   },
   "source": [
    "df_impute = df.copy()\n",
    "\n",
    "iter_imputer = IterativeImputer(max_iter=10, random_state=42, initial_strategy='most_frequent')\n",
    "\n",
    "df_impute[bool_cols] = iter_imputer.fit_transform(df_impute[bool_cols])\n",
    "\n",
    "df_impute[bool_cols] = df_impute[bool_cols].round().astype(int)\n",
    "\n",
    "df[bool_cols] = df_impute[bool_cols]\n",
    "\n",
    "print(\"\\nValores faltantes después de imputar con IterativeImputer:\")\n",
    "print(df[bool_cols].isnull().sum())"
   ],
   "outputs": [
    {
     "name": "stdout",
     "output_type": "stream",
     "text": [
      "\n",
      "Valores faltantes después de imputar con IterativeImputer:\n",
      "USMER             0\n",
      "INTUBED           0\n",
      "PNEUMONIA         0\n",
      "PREGNANT          0\n",
      "DIABETES          0\n",
      "COPD              0\n",
      "ASTHMA            0\n",
      "INMSUPR           0\n",
      "HIPERTENSION      0\n",
      "OTHER_DISEASE     0\n",
      "CARDIOVASCULAR    0\n",
      "OBESITY           0\n",
      "RENAL_CHRONIC     0\n",
      "TOBACCO           0\n",
      "dtype: int64\n"
     ]
    }
   ],
   "execution_count": 217
  },
  {
   "metadata": {},
   "cell_type": "markdown",
   "source": "Comprobar valores únicos"
  },
  {
   "cell_type": "code",
   "metadata": {
    "ExecuteTime": {
     "end_time": "2024-12-08T00:19:30.956717Z",
     "start_time": "2024-12-08T00:19:30.905869Z"
    }
   },
   "source": [
    "for col in bool_cols:\n",
    "    unique_values = df[col].unique()\n",
    "    print(f\"\\nValores únicos en {col}: {unique_values}\")"
   ],
   "outputs": [
    {
     "name": "stdout",
     "output_type": "stream",
     "text": [
      "\n",
      "Valores únicos en USMER: [0 1]\n",
      "\n",
      "Valores únicos en INTUBED: [0 1]\n",
      "\n",
      "Valores únicos en PNEUMONIA: [1 0]\n",
      "\n",
      "Valores únicos en PREGNANT: [0 1]\n",
      "\n",
      "Valores únicos en DIABETES: [0 1]\n",
      "\n",
      "Valores únicos en COPD: [0 1]\n",
      "\n",
      "Valores únicos en ASTHMA: [0 1]\n",
      "\n",
      "Valores únicos en INMSUPR: [0 1]\n",
      "\n",
      "Valores únicos en HIPERTENSION: [1 0]\n",
      "\n",
      "Valores únicos en OTHER_DISEASE: [0 1]\n",
      "\n",
      "Valores únicos en CARDIOVASCULAR: [0 1]\n",
      "\n",
      "Valores únicos en OBESITY: [0 1]\n",
      "\n",
      "Valores únicos en RENAL_CHRONIC: [0 1]\n",
      "\n",
      "Valores únicos en TOBACCO: [0 1]\n"
     ]
    }
   ],
   "execution_count": 218
  },
  {
   "cell_type": "code",
   "metadata": {
    "ExecuteTime": {
     "end_time": "2024-12-08T00:19:31.018089Z",
     "start_time": "2024-12-08T00:19:30.962260Z"
    }
   },
   "source": [
    "for col in bool_cols:\n",
    "    counts = df[col].value_counts().sort_index()\n",
    "    print(f\"\\nDistribución de {col}:\")\n",
    "    print(counts)"
   ],
   "outputs": [
    {
     "name": "stdout",
     "output_type": "stream",
     "text": [
      "\n",
      "Distribución de USMER:\n",
      "USMER\n",
      "0    660561\n",
      "1    384892\n",
      "Name: count, dtype: int64\n",
      "\n",
      "Distribución de INTUBED:\n",
      "INTUBED\n",
      "0    1011846\n",
      "1      33607\n",
      "Name: count, dtype: int64\n",
      "\n",
      "Distribución de PNEUMONIA:\n",
      "PNEUMONIA\n",
      "0    905623\n",
      "1    139830\n",
      "Name: count, dtype: int64\n",
      "\n",
      "Distribución de PREGNANT:\n",
      "PREGNANT\n",
      "0    1037342\n",
      "1       8111\n",
      "Name: count, dtype: int64\n",
      "\n",
      "Distribución de DIABETES:\n",
      "DIABETES\n",
      "0    920799\n",
      "1    124654\n",
      "Name: count, dtype: int64\n",
      "\n",
      "Distribución de COPD:\n",
      "COPD\n",
      "0    1030438\n",
      "1      15015\n",
      "Name: count, dtype: int64\n",
      "\n",
      "Distribución de ASTHMA:\n",
      "ASTHMA\n",
      "0    1013950\n",
      "1      31503\n",
      "Name: count, dtype: int64\n",
      "\n",
      "Distribución de INMSUPR:\n",
      "INMSUPR\n",
      "0    1031316\n",
      "1      14137\n",
      "Name: count, dtype: int64\n",
      "\n",
      "Distribución de HIPERTENSION:\n",
      "HIPERTENSION\n",
      "0    883010\n",
      "1    162443\n",
      "Name: count, dtype: int64\n",
      "\n",
      "Distribución de OTHER_DISEASE:\n",
      "OTHER_DISEASE\n",
      "0    1017437\n",
      "1      28016\n",
      "Name: count, dtype: int64\n",
      "\n",
      "Distribución de CARDIOVASCULAR:\n",
      "CARDIOVASCULAR\n",
      "0    1024740\n",
      "1      20713\n",
      "Name: count, dtype: int64\n",
      "\n",
      "Distribución de OBESITY:\n",
      "OBESITY\n",
      "0    886075\n",
      "1    159378\n",
      "Name: count, dtype: int64\n",
      "\n",
      "Distribución de RENAL_CHRONIC:\n",
      "RENAL_CHRONIC\n",
      "0    1026600\n",
      "1      18853\n",
      "Name: count, dtype: int64\n",
      "\n",
      "Distribución de TOBACCO:\n",
      "TOBACCO\n",
      "0    961368\n",
      "1     84085\n",
      "Name: count, dtype: int64\n"
     ]
    }
   ],
   "execution_count": 219
  },
  {
   "metadata": {},
   "cell_type": "markdown",
   "source": "## Guradar y cargar datos limpios"
  },
  {
   "metadata": {
    "ExecuteTime": {
     "end_time": "2024-12-08T00:19:33.090595Z",
     "start_time": "2024-12-08T00:19:31.034597Z"
    }
   },
   "cell_type": "code",
   "source": "df.to_csv(\"./clean_covid_data.csv\", index=False)",
   "outputs": [],
   "execution_count": 220
  },
  {
   "metadata": {
    "ExecuteTime": {
     "end_time": "2024-12-08T04:12:46.281136Z",
     "start_time": "2024-12-08T04:12:45.756417Z"
    }
   },
   "cell_type": "code",
   "source": [
    "df = pd.read_csv(\"./clean_covid_data.csv\")\n",
    "df = df.rename(columns = lambda x:re.sub('[^A-Za-z0-9_]+', '', x))"
   ],
   "outputs": [],
   "execution_count": 327
  },
  {
   "metadata": {},
   "cell_type": "markdown",
   "source": "## Análisis exploratorio de datos limpios"
  },
  {
   "cell_type": "code",
   "metadata": {
    "ExecuteTime": {
     "end_time": "2024-12-08T00:33:36.344401Z",
     "start_time": "2024-12-08T00:33:35.286760Z"
    }
   },
   "source": [
    "plt.figure(figsize=(10, 8))\n",
    "corr = df.corr()\n",
    "sns.heatmap(corr, cmap='Reds', annot=True, fmt=\".2f\", annot_kws={'size': 6})\n",
    "plt.title('Matriz de Correlación de Variables')\n",
    "plt.show()"
   ],
   "outputs": [
    {
     "data": {
      "text/plain": [
       "<Figure size 1000x800 with 2 Axes>"
      ],
      "image/png": "[encoded data removed]"
     },
     "metadata": {},
     "output_type": "display_data"
    }
   ],
   "execution_count": 249
  },
  {
   "cell_type": "code",
   "metadata": {
    "ExecuteTime": {
     "end_time": "2024-12-08T00:20:22.273212Z",
     "start_time": "2024-12-08T00:20:22.258142Z"
    }
   },
   "source": "df.info()",
   "outputs": [
    {
     "name": "stdout",
     "output_type": "stream",
     "text": [
      "<class 'pandas.core.frame.DataFrame'>\n",
      "RangeIndex: 1045453 entries, 0 to 1045452\n",
      "Data columns (total 20 columns):\n",
      " #   Column                Non-Null Count    Dtype\n",
      "---  ------                --------------    -----\n",
      " 0   USMER                 1045453 non-null  int64\n",
      " 1   MEDICAL_UNIT          1045453 non-null  int64\n",
      " 2   SEX                   1045453 non-null  int64\n",
      " 3   INTUBED               1045453 non-null  int64\n",
      " 4   PNEUMONIA             1045453 non-null  int64\n",
      " 5   AGE                   1045453 non-null  int64\n",
      " 6   PREGNANT              1045453 non-null  int64\n",
      " 7   DIABETES              1045453 non-null  int64\n",
      " 8   COPD                  1045453 non-null  int64\n",
      " 9   ASTHMA                1045453 non-null  int64\n",
      " 10  INMSUPR               1045453 non-null  int64\n",
      " 11  HIPERTENSION          1045453 non-null  int64\n",
      " 12  OTHER_DISEASE         1045453 non-null  int64\n",
      " 13  CARDIOVASCULAR        1045453 non-null  int64\n",
      " 14  OBESITY               1045453 non-null  int64\n",
      " 15  RENAL_CHRONIC         1045453 non-null  int64\n",
      " 16  TOBACCO               1045453 non-null  int64\n",
      " 17  CLASIFFICATION_FINAL  1045453 non-null  int64\n",
      " 18  DIED                  1045453 non-null  int64\n",
      " 19  HOSPITALIZED          1045453 non-null  int64\n",
      "dtypes: int64(20)\n",
      "memory usage: 159.5 MB\n"
     ]
    }
   ],
   "execution_count": 224
  },
  {
   "cell_type": "code",
   "metadata": {
    "ExecuteTime": {
     "end_time": "2024-12-08T00:20:22.638535Z",
     "start_time": "2024-12-08T00:20:22.315881Z"
    }
   },
   "source": "df.describe()",
   "outputs": [
    {
     "data": {
      "text/plain": [
       "              USMER  MEDICAL_UNIT           SEX       INTUBED     PNEUMONIA  \\\n",
       "count  1.045453e+06  1.045453e+06  1.045453e+06  1.045453e+06  1.045453e+06   \n",
       "mean   3.681581e-01  8.973974e+00  1.499287e+00  3.214587e-02  1.337506e-01   \n",
       "std    4.823048e-01  3.724575e+00  4.999997e-01  1.763875e-01  3.403844e-01   \n",
       "min    0.000000e+00  1.000000e+00  1.000000e+00  0.000000e+00  0.000000e+00   \n",
       "25%    0.000000e+00  4.000000e+00  1.000000e+00  0.000000e+00  0.000000e+00   \n",
       "50%    0.000000e+00  1.200000e+01  1.000000e+00  0.000000e+00  0.000000e+00   \n",
       "75%    1.000000e+00  1.200000e+01  2.000000e+00  0.000000e+00  0.000000e+00   \n",
       "max    1.000000e+00  1.300000e+01  2.000000e+00  1.000000e+00  1.000000e+00   \n",
       "\n",
       "                AGE      PREGNANT      DIABETES          COPD        ASTHMA  \\\n",
       "count  1.045453e+06  1.045453e+06  1.045453e+06  1.045453e+06  1.045453e+06   \n",
       "mean   4.179397e+01  7.758359e-03  1.192344e-01  1.436220e-02  3.013335e-02   \n",
       "std    1.690858e+01  8.773924e-02  3.240643e-01  1.189787e-01  1.709543e-01   \n",
       "min    0.000000e+00  0.000000e+00  0.000000e+00  0.000000e+00  0.000000e+00   \n",
       "25%    3.000000e+01  0.000000e+00  0.000000e+00  0.000000e+00  0.000000e+00   \n",
       "50%    4.000000e+01  0.000000e+00  0.000000e+00  0.000000e+00  0.000000e+00   \n",
       "75%    5.300000e+01  0.000000e+00  0.000000e+00  0.000000e+00  0.000000e+00   \n",
       "max    1.210000e+02  1.000000e+00  1.000000e+00  1.000000e+00  1.000000e+00   \n",
       "\n",
       "            INMSUPR  HIPERTENSION  OTHER_DISEASE  CARDIOVASCULAR  \\\n",
       "count  1.045453e+06  1.045453e+06   1.045453e+06    1.045453e+06   \n",
       "mean   1.352237e-02  1.553805e-01   2.679795e-02    1.981246e-02   \n",
       "std    1.154969e-01  3.622672e-01   1.614926e-01    1.393555e-01   \n",
       "min    0.000000e+00  0.000000e+00   0.000000e+00    0.000000e+00   \n",
       "25%    0.000000e+00  0.000000e+00   0.000000e+00    0.000000e+00   \n",
       "50%    0.000000e+00  0.000000e+00   0.000000e+00    0.000000e+00   \n",
       "75%    0.000000e+00  0.000000e+00   0.000000e+00    0.000000e+00   \n",
       "max    1.000000e+00  1.000000e+00   1.000000e+00    1.000000e+00   \n",
       "\n",
       "            OBESITY  RENAL_CHRONIC       TOBACCO  CLASIFFICATION_FINAL  \\\n",
       "count  1.045453e+06   1.045453e+06  1.045453e+06          1.045453e+06   \n",
       "mean   1.524487e-01   1.803333e-02  8.042925e-02          5.309552e+00   \n",
       "std    3.594555e-01   1.330720e-01  2.719567e-01          1.882617e+00   \n",
       "min    0.000000e+00   0.000000e+00  0.000000e+00          1.000000e+00   \n",
       "25%    0.000000e+00   0.000000e+00  0.000000e+00          3.000000e+00   \n",
       "50%    0.000000e+00   0.000000e+00  0.000000e+00          6.000000e+00   \n",
       "75%    0.000000e+00   0.000000e+00  0.000000e+00          7.000000e+00   \n",
       "max    1.000000e+00   1.000000e+00  1.000000e+00          7.000000e+00   \n",
       "\n",
       "               DIED  HOSPITALIZED  \n",
       "count  1.045453e+06  1.045453e+06  \n",
       "mean   7.345524e-02  1.907546e-01  \n",
       "std    2.608824e-01  3.928962e-01  \n",
       "min    0.000000e+00  0.000000e+00  \n",
       "25%    0.000000e+00  0.000000e+00  \n",
       "50%    0.000000e+00  0.000000e+00  \n",
       "75%    0.000000e+00  0.000000e+00  \n",
       "max    1.000000e+00  1.000000e+00  "
      ],
      "text/html": [
       "<div>\n",
       "<style scoped>\n",
       "    .dataframe tbody tr th:only-of-type {\n",
       "        vertical-align: middle;\n",
       "    }\n",
       "\n",
       "    .dataframe tbody tr th {\n",
       "        vertical-align: top;\n",
       "    }\n",
       "\n",
       "    .dataframe thead th {\n",
       "        text-align: right;\n",
       "    }\n",
       "</style>\n",
       "<table border=\"1\" class=\"dataframe\">\n",
       "  <thead>\n",
       "    <tr style=\"text-align: right;\">\n",
       "      <th></th>\n",
       "      <th>USMER</th>\n",
       "      <th>MEDICAL_UNIT</th>\n",
       "      <th>SEX</th>\n",
       "      <th>INTUBED</th>\n",
       "      <th>PNEUMONIA</th>\n",
       "      <th>AGE</th>\n",
       "      <th>PREGNANT</th>\n",
       "      <th>DIABETES</th>\n",
       "      <th>COPD</th>\n",
       "      <th>ASTHMA</th>\n",
       "      <th>INMSUPR</th>\n",
       "      <th>HIPERTENSION</th>\n",
       "      <th>OTHER_DISEASE</th>\n",
       "      <th>CARDIOVASCULAR</th>\n",
       "      <th>OBESITY</th>\n",
       "      <th>RENAL_CHRONIC</th>\n",
       "      <th>TOBACCO</th>\n",
       "      <th>CLASIFFICATION_FINAL</th>\n",
       "      <th>DIED</th>\n",
       "      <th>HOSPITALIZED</th>\n",
       "    </tr>\n",
       "  </thead>\n",
       "  <tbody>\n",
       "    <tr>\n",
       "      <th>count</th>\n",
       "      <td>1.045453e+06</td>\n",
       "      <td>1.045453e+06</td>\n",
       "      <td>1.045453e+06</td>\n",
       "      <td>1.045453e+06</td>\n",
       "      <td>1.045453e+06</td>\n",
       "      <td>1.045453e+06</td>\n",
       "      <td>1.045453e+06</td>\n",
       "      <td>1.045453e+06</td>\n",
       "      <td>1.045453e+06</td>\n",
       "      <td>1.045453e+06</td>\n",
       "      <td>1.045453e+06</td>\n",
       "      <td>1.045453e+06</td>\n",
       "      <td>1.045453e+06</td>\n",
       "      <td>1.045453e+06</td>\n",
       "      <td>1.045453e+06</td>\n",
       "      <td>1.045453e+06</td>\n",
       "      <td>1.045453e+06</td>\n",
       "      <td>1.045453e+06</td>\n",
       "      <td>1.045453e+06</td>\n",
       "      <td>1.045453e+06</td>\n",
       "    </tr>\n",
       "    <tr>\n",
       "      <th>mean</th>\n",
       "      <td>3.681581e-01</td>\n",
       "      <td>8.973974e+00</td>\n",
       "      <td>1.499287e+00</td>\n",
       "      <td>3.214587e-02</td>\n",
       "      <td>1.337506e-01</td>\n",
       "      <td>4.179397e+01</td>\n",
       "      <td>7.758359e-03</td>\n",
       "      <td>1.192344e-01</td>\n",
       "      <td>1.436220e-02</td>\n",
       "      <td>3.013335e-02</td>\n",
       "      <td>1.352237e-02</td>\n",
       "      <td>1.553805e-01</td>\n",
       "      <td>2.679795e-02</td>\n",
       "      <td>1.981246e-02</td>\n",
       "      <td>1.524487e-01</td>\n",
       "      <td>1.803333e-02</td>\n",
       "      <td>8.042925e-02</td>\n",
       "      <td>5.309552e+00</td>\n",
       "      <td>7.345524e-02</td>\n",
       "      <td>1.907546e-01</td>\n",
       "    </tr>\n",
       "    <tr>\n",
       "      <th>std</th>\n",
       "      <td>4.823048e-01</td>\n",
       "      <td>3.724575e+00</td>\n",
       "      <td>4.999997e-01</td>\n",
       "      <td>1.763875e-01</td>\n",
       "      <td>3.403844e-01</td>\n",
       "      <td>1.690858e+01</td>\n",
       "      <td>8.773924e-02</td>\n",
       "      <td>3.240643e-01</td>\n",
       "      <td>1.189787e-01</td>\n",
       "      <td>1.709543e-01</td>\n",
       "      <td>1.154969e-01</td>\n",
       "      <td>3.622672e-01</td>\n",
       "      <td>1.614926e-01</td>\n",
       "      <td>1.393555e-01</td>\n",
       "      <td>3.594555e-01</td>\n",
       "      <td>1.330720e-01</td>\n",
       "      <td>2.719567e-01</td>\n",
       "      <td>1.882617e+00</td>\n",
       "      <td>2.608824e-01</td>\n",
       "      <td>3.928962e-01</td>\n",
       "    </tr>\n",
       "    <tr>\n",
       "      <th>min</th>\n",
       "      <td>0.000000e+00</td>\n",
       "      <td>1.000000e+00</td>\n",
       "      <td>1.000000e+00</td>\n",
       "      <td>0.000000e+00</td>\n",
       "      <td>0.000000e+00</td>\n",
       "      <td>0.000000e+00</td>\n",
       "      <td>0.000000e+00</td>\n",
       "      <td>0.000000e+00</td>\n",
       "      <td>0.000000e+00</td>\n",
       "      <td>0.000000e+00</td>\n",
       "      <td>0.000000e+00</td>\n",
       "      <td>0.000000e+00</td>\n",
       "      <td>0.000000e+00</td>\n",
       "      <td>0.000000e+00</td>\n",
       "      <td>0.000000e+00</td>\n",
       "      <td>0.000000e+00</td>\n",
       "      <td>0.000000e+00</td>\n",
       "      <td>1.000000e+00</td>\n",
       "      <td>0.000000e+00</td>\n",
       "      <td>0.000000e+00</td>\n",
       "    </tr>\n",
       "    <tr>\n",
       "      <th>25%</th>\n",
       "      <td>0.000000e+00</td>\n",
       "      <td>4.000000e+00</td>\n",
       "      <td>1.000000e+00</td>\n",
       "      <td>0.000000e+00</td>\n",
       "      <td>0.000000e+00</td>\n",
       "      <td>3.000000e+01</td>\n",
       "      <td>0.000000e+00</td>\n",
       "      <td>0.000000e+00</td>\n",
       "      <td>0.000000e+00</td>\n",
       "      <td>0.000000e+00</td>\n",
       "      <td>0.000000e+00</td>\n",
       "      <td>0.000000e+00</td>\n",
       "      <td>0.000000e+00</td>\n",
       "      <td>0.000000e+00</td>\n",
       "      <td>0.000000e+00</td>\n",
       "      <td>0.000000e+00</td>\n",
       "      <td>0.000000e+00</td>\n",
       "      <td>3.000000e+00</td>\n",
       "      <td>0.000000e+00</td>\n",
       "      <td>0.000000e+00</td>\n",
       "    </tr>\n",
       "    <tr>\n",
       "      <th>50%</th>\n",
       "      <td>0.000000e+00</td>\n",
       "      <td>1.200000e+01</td>\n",
       "      <td>1.000000e+00</td>\n",
       "      <td>0.000000e+00</td>\n",
       "      <td>0.000000e+00</td>\n",
       "      <td>4.000000e+01</td>\n",
       "      <td>0.000000e+00</td>\n",
       "      <td>0.000000e+00</td>\n",
       "      <td>0.000000e+00</td>\n",
       "      <td>0.000000e+00</td>\n",
       "      <td>0.000000e+00</td>\n",
       "      <td>0.000000e+00</td>\n",
       "      <td>0.000000e+00</td>\n",
       "      <td>0.000000e+00</td>\n",
       "      <td>0.000000e+00</td>\n",
       "      <td>0.000000e+00</td>\n",
       "      <td>0.000000e+00</td>\n",
       "      <td>6.000000e+00</td>\n",
       "      <td>0.000000e+00</td>\n",
       "      <td>0.000000e+00</td>\n",
       "    </tr>\n",
       "    <tr>\n",
       "      <th>75%</th>\n",
       "      <td>1.000000e+00</td>\n",
       "      <td>1.200000e+01</td>\n",
       "      <td>2.000000e+00</td>\n",
       "      <td>0.000000e+00</td>\n",
       "      <td>0.000000e+00</td>\n",
       "      <td>5.300000e+01</td>\n",
       "      <td>0.000000e+00</td>\n",
       "      <td>0.000000e+00</td>\n",
       "      <td>0.000000e+00</td>\n",
       "      <td>0.000000e+00</td>\n",
       "      <td>0.000000e+00</td>\n",
       "      <td>0.000000e+00</td>\n",
       "      <td>0.000000e+00</td>\n",
       "      <td>0.000000e+00</td>\n",
       "      <td>0.000000e+00</td>\n",
       "      <td>0.000000e+00</td>\n",
       "      <td>0.000000e+00</td>\n",
       "      <td>7.000000e+00</td>\n",
       "      <td>0.000000e+00</td>\n",
       "      <td>0.000000e+00</td>\n",
       "    </tr>\n",
       "    <tr>\n",
       "      <th>max</th>\n",
       "      <td>1.000000e+00</td>\n",
       "      <td>1.300000e+01</td>\n",
       "      <td>2.000000e+00</td>\n",
       "      <td>1.000000e+00</td>\n",
       "      <td>1.000000e+00</td>\n",
       "      <td>1.210000e+02</td>\n",
       "      <td>1.000000e+00</td>\n",
       "      <td>1.000000e+00</td>\n",
       "      <td>1.000000e+00</td>\n",
       "      <td>1.000000e+00</td>\n",
       "      <td>1.000000e+00</td>\n",
       "      <td>1.000000e+00</td>\n",
       "      <td>1.000000e+00</td>\n",
       "      <td>1.000000e+00</td>\n",
       "      <td>1.000000e+00</td>\n",
       "      <td>1.000000e+00</td>\n",
       "      <td>1.000000e+00</td>\n",
       "      <td>7.000000e+00</td>\n",
       "      <td>1.000000e+00</td>\n",
       "      <td>1.000000e+00</td>\n",
       "    </tr>\n",
       "  </tbody>\n",
       "</table>\n",
       "</div>"
      ]
     },
     "execution_count": 225,
     "metadata": {},
     "output_type": "execute_result"
    }
   ],
   "execution_count": 225
  },
  {
   "metadata": {
    "ExecuteTime": {
     "end_time": "2024-12-08T00:20:22.687016Z",
     "start_time": "2024-12-08T00:20:22.676079Z"
    }
   },
   "cell_type": "code",
   "source": "df.isnull().sum()",
   "outputs": [
    {
     "data": {
      "text/plain": [
       "USMER                   0\n",
       "MEDICAL_UNIT            0\n",
       "SEX                     0\n",
       "INTUBED                 0\n",
       "PNEUMONIA               0\n",
       "AGE                     0\n",
       "PREGNANT                0\n",
       "DIABETES                0\n",
       "COPD                    0\n",
       "ASTHMA                  0\n",
       "INMSUPR                 0\n",
       "HIPERTENSION            0\n",
       "OTHER_DISEASE           0\n",
       "CARDIOVASCULAR          0\n",
       "OBESITY                 0\n",
       "RENAL_CHRONIC           0\n",
       "TOBACCO                 0\n",
       "CLASIFFICATION_FINAL    0\n",
       "DIED                    0\n",
       "HOSPITALIZED            0\n",
       "dtype: int64"
      ]
     },
     "execution_count": 226,
     "metadata": {},
     "output_type": "execute_result"
    }
   ],
   "execution_count": 226
  },
  {
   "metadata": {},
   "cell_type": "markdown",
   "source": "# Entrenar Modelos"
  },
  {
   "cell_type": "markdown",
   "metadata": {},
   "source": [
    "## Separar Entrenamiento y Test"
   ]
  },
  {
   "cell_type": "code",
   "metadata": {
    "ExecuteTime": {
     "end_time": "2024-12-08T04:12:55.814496Z",
     "start_time": "2024-12-08T04:12:55.466515Z"
    }
   },
   "source": [
    "y = df['DIED']\n",
    "X = df.drop('DIED', axis=1)\n",
    "\n",
    "X_train, X_test, y_train, y_test = train_test_split(X, y, test_size=0.3, random_state=42, stratify=y)"
   ],
   "outputs": [],
   "execution_count": 328
  },
  {
   "cell_type": "code",
   "metadata": {
    "ExecuteTime": {
     "end_time": "2024-12-08T00:20:23.057636Z",
     "start_time": "2024-12-08T00:20:23.054087Z"
    }
   },
   "source": [
    "def metrics(y_test, y_pred, y_pred_proba):\n",
    "    cm = confusion_matrix(y_test, y_pred)\n",
    "    prec = precision_score(y_test, y_pred, zero_division=0)\n",
    "    rec = recall_score(y_test, y_pred, zero_division=0)\n",
    "    f1 = f1_score(y_test, y_pred, zero_division=0)\n",
    "\n",
    "    auc = roc_auc_score(y_test, y_pred_proba[:, 1])\n",
    "\n",
    "    print(\"Matriz de Confusión:\")\n",
    "    print(cm)\n",
    "    print(f\"Precisión (Precision): {prec:.4f}\")\n",
    "    print(f\"Sensibilidad (Recall): {rec:.4f}\")\n",
    "    print(f\"F1-Score: {f1:.4f}\")\n",
    "    print(f\"AUC-ROC: {auc:.4f}\")\n",
    "    print(f\"Accuracy Score: {accuracy_score(y_test, y_pred):.4f}\" )"
   ],
   "outputs": [],
   "execution_count": 228
  },
  {
   "cell_type": "code",
   "metadata": {
    "ExecuteTime": {
     "end_time": "2024-12-08T00:20:31.392200Z",
     "start_time": "2024-12-08T00:20:23.086958Z"
    }
   },
   "source": [
    "logreg = LogisticRegression(max_iter=100000000)\n",
    "logreg.fit(X_train, y_train)\n",
    "y_pred = logreg.predict(X_test)\n",
    "y_pred_proba = logreg.predict_proba(X_test)\n",
    "metrics(y_test, y_pred, y_pred_proba)"
   ],
   "outputs": [
    {
     "name": "stdout",
     "output_type": "stream",
     "text": [
      "Matriz de Confusión:\n",
      "[[285888   4710]\n",
      " [ 11597  11441]]\n",
      "Precisión (Precision): 0.7084\n",
      "Sensibilidad (Recall): 0.4966\n",
      "F1-Score: 0.5839\n",
      "AUC-ROC: 0.9607\n",
      "Accuracy Score: 0.9480\n"
     ]
    }
   ],
   "execution_count": 229
  },
  {
   "cell_type": "code",
   "metadata": {
    "ExecuteTime": {
     "end_time": "2024-12-08T00:21:10.366681Z",
     "start_time": "2024-12-08T00:20:31.408707Z"
    }
   },
   "source": [
    "rf = RandomForestClassifier(random_state=42)\n",
    "rf.fit(X_train, y_train)\n",
    "y_pred = rf.predict(X_test)\n",
    "y_pred_proba = rf.predict_proba(X_test)\n",
    "metrics(y_test, y_pred, y_pred_proba)"
   ],
   "outputs": [
    {
     "name": "stdout",
     "output_type": "stream",
     "text": [
      "Matriz de Confusión:\n",
      "[[283785   6813]\n",
      " [ 10899  12139]]\n",
      "Precisión (Precision): 0.6405\n",
      "Sensibilidad (Recall): 0.5269\n",
      "F1-Score: 0.5782\n",
      "AUC-ROC: 0.9398\n",
      "Accuracy Score: 0.9435\n"
     ]
    }
   ],
   "execution_count": 230
  },
  {
   "cell_type": "code",
   "metadata": {
    "ExecuteTime": {
     "end_time": "2024-12-08T00:21:11.994007Z",
     "start_time": "2024-12-08T00:21:10.426867Z"
    }
   },
   "source": [
    "dt = DecisionTreeClassifier(random_state=42)\n",
    "dt.fit(X_train, y_train)\n",
    "y_pred = dt.predict(X_test)\n",
    "y_pred_proba = dt.predict_proba(X_test)\n",
    "metrics(y_test, y_pred, y_pred_proba)"
   ],
   "outputs": [
    {
     "name": "stdout",
     "output_type": "stream",
     "text": [
      "Matriz de Confusión:\n",
      "[[283128   7470]\n",
      " [ 11692  11346]]\n",
      "Precisión (Precision): 0.6030\n",
      "Sensibilidad (Recall): 0.4925\n",
      "F1-Score: 0.5422\n",
      "AUC-ROC: 0.8241\n",
      "Accuracy Score: 0.9389\n"
     ]
    }
   ],
   "execution_count": 231
  },
  {
   "cell_type": "code",
   "metadata": {
    "ExecuteTime": {
     "end_time": "2024-12-08T00:21:44.235846Z",
     "start_time": "2024-12-08T00:21:11.998033Z"
    }
   },
   "source": [
    "gbc = GradientBoostingClassifier(n_estimators=100, learning_rate=0.1, random_state=42)\n",
    "gbc.fit(X_train, y_train)\n",
    "y_pred = gbc.predict(X_test)\n",
    "y_pred_proba = gbc.predict_proba(X_test)\n",
    "metrics(y_test, y_pred, y_pred_proba)"
   ],
   "outputs": [
    {
     "name": "stdout",
     "output_type": "stream",
     "text": [
      "Matriz de Confusión:\n",
      "[[285969   4629]\n",
      " [ 10893  12145]]\n",
      "Precisión (Precision): 0.7240\n",
      "Sensibilidad (Recall): 0.5272\n",
      "F1-Score: 0.6101\n",
      "AUC-ROC: 0.9660\n",
      "Accuracy Score: 0.9505\n"
     ]
    }
   ],
   "execution_count": 232
  },
  {
   "cell_type": "code",
   "metadata": {
    "ExecuteTime": {
     "end_time": "2024-12-08T00:21:44.796669Z",
     "start_time": "2024-12-08T00:21:44.265167Z"
    }
   },
   "source": [
    "nb = GaussianNB()\n",
    "nb.fit(X_train, y_train)\n",
    "y_pred = nb.predict(X_test)\n",
    "y_pred_proba = nb.predict_proba(X_test)\n",
    "metrics(y_test, y_pred, y_pred_proba)"
   ],
   "outputs": [
    {
     "name": "stdout",
     "output_type": "stream",
     "text": [
      "Matriz de Confusión:\n",
      "[[261622  28976]\n",
      " [  4715  18323]]\n",
      "Precisión (Precision): 0.3874\n",
      "Sensibilidad (Recall): 0.7953\n",
      "F1-Score: 0.5210\n",
      "AUC-ROC: 0.9369\n",
      "Accuracy Score: 0.8926\n"
     ]
    }
   ],
   "execution_count": 233
  },
  {
   "cell_type": "code",
   "metadata": {
    "ExecuteTime": {
     "end_time": "2024-12-08T00:23:05.516576Z",
     "start_time": "2024-12-08T00:21:44.814456Z"
    }
   },
   "source": [
    "mlp = MLPClassifier(random_state=42)\n",
    "mlp.fit(X_train, y_train)\n",
    "y_pred = mlp.predict(X_test)\n",
    "y_pred_proba = mlp.predict_proba(X_test)\n",
    "metrics(y_test, y_pred, y_pred_proba)"
   ],
   "outputs": [
    {
     "name": "stdout",
     "output_type": "stream",
     "text": [
      "Matriz de Confusión:\n",
      "[[285391   5207]\n",
      " [ 10612  12426]]\n",
      "Precisión (Precision): 0.7047\n",
      "Sensibilidad (Recall): 0.5394\n",
      "F1-Score: 0.6110\n",
      "AUC-ROC: 0.9650\n",
      "Accuracy Score: 0.9496\n"
     ]
    }
   ],
   "execution_count": 234
  },
  {
   "cell_type": "code",
   "metadata": {
    "ExecuteTime": {
     "end_time": "2024-12-08T00:23:07.525231Z",
     "start_time": "2024-12-08T00:23:05.563277Z"
    }
   },
   "source": [
    "xgb_clf = xgb.XGBClassifier(\n",
    "    objective='binary:logistic',\n",
    "    n_estimators=100,\n",
    "    learning_rate=0.1,\n",
    "    max_depth=6,\n",
    "    random_state=42,\n",
    "    eval_metric='logloss'\n",
    ")\n",
    "\n",
    "xgb_clf.fit(X_train, y_train)\n",
    "y_pred = xgb_clf.predict(X_test)\n",
    "y_pred_proba = xgb_clf.predict_proba(X_test)\n",
    "metrics(y_test, y_pred, y_pred_proba)"
   ],
   "outputs": [
    {
     "name": "stdout",
     "output_type": "stream",
     "text": [
      "Matriz de Confusión:\n",
      "[[286320   4278]\n",
      " [ 11073  11965]]\n",
      "Precisión (Precision): 0.7366\n",
      "Sensibilidad (Recall): 0.5194\n",
      "F1-Score: 0.6092\n",
      "AUC-ROC: 0.9674\n",
      "Accuracy Score: 0.9511\n"
     ]
    }
   ],
   "execution_count": 235
  },
  {
   "cell_type": "code",
   "metadata": {
    "ExecuteTime": {
     "end_time": "2024-12-08T00:23:10.428260Z",
     "start_time": "2024-12-08T00:23:07.529449Z"
    }
   },
   "source": [
    "cat_clf = CatBoostClassifier(\n",
    "    iterations=100,\n",
    "    learning_rate=0.1,\n",
    "    depth=6,\n",
    "    eval_metric='TotalF1',\n",
    "    random_seed=42,\n",
    "    verbose=0\n",
    ")\n",
    "\n",
    "cat_clf.fit(X_train, y_train)\n",
    "y_pred = cat_clf.predict(X_test)\n",
    "y_pred_proba = cat_clf.predict_proba(X_test)\n",
    "metrics(y_test, y_pred, y_pred_proba)"
   ],
   "outputs": [
    {
     "name": "stdout",
     "output_type": "stream",
     "text": [
      "Matriz de Confusión:\n",
      "[[286168   4430]\n",
      " [ 10961  12077]]\n",
      "Precisión (Precision): 0.7316\n",
      "Sensibilidad (Recall): 0.5242\n",
      "F1-Score: 0.6108\n",
      "AUC-ROC: 0.9668\n",
      "Accuracy Score: 0.9509\n"
     ]
    }
   ],
   "execution_count": 236
  },
  {
   "cell_type": "code",
   "metadata": {
    "ExecuteTime": {
     "end_time": "2024-12-08T00:23:12.706124Z",
     "start_time": "2024-12-08T00:23:10.451071Z"
    }
   },
   "source": [
    "lgb_clf = lgb.LGBMClassifier(\n",
    "    objective='binary',\n",
    "    n_estimators=100,\n",
    "    learning_rate=0.1,\n",
    "    max_depth=6,\n",
    "    random_state=42,\n",
    "    verbose=0\n",
    ")\n",
    "lgb_clf.fit(X_train, y_train)\n",
    "y_pred = lgb_clf.predict(X_test)\n",
    "y_pred_proba = lgb_clf.predict_proba(X_test)\n",
    "metrics(y_test, y_pred, y_pred_proba)"
   ],
   "outputs": [
    {
     "name": "stdout",
     "output_type": "stream",
     "text": [
      "Matriz de Confusión:\n",
      "[[286207   4391]\n",
      " [ 10976  12062]]\n",
      "Precisión (Precision): 0.7331\n",
      "Sensibilidad (Recall): 0.5236\n",
      "F1-Score: 0.6109\n",
      "AUC-ROC: 0.9674\n",
      "Accuracy Score: 0.9510\n"
     ]
    }
   ],
   "execution_count": 237
  },
  {
   "cell_type": "markdown",
   "metadata": {
    "id": "tnDjjx2doDFi"
   },
   "source": [
    "Voy a balancearlos con SMOTE (Synthetic Minority Oversampling Technique) y hacer submuestreo con ENN (Edited Nearest Neighbors)"
   ]
  },
  {
   "cell_type": "code",
   "metadata": {
    "ExecuteTime": {
     "end_time": "2024-12-08T00:24:02.657668Z",
     "start_time": "2024-12-08T00:23:12.728996Z"
    }
   },
   "source": [
    "smote = SMOTE(random_state=42)\n",
    "X_train, y_train = smote.fit_resample(X_train, y_train)"
   ],
   "outputs": [],
   "execution_count": 238
  },
  {
   "cell_type": "code",
   "metadata": {
    "ExecuteTime": {
     "end_time": "2024-12-08T00:24:50.503102Z",
     "start_time": "2024-12-08T00:24:02.686528Z"
    }
   },
   "source": [
    "logreg = LogisticRegression(max_iter=100000000)\n",
    "logreg.fit(X_train, y_train)\n",
    "y_pred = logreg.predict(X_test)\n",
    "y_pred_proba = logreg.predict_proba(X_test)\n",
    "metrics(y_test, y_pred, y_pred_proba)"
   ],
   "outputs": [
    {
     "name": "stdout",
     "output_type": "stream",
     "text": [
      "Matriz de Confusión:\n",
      "[[260379  30219]\n",
      " [  2292  20746]]\n",
      "Precisión (Precision): 0.4071\n",
      "Sensibilidad (Recall): 0.9005\n",
      "F1-Score: 0.5607\n",
      "AUC-ROC: 0.9562\n",
      "Accuracy Score: 0.8963\n"
     ]
    }
   ],
   "execution_count": 239
  },
  {
   "cell_type": "code",
   "metadata": {
    "ExecuteTime": {
     "end_time": "2024-12-08T00:26:07.267952Z",
     "start_time": "2024-12-08T00:24:50.525780Z"
    }
   },
   "source": [
    "rf = RandomForestClassifier(random_state=42)\n",
    "rf.fit(X_train, y_train)\n",
    "y_pred = rf.predict(X_test)\n",
    "y_pred_proba = rf.predict_proba(X_test)\n",
    "metrics(y_test, y_pred, y_pred_proba)"
   ],
   "outputs": [
    {
     "name": "stdout",
     "output_type": "stream",
     "text": [
      "Matriz de Confusión:\n",
      "[[265971  24627]\n",
      " [  5118  17920]]\n",
      "Precisión (Precision): 0.4212\n",
      "Sensibilidad (Recall): 0.7778\n",
      "F1-Score: 0.5465\n",
      "AUC-ROC: 0.9343\n",
      "Accuracy Score: 0.9052\n"
     ]
    }
   ],
   "execution_count": 240
  },
  {
   "cell_type": "code",
   "metadata": {
    "ExecuteTime": {
     "end_time": "2024-12-08T00:26:10.533946Z",
     "start_time": "2024-12-08T00:26:07.322833Z"
    }
   },
   "source": [
    "dt = DecisionTreeClassifier(random_state=42)\n",
    "dt.fit(X_train, y_train)\n",
    "y_pred = dt.predict(X_test)\n",
    "y_pred_proba = dt.predict_proba(X_test)\n",
    "metrics(y_test, y_pred, y_pred_proba)"
   ],
   "outputs": [
    {
     "name": "stdout",
     "output_type": "stream",
     "text": [
      "Matriz de Confusión:\n",
      "[[265989  24609]\n",
      " [  6026  17012]]\n",
      "Precisión (Precision): 0.4087\n",
      "Sensibilidad (Recall): 0.7384\n",
      "F1-Score: 0.5262\n",
      "AUC-ROC: 0.8286\n",
      "Accuracy Score: 0.9023\n"
     ]
    }
   ],
   "execution_count": 241
  },
  {
   "cell_type": "code",
   "metadata": {
    "ExecuteTime": {
     "end_time": "2024-12-08T00:27:23.368029Z",
     "start_time": "2024-12-08T00:26:10.555629Z"
    }
   },
   "source": [
    "gbc = GradientBoostingClassifier(n_estimators=100, learning_rate=0.1, random_state=42)\n",
    "gbc.fit(X_train, y_train)\n",
    "y_pred = gbc.predict(X_test)\n",
    "y_pred_proba = gbc.predict_proba(X_test)\n",
    "metrics(y_test, y_pred, y_pred_proba)"
   ],
   "outputs": [
    {
     "name": "stdout",
     "output_type": "stream",
     "text": [
      "Matriz de Confusión:\n",
      "[[257018  33580]\n",
      " [  1550  21488]]\n",
      "Precisión (Precision): 0.3902\n",
      "Sensibilidad (Recall): 0.9327\n",
      "F1-Score: 0.5502\n",
      "AUC-ROC: 0.9621\n",
      "Accuracy Score: 0.8880\n"
     ]
    }
   ],
   "execution_count": 242
  },
  {
   "cell_type": "code",
   "metadata": {
    "ExecuteTime": {
     "end_time": "2024-12-08T00:27:24.195837Z",
     "start_time": "2024-12-08T00:27:23.411146Z"
    }
   },
   "source": [
    "nb = GaussianNB()\n",
    "nb.fit(X_train, y_train)\n",
    "y_pred = nb.predict(X_test)\n",
    "y_pred_proba = nb.predict_proba(X_test)\n",
    "metrics(y_test, y_pred, y_pred_proba)"
   ],
   "outputs": [
    {
     "name": "stdout",
     "output_type": "stream",
     "text": [
      "Matriz de Confusión:\n",
      "[[251309  39289]\n",
      " [  2189  20849]]\n",
      "Precisión (Precision): 0.3467\n",
      "Sensibilidad (Recall): 0.9050\n",
      "F1-Score: 0.5013\n",
      "AUC-ROC: 0.9223\n",
      "Accuracy Score: 0.8678\n"
     ]
    }
   ],
   "execution_count": 243
  },
  {
   "cell_type": "code",
   "metadata": {
    "ExecuteTime": {
     "end_time": "2024-12-08T00:32:19.139681Z",
     "start_time": "2024-12-08T00:27:24.204292Z"
    }
   },
   "source": [
    "mlp = MLPClassifier(random_state=42)\n",
    "mlp.fit(X_train, y_train)\n",
    "y_pred = mlp.predict(X_test)\n",
    "y_pred_proba = mlp.predict_proba(X_test)\n",
    "metrics(y_test, y_pred, y_pred_proba)"
   ],
   "outputs": [
    {
     "name": "stdout",
     "output_type": "stream",
     "text": [
      "Matriz de Confusión:\n",
      "[[257380  33218]\n",
      " [  1804  21234]]\n",
      "Precisión (Precision): 0.3900\n",
      "Sensibilidad (Recall): 0.9217\n",
      "F1-Score: 0.5480\n",
      "AUC-ROC: 0.9603\n",
      "Accuracy Score: 0.8883\n"
     ]
    }
   ],
   "execution_count": 244
  },
  {
   "cell_type": "code",
   "metadata": {
    "ExecuteTime": {
     "end_time": "2024-12-08T00:32:22.477411Z",
     "start_time": "2024-12-08T00:32:19.184793Z"
    }
   },
   "source": [
    "xgb_clf = xgb.XGBClassifier(\n",
    "    objective='binary:logistic',\n",
    "    n_estimators=100,\n",
    "    learning_rate=0.1,\n",
    "    max_depth=6,\n",
    "    random_state=42,\n",
    "    eval_metric='logloss'\n",
    ")\n",
    "\n",
    "xgb_clf.fit(X_train, y_train)\n",
    "y_pred = xgb_clf.predict(X_test)\n",
    "y_pred_proba = xgb_clf.predict_proba(X_test)\n",
    "metrics(y_test, y_pred, y_pred_proba)"
   ],
   "outputs": [
    {
     "name": "stdout",
     "output_type": "stream",
     "text": [
      "Matriz de Confusión:\n",
      "[[256947  33651]\n",
      " [  1594  21444]]\n",
      "Precisión (Precision): 0.3892\n",
      "Sensibilidad (Recall): 0.9308\n",
      "F1-Score: 0.5489\n",
      "AUC-ROC: 0.9624\n",
      "Accuracy Score: 0.8876\n"
     ]
    }
   ],
   "execution_count": 245
  },
  {
   "cell_type": "code",
   "metadata": {
    "ExecuteTime": {
     "end_time": "2024-12-08T00:32:28.071613Z",
     "start_time": "2024-12-08T00:32:22.497200Z"
    }
   },
   "source": [
    "cat_clf = CatBoostClassifier(\n",
    "    iterations=100,\n",
    "    learning_rate=0.1,\n",
    "    depth=6,\n",
    "    eval_metric='TotalF1',\n",
    "    random_seed=42,\n",
    "    verbose=0\n",
    ")\n",
    "\n",
    "cat_clf.fit(X_train, y_train)\n",
    "y_pred = cat_clf.predict(X_test)\n",
    "y_pred_proba = cat_clf.predict_proba(X_test)\n",
    "metrics(y_test, y_pred, y_pred_proba)"
   ],
   "outputs": [
    {
     "name": "stdout",
     "output_type": "stream",
     "text": [
      "Matriz de Confusión:\n",
      "[[256421  34177]\n",
      " [  1447  21591]]\n",
      "Precisión (Precision): 0.3872\n",
      "Sensibilidad (Recall): 0.9372\n",
      "F1-Score: 0.5480\n",
      "AUC-ROC: 0.9630\n",
      "Accuracy Score: 0.8864\n"
     ]
    }
   ],
   "execution_count": 246
  },
  {
   "cell_type": "code",
   "metadata": {
    "ExecuteTime": {
     "end_time": "2024-12-08T00:32:33.367251Z",
     "start_time": "2024-12-08T00:32:28.099046Z"
    }
   },
   "source": [
    "lgb_clf = lgb.LGBMClassifier(\n",
    "    objective='binary',\n",
    "    n_estimators=100,\n",
    "    learning_rate=0.1,\n",
    "    max_depth=6,\n",
    "    random_state=42,\n",
    "    verbose=0\n",
    ")\n",
    "lgb_clf.fit(X_train, y_train)\n",
    "y_pred = lgb_clf.predict(X_test)\n",
    "y_pred_proba = lgb_clf.predict_proba(X_test)\n",
    "metrics(y_test, y_pred, y_pred_proba)"
   ],
   "outputs": [
    {
     "name": "stdout",
     "output_type": "stream",
     "text": [
      "Matriz de Confusión:\n",
      "[[256893  33705]\n",
      " [  1564  21474]]\n",
      "Precisión (Precision): 0.3892\n",
      "Sensibilidad (Recall): 0.9321\n",
      "F1-Score: 0.5491\n",
      "AUC-ROC: 0.9629\n",
      "Accuracy Score: 0.8875\n"
     ]
    }
   ],
   "execution_count": 247
  },
  {
   "metadata": {},
   "cell_type": "markdown",
   "source": "### Búsqueda del Mejor Umbral (Precision - Recall)"
  },
  {
   "metadata": {},
   "cell_type": "markdown",
   "source": "Se optimizará el umbral de clasificación para maximizar la sensibilidad (recall) y mantener una precisión adecuada, equilibrando la identificación de pacientes en riesgo y el uso eficiente de recursos médicos."
  },
  {
   "metadata": {
    "ExecuteTime": {
     "end_time": "2024-12-08T04:13:17.303868Z",
     "start_time": "2024-12-08T04:13:17.300992Z"
    }
   },
   "cell_type": "code",
   "source": [
    "def search_optimal_threshold(y_test, y_pred_proba):\n",
    "    precision, recall, thresholds = precision_recall_curve(y_test, y_pred_proba)\n",
    "    optimal_idx = np.argmax(precision[:-1] + recall[:-1])\n",
    "    optimal_threshold = thresholds[optimal_idx]\n",
    "    return optimal_threshold"
   ],
   "outputs": [],
   "execution_count": 331
  },
  {
   "metadata": {},
   "cell_type": "markdown",
   "source": "#### LogisticRegression"
  },
  {
   "metadata": {
    "ExecuteTime": {
     "end_time": "2024-12-08T04:13:17.834093Z",
     "start_time": "2024-12-08T04:13:17.321816Z"
    }
   },
   "cell_type": "code",
   "source": [
    "y_pred_proba = logreg.predict_proba(X_test)\n",
    "optimal_threshold = search_optimal_threshold(y_test, y_pred_proba[:, 1])\n",
    "print(f\"Umbral óptimo: {optimal_threshold:.2f}\")\n",
    "y_pred = (y_pred_proba[:, 1] >= optimal_threshold).astype(int)\n",
    "metrics(y_test, y_pred, y_pred_proba)"
   ],
   "outputs": [
    {
     "name": "stdout",
     "output_type": "stream",
     "text": [
      "Umbral óptimo: 0.41\n",
      "Matriz de Confusión:\n",
      "[[256921  33677]\n",
      " [  1745  21293]]\n",
      "Precisión (Precision): 0.3874\n",
      "Sensibilidad (Recall): 0.9243\n",
      "F1-Score: 0.5459\n",
      "AUC-ROC: 0.9562\n",
      "Accuracy Score: 0.8871\n"
     ]
    }
   ],
   "execution_count": 332
  },
  {
   "metadata": {},
   "cell_type": "markdown",
   "source": "#### RandomForestClassifier"
  },
  {
   "metadata": {
    "ExecuteTime": {
     "end_time": "2024-12-08T04:13:22.802193Z",
     "start_time": "2024-12-08T04:13:17.853689Z"
    }
   },
   "cell_type": "code",
   "source": [
    "y_pred_proba = rf.predict_proba(X_test)\n",
    "optimal_threshold = search_optimal_threshold(y_test, y_pred_proba[:, 1])\n",
    "print(f\"Umbral óptimo: {optimal_threshold:.2f}\")\n",
    "y_pred = (y_pred_proba[:, 1] >= optimal_threshold).astype(int)\n",
    "metrics(y_test, y_pred, y_pred_proba)"
   ],
   "outputs": [
    {
     "name": "stdout",
     "output_type": "stream",
     "text": [
      "Umbral óptimo: 0.21\n",
      "Matriz de Confusión:\n",
      "[[252451  38147]\n",
      " [  2485  20553]]\n",
      "Precisión (Precision): 0.3501\n",
      "Sensibilidad (Recall): 0.8921\n",
      "F1-Score: 0.5029\n",
      "AUC-ROC: 0.9343\n",
      "Accuracy Score: 0.8704\n"
     ]
    }
   ],
   "execution_count": 333
  },
  {
   "metadata": {},
   "cell_type": "markdown",
   "source": "#### DecisionTreeClassifier"
  },
  {
   "metadata": {
    "ExecuteTime": {
     "end_time": "2024-12-08T04:13:23.241463Z",
     "start_time": "2024-12-08T04:13:22.831184Z"
    }
   },
   "cell_type": "code",
   "source": [
    "y_pred_proba = dt.predict_proba(X_test)\n",
    "optimal_threshold = search_optimal_threshold(y_test, y_pred_proba[:, 1])\n",
    "print(f\"Umbral óptimo: {optimal_threshold:.2f}\")\n",
    "y_pred = (y_pred_proba[:, 1] >= optimal_threshold).astype(int)\n",
    "metrics(y_test, y_pred, y_pred_proba)"
   ],
   "outputs": [
    {
     "name": "stdout",
     "output_type": "stream",
     "text": [
      "Umbral óptimo: 0.75\n",
      "Matriz de Confusión:\n",
      "[[271468  19130]\n",
      " [  6775  16263]]\n",
      "Precisión (Precision): 0.4595\n",
      "Sensibilidad (Recall): 0.7059\n",
      "F1-Score: 0.5567\n",
      "AUC-ROC: 0.8286\n",
      "Accuracy Score: 0.9174\n"
     ]
    }
   ],
   "execution_count": 334
  },
  {
   "metadata": {},
   "cell_type": "markdown",
   "source": "#### GradientBoostingClassifier"
  },
  {
   "metadata": {
    "ExecuteTime": {
     "end_time": "2024-12-08T04:13:23.882397Z",
     "start_time": "2024-12-08T04:13:23.261246Z"
    }
   },
   "cell_type": "code",
   "source": [
    "y_pred_proba = gbc.predict_proba(X_test)\n",
    "optimal_threshold = search_optimal_threshold(y_test, y_pred_proba[:, 1])\n",
    "print(f\"Umbral óptimo: {optimal_threshold:.2f}\")\n",
    "y_pred = (y_pred_proba[:, 1] >= optimal_threshold).astype(int)\n",
    "metrics(y_test, y_pred, y_pred_proba)"
   ],
   "outputs": [
    {
     "name": "stdout",
     "output_type": "stream",
     "text": [
      "Umbral óptimo: 0.58\n",
      "Matriz de Confusión:\n",
      "[[260669  29929]\n",
      " [  1986  21052]]\n",
      "Precisión (Precision): 0.4129\n",
      "Sensibilidad (Recall): 0.9138\n",
      "F1-Score: 0.5688\n",
      "AUC-ROC: 0.9621\n",
      "Accuracy Score: 0.8982\n"
     ]
    }
   ],
   "execution_count": 335
  },
  {
   "metadata": {},
   "cell_type": "markdown",
   "source": "#### GaussianNB"
  },
  {
   "metadata": {
    "ExecuteTime": {
     "end_time": "2024-12-08T04:13:24.305560Z",
     "start_time": "2024-12-08T04:13:23.903186Z"
    }
   },
   "cell_type": "code",
   "source": [
    "y_pred_proba = nb.predict_proba(X_test)\n",
    "optimal_threshold = search_optimal_threshold(y_test, y_pred_proba[:, 1])\n",
    "print(f\"Umbral óptimo: {optimal_threshold:.2f}\")\n",
    "y_pred = (y_pred_proba[:, 1] >= optimal_threshold).astype(int)\n",
    "metrics(y_test, y_pred, y_pred_proba)"
   ],
   "outputs": [
    {
     "name": "stdout",
     "output_type": "stream",
     "text": [
      "Umbral óptimo: 0.77\n",
      "Matriz de Confusión:\n",
      "[[256220  34378]\n",
      " [  2646  20392]]\n",
      "Precisión (Precision): 0.3723\n",
      "Sensibilidad (Recall): 0.8851\n",
      "F1-Score: 0.5242\n",
      "AUC-ROC: 0.9223\n",
      "Accuracy Score: 0.8820\n"
     ]
    }
   ],
   "execution_count": 336
  },
  {
   "metadata": {},
   "cell_type": "markdown",
   "source": "#### MLPClassifier"
  },
  {
   "metadata": {
    "ExecuteTime": {
     "end_time": "2024-12-08T04:13:25.009953Z",
     "start_time": "2024-12-08T04:13:24.325462Z"
    }
   },
   "cell_type": "code",
   "source": [
    "y_pred_proba = mlp.predict_proba(X_test)\n",
    "optimal_threshold = search_optimal_threshold(y_test, y_pred_proba[:, 1])\n",
    "print(f\"Umbral óptimo: {optimal_threshold:.2f}\")\n",
    "y_pred = (y_pred_proba[:, 1] >= optimal_threshold).astype(int)\n",
    "metrics(y_test, y_pred, y_pred_proba)"
   ],
   "outputs": [
    {
     "name": "stdout",
     "output_type": "stream",
     "text": [
      "Umbral óptimo: 0.55\n",
      "Matriz de Confusión:\n",
      "[[259967  30631]\n",
      " [  2134  20904]]\n",
      "Precisión (Precision): 0.4056\n",
      "Sensibilidad (Recall): 0.9074\n",
      "F1-Score: 0.5606\n",
      "AUC-ROC: 0.9603\n",
      "Accuracy Score: 0.8955\n"
     ]
    }
   ],
   "execution_count": 337
  },
  {
   "metadata": {},
   "cell_type": "markdown",
   "source": "#### XGBClassifier"
  },
  {
   "metadata": {
    "ExecuteTime": {
     "end_time": "2024-12-08T04:13:25.472387Z",
     "start_time": "2024-12-08T04:13:25.031004Z"
    }
   },
   "cell_type": "code",
   "source": [
    "y_pred_proba = xgb_clf.predict_proba(X_test)\n",
    "optimal_threshold = search_optimal_threshold(y_test, y_pred_proba[:, 1])\n",
    "print(f\"Umbral óptimo: {optimal_threshold:.2f}\")\n",
    "y_pred = (y_pred_proba[:, 1] >= optimal_threshold).astype(int)\n",
    "metrics(y_test, y_pred, y_pred_proba)"
   ],
   "outputs": [
    {
     "name": "stdout",
     "output_type": "stream",
     "text": [
      "Umbral óptimo: 0.63\n",
      "Matriz de Confusión:\n",
      "[[262962  27636]\n",
      " [  2446  20592]]\n",
      "Precisión (Precision): 0.4270\n",
      "Sensibilidad (Recall): 0.8938\n",
      "F1-Score: 0.5779\n",
      "AUC-ROC: 0.9624\n",
      "Accuracy Score: 0.9041\n"
     ]
    }
   ],
   "execution_count": 338
  },
  {
   "metadata": {},
   "cell_type": "markdown",
   "source": "#### CatBoostClassifier"
  },
  {
   "metadata": {
    "ExecuteTime": {
     "end_time": "2024-12-08T04:13:25.860335Z",
     "start_time": "2024-12-08T04:13:25.494035Z"
    }
   },
   "cell_type": "code",
   "source": [
    "y_pred_proba = cat_clf.predict_proba(X_test)\n",
    "optimal_threshold = search_optimal_threshold(y_test, y_pred_proba[:, 1])\n",
    "print(f\"Umbral óptimo: {optimal_threshold:.2f}\")\n",
    "y_pred = (y_pred_proba[:, 1] >= optimal_threshold).astype(int)\n",
    "metrics(y_test, y_pred, y_pred_proba)"
   ],
   "outputs": [
    {
     "name": "stdout",
     "output_type": "stream",
     "text": [
      "Umbral óptimo: 0.16\n",
      "Matriz de Confusión:\n",
      "[[270002  20596]\n",
      " [  3998  19040]]\n",
      "Precisión (Precision): 0.4804\n",
      "Sensibilidad (Recall): 0.8265\n",
      "F1-Score: 0.6076\n",
      "AUC-ROC: 0.9552\n",
      "Accuracy Score: 0.9216\n"
     ]
    }
   ],
   "execution_count": 339
  },
  {
   "metadata": {},
   "cell_type": "markdown",
   "source": "#### LGBMClassifier"
  },
  {
   "metadata": {
    "ExecuteTime": {
     "end_time": "2024-12-08T04:13:26.521369Z",
     "start_time": "2024-12-08T04:13:25.903642Z"
    }
   },
   "cell_type": "code",
   "source": [
    "y_pred_proba = lgb_clf.predict_proba(X_test)\n",
    "optimal_threshold = search_optimal_threshold(y_test, y_pred_proba[:, 1])\n",
    "print(f\"Umbral óptimo: {optimal_threshold:.2f}\")\n",
    "y_pred = (y_pred_proba[:, 1] >= optimal_threshold).astype(int)\n",
    "metrics(y_test, y_pred, y_pred_proba)"
   ],
   "outputs": [
    {
     "name": "stdout",
     "output_type": "stream",
     "text": [
      "Umbral óptimo: 0.62\n",
      "Matriz de Confusión:\n",
      "[[262712  27886]\n",
      " [  2344  20694]]\n",
      "Precisión (Precision): 0.4260\n",
      "Sensibilidad (Recall): 0.8983\n",
      "F1-Score: 0.5779\n",
      "AUC-ROC: 0.9629\n",
      "Accuracy Score: 0.9036\n"
     ]
    }
   ],
   "execution_count": 340
  },
  {
   "metadata": {},
   "cell_type": "markdown",
   "source": "#### Modelo seleccionado: CatBoostClassifier"
  },
  {
   "metadata": {
    "ExecuteTime": {
     "end_time": "2024-12-08T04:13:26.889540Z",
     "start_time": "2024-12-08T04:13:26.526280Z"
    }
   },
   "cell_type": "code",
   "source": [
    "y_pred_proba = cat_clf.predict_proba(X_test)\n",
    "optimal_threshold = search_optimal_threshold(y_test, y_pred_proba[:, 1])\n",
    "print(f\"Umbral óptimo: {optimal_threshold:.2f}\")\n",
    "y_pred = (y_pred_proba[:, 1] >= optimal_threshold).astype(int)\n",
    "metrics(y_test, y_pred, y_pred_proba)"
   ],
   "outputs": [
    {
     "name": "stdout",
     "output_type": "stream",
     "text": [
      "Umbral óptimo: 0.16\n",
      "Matriz de Confusión:\n",
      "[[270002  20596]\n",
      " [  3998  19040]]\n",
      "Precisión (Precision): 0.4804\n",
      "Sensibilidad (Recall): 0.8265\n",
      "F1-Score: 0.6076\n",
      "AUC-ROC: 0.9552\n",
      "Accuracy Score: 0.9216\n"
     ]
    }
   ],
   "execution_count": 341
  },
  {
   "metadata": {},
   "cell_type": "markdown",
   "source": "Voy a analizar los falsos positivos"
  },
  {
   "metadata": {
    "ExecuteTime": {
     "end_time": "2024-12-08T04:13:26.919132Z",
     "start_time": "2024-12-08T04:13:26.909557Z"
    }
   },
   "cell_type": "code",
   "source": [
    "fp_indices = np.where((y_test == 0) & (y_pred == 1))[0]\n",
    "falsos_positivos = X_test.iloc[fp_indices]\n",
    "\n",
    "falsos_positivos.head()"
   ],
   "outputs": [
    {
     "data": {
      "text/plain": [
       "        USMER  MEDICAL_UNIT  SEX  INTUBED  PNEUMONIA  AGE  PREGNANT  DIABETES  \\\n",
       "399547      0             9    2        0          1   65         0         0   \n",
       "326591      0             4    1        1          0   51         0         0   \n",
       "347480      1             6    2        0          1   68         0         0   \n",
       "274150      1             4    2        0          1   88         0         0   \n",
       "340592      0             5    2        0          1   73         0         0   \n",
       "\n",
       "        COPD  ASTHMA  INMSUPR  HIPERTENSION  OTHER_DISEASE  CARDIOVASCULAR  \\\n",
       "399547     0       0        0             0              0               0   \n",
       "326591     0       0        0             0              0               0   \n",
       "347480     0       0        0             0              0               0   \n",
       "274150     0       0        0             1              0               0   \n",
       "340592     0       0        0             0              0               0   \n",
       "\n",
       "        OBESITY  RENAL_CHRONIC  TOBACCO  CLASIFFICATION_FINAL  HOSPITALIZED  \n",
       "399547        0              0        0                     3             1  \n",
       "326591        0              0        0                     7             1  \n",
       "347480        0              0        0                     1             1  \n",
       "274150        0              0        0                     7             1  \n",
       "340592        0              0        0                     7             1  "
      ],
      "text/html": [
       "<div>\n",
       "<style scoped>\n",
       "    .dataframe tbody tr th:only-of-type {\n",
       "        vertical-align: middle;\n",
       "    }\n",
       "\n",
       "    .dataframe tbody tr th {\n",
       "        vertical-align: top;\n",
       "    }\n",
       "\n",
       "    .dataframe thead th {\n",
       "        text-align: right;\n",
       "    }\n",
       "</style>\n",
       "<table border=\"1\" class=\"dataframe\">\n",
       "  <thead>\n",
       "    <tr style=\"text-align: right;\">\n",
       "      <th></th>\n",
       "      <th>USMER</th>\n",
       "      <th>MEDICAL_UNIT</th>\n",
       "      <th>SEX</th>\n",
       "      <th>INTUBED</th>\n",
       "      <th>PNEUMONIA</th>\n",
       "      <th>AGE</th>\n",
       "      <th>PREGNANT</th>\n",
       "      <th>DIABETES</th>\n",
       "      <th>COPD</th>\n",
       "      <th>ASTHMA</th>\n",
       "      <th>INMSUPR</th>\n",
       "      <th>HIPERTENSION</th>\n",
       "      <th>OTHER_DISEASE</th>\n",
       "      <th>CARDIOVASCULAR</th>\n",
       "      <th>OBESITY</th>\n",
       "      <th>RENAL_CHRONIC</th>\n",
       "      <th>TOBACCO</th>\n",
       "      <th>CLASIFFICATION_FINAL</th>\n",
       "      <th>HOSPITALIZED</th>\n",
       "    </tr>\n",
       "  </thead>\n",
       "  <tbody>\n",
       "    <tr>\n",
       "      <th>399547</th>\n",
       "      <td>0</td>\n",
       "      <td>9</td>\n",
       "      <td>2</td>\n",
       "      <td>0</td>\n",
       "      <td>1</td>\n",
       "      <td>65</td>\n",
       "      <td>0</td>\n",
       "      <td>0</td>\n",
       "      <td>0</td>\n",
       "      <td>0</td>\n",
       "      <td>0</td>\n",
       "      <td>0</td>\n",
       "      <td>0</td>\n",
       "      <td>0</td>\n",
       "      <td>0</td>\n",
       "      <td>0</td>\n",
       "      <td>0</td>\n",
       "      <td>3</td>\n",
       "      <td>1</td>\n",
       "    </tr>\n",
       "    <tr>\n",
       "      <th>326591</th>\n",
       "      <td>0</td>\n",
       "      <td>4</td>\n",
       "      <td>1</td>\n",
       "      <td>1</td>\n",
       "      <td>0</td>\n",
       "      <td>51</td>\n",
       "      <td>0</td>\n",
       "      <td>0</td>\n",
       "      <td>0</td>\n",
       "      <td>0</td>\n",
       "      <td>0</td>\n",
       "      <td>0</td>\n",
       "      <td>0</td>\n",
       "      <td>0</td>\n",
       "      <td>0</td>\n",
       "      <td>0</td>\n",
       "      <td>0</td>\n",
       "      <td>7</td>\n",
       "      <td>1</td>\n",
       "    </tr>\n",
       "    <tr>\n",
       "      <th>347480</th>\n",
       "      <td>1</td>\n",
       "      <td>6</td>\n",
       "      <td>2</td>\n",
       "      <td>0</td>\n",
       "      <td>1</td>\n",
       "      <td>68</td>\n",
       "      <td>0</td>\n",
       "      <td>0</td>\n",
       "      <td>0</td>\n",
       "      <td>0</td>\n",
       "      <td>0</td>\n",
       "      <td>0</td>\n",
       "      <td>0</td>\n",
       "      <td>0</td>\n",
       "      <td>0</td>\n",
       "      <td>0</td>\n",
       "      <td>0</td>\n",
       "      <td>1</td>\n",
       "      <td>1</td>\n",
       "    </tr>\n",
       "    <tr>\n",
       "      <th>274150</th>\n",
       "      <td>1</td>\n",
       "      <td>4</td>\n",
       "      <td>2</td>\n",
       "      <td>0</td>\n",
       "      <td>1</td>\n",
       "      <td>88</td>\n",
       "      <td>0</td>\n",
       "      <td>0</td>\n",
       "      <td>0</td>\n",
       "      <td>0</td>\n",
       "      <td>0</td>\n",
       "      <td>1</td>\n",
       "      <td>0</td>\n",
       "      <td>0</td>\n",
       "      <td>0</td>\n",
       "      <td>0</td>\n",
       "      <td>0</td>\n",
       "      <td>7</td>\n",
       "      <td>1</td>\n",
       "    </tr>\n",
       "    <tr>\n",
       "      <th>340592</th>\n",
       "      <td>0</td>\n",
       "      <td>5</td>\n",
       "      <td>2</td>\n",
       "      <td>0</td>\n",
       "      <td>1</td>\n",
       "      <td>73</td>\n",
       "      <td>0</td>\n",
       "      <td>0</td>\n",
       "      <td>0</td>\n",
       "      <td>0</td>\n",
       "      <td>0</td>\n",
       "      <td>0</td>\n",
       "      <td>0</td>\n",
       "      <td>0</td>\n",
       "      <td>0</td>\n",
       "      <td>0</td>\n",
       "      <td>0</td>\n",
       "      <td>7</td>\n",
       "      <td>1</td>\n",
       "    </tr>\n",
       "  </tbody>\n",
       "</table>\n",
       "</div>"
      ]
     },
     "execution_count": 342,
     "metadata": {},
     "output_type": "execute_result"
    }
   ],
   "execution_count": 342
  },
  {
   "metadata": {
    "ExecuteTime": {
     "end_time": "2024-12-08T04:13:27.000541Z",
     "start_time": "2024-12-08T04:13:26.965790Z"
    }
   },
   "cell_type": "code",
   "source": "falsos_positivos.describe()",
   "outputs": [
    {
     "data": {
      "text/plain": [
       "              USMER  MEDICAL_UNIT           SEX       INTUBED     PNEUMONIA  \\\n",
       "count  20596.000000  20596.000000  20596.000000  20596.000000  20596.000000   \n",
       "mean       0.561760      7.180666      1.621140      0.100165      0.742523   \n",
       "std        0.496183      3.669701      0.485115      0.300227      0.437255   \n",
       "min        0.000000      1.000000      1.000000      0.000000      0.000000   \n",
       "25%        0.000000      4.000000      1.000000      0.000000      0.000000   \n",
       "50%        1.000000      4.000000      2.000000      0.000000      1.000000   \n",
       "75%        1.000000     12.000000      2.000000      0.000000      1.000000   \n",
       "max        1.000000     13.000000      2.000000      1.000000      1.000000   \n",
       "\n",
       "                AGE      PREGNANT      DIABETES          COPD        ASTHMA  \\\n",
       "count  20596.000000  20596.000000  20596.000000  20596.000000  20596.000000   \n",
       "mean      61.491309      0.000825      0.388765      0.065158      0.022043   \n",
       "std       14.755368      0.028719      0.487482      0.246811      0.146827   \n",
       "min        0.000000      0.000000      0.000000      0.000000      0.000000   \n",
       "25%       52.000000      0.000000      0.000000      0.000000      0.000000   \n",
       "50%       62.000000      0.000000      0.000000      0.000000      0.000000   \n",
       "75%       71.000000      0.000000      1.000000      0.000000      0.000000   \n",
       "max      120.000000      1.000000      1.000000      1.000000      1.000000   \n",
       "\n",
       "            INMSUPR  HIPERTENSION  OTHER_DISEASE  CARDIOVASCULAR  \\\n",
       "count  20596.000000  20596.000000   20596.000000    20596.000000   \n",
       "mean       0.038503      0.435036       0.059380        0.068023   \n",
       "std        0.192411      0.495774       0.236341        0.251791   \n",
       "min        0.000000      0.000000       0.000000        0.000000   \n",
       "25%        0.000000      0.000000       0.000000        0.000000   \n",
       "50%        0.000000      0.000000       0.000000        0.000000   \n",
       "75%        0.000000      1.000000       0.000000        0.000000   \n",
       "max        1.000000      1.000000       1.000000        1.000000   \n",
       "\n",
       "            OBESITY  RENAL_CHRONIC       TOBACCO  CLASIFFICATION_FINAL  \\\n",
       "count  20596.000000   20596.000000  20596.000000          20596.000000   \n",
       "mean       0.223296       0.084288      0.095504              4.329093   \n",
       "std        0.416465       0.277826      0.293917              1.807935   \n",
       "min        0.000000       0.000000      0.000000              1.000000   \n",
       "25%        0.000000       0.000000      0.000000              3.000000   \n",
       "50%        0.000000       0.000000      0.000000              3.000000   \n",
       "75%        0.000000       0.000000      0.000000              6.000000   \n",
       "max        1.000000       1.000000      1.000000              7.000000   \n",
       "\n",
       "       HOSPITALIZED  \n",
       "count  20596.000000  \n",
       "mean       0.784764  \n",
       "std        0.410996  \n",
       "min        0.000000  \n",
       "25%        1.000000  \n",
       "50%        1.000000  \n",
       "75%        1.000000  \n",
       "max        1.000000  "
      ],
      "text/html": [
       "<div>\n",
       "<style scoped>\n",
       "    .dataframe tbody tr th:only-of-type {\n",
       "        vertical-align: middle;\n",
       "    }\n",
       "\n",
       "    .dataframe tbody tr th {\n",
       "        vertical-align: top;\n",
       "    }\n",
       "\n",
       "    .dataframe thead th {\n",
       "        text-align: right;\n",
       "    }\n",
       "</style>\n",
       "<table border=\"1\" class=\"dataframe\">\n",
       "  <thead>\n",
       "    <tr style=\"text-align: right;\">\n",
       "      <th></th>\n",
       "      <th>USMER</th>\n",
       "      <th>MEDICAL_UNIT</th>\n",
       "      <th>SEX</th>\n",
       "      <th>INTUBED</th>\n",
       "      <th>PNEUMONIA</th>\n",
       "      <th>AGE</th>\n",
       "      <th>PREGNANT</th>\n",
       "      <th>DIABETES</th>\n",
       "      <th>COPD</th>\n",
       "      <th>ASTHMA</th>\n",
       "      <th>INMSUPR</th>\n",
       "      <th>HIPERTENSION</th>\n",
       "      <th>OTHER_DISEASE</th>\n",
       "      <th>CARDIOVASCULAR</th>\n",
       "      <th>OBESITY</th>\n",
       "      <th>RENAL_CHRONIC</th>\n",
       "      <th>TOBACCO</th>\n",
       "      <th>CLASIFFICATION_FINAL</th>\n",
       "      <th>HOSPITALIZED</th>\n",
       "    </tr>\n",
       "  </thead>\n",
       "  <tbody>\n",
       "    <tr>\n",
       "      <th>count</th>\n",
       "      <td>20596.000000</td>\n",
       "      <td>20596.000000</td>\n",
       "      <td>20596.000000</td>\n",
       "      <td>20596.000000</td>\n",
       "      <td>20596.000000</td>\n",
       "      <td>20596.000000</td>\n",
       "      <td>20596.000000</td>\n",
       "      <td>20596.000000</td>\n",
       "      <td>20596.000000</td>\n",
       "      <td>20596.000000</td>\n",
       "      <td>20596.000000</td>\n",
       "      <td>20596.000000</td>\n",
       "      <td>20596.000000</td>\n",
       "      <td>20596.000000</td>\n",
       "      <td>20596.000000</td>\n",
       "      <td>20596.000000</td>\n",
       "      <td>20596.000000</td>\n",
       "      <td>20596.000000</td>\n",
       "      <td>20596.000000</td>\n",
       "    </tr>\n",
       "    <tr>\n",
       "      <th>mean</th>\n",
       "      <td>0.561760</td>\n",
       "      <td>7.180666</td>\n",
       "      <td>1.621140</td>\n",
       "      <td>0.100165</td>\n",
       "      <td>0.742523</td>\n",
       "      <td>61.491309</td>\n",
       "      <td>0.000825</td>\n",
       "      <td>0.388765</td>\n",
       "      <td>0.065158</td>\n",
       "      <td>0.022043</td>\n",
       "      <td>0.038503</td>\n",
       "      <td>0.435036</td>\n",
       "      <td>0.059380</td>\n",
       "      <td>0.068023</td>\n",
       "      <td>0.223296</td>\n",
       "      <td>0.084288</td>\n",
       "      <td>0.095504</td>\n",
       "      <td>4.329093</td>\n",
       "      <td>0.784764</td>\n",
       "    </tr>\n",
       "    <tr>\n",
       "      <th>std</th>\n",
       "      <td>0.496183</td>\n",
       "      <td>3.669701</td>\n",
       "      <td>0.485115</td>\n",
       "      <td>0.300227</td>\n",
       "      <td>0.437255</td>\n",
       "      <td>14.755368</td>\n",
       "      <td>0.028719</td>\n",
       "      <td>0.487482</td>\n",
       "      <td>0.246811</td>\n",
       "      <td>0.146827</td>\n",
       "      <td>0.192411</td>\n",
       "      <td>0.495774</td>\n",
       "      <td>0.236341</td>\n",
       "      <td>0.251791</td>\n",
       "      <td>0.416465</td>\n",
       "      <td>0.277826</td>\n",
       "      <td>0.293917</td>\n",
       "      <td>1.807935</td>\n",
       "      <td>0.410996</td>\n",
       "    </tr>\n",
       "    <tr>\n",
       "      <th>min</th>\n",
       "      <td>0.000000</td>\n",
       "      <td>1.000000</td>\n",
       "      <td>1.000000</td>\n",
       "      <td>0.000000</td>\n",
       "      <td>0.000000</td>\n",
       "      <td>0.000000</td>\n",
       "      <td>0.000000</td>\n",
       "      <td>0.000000</td>\n",
       "      <td>0.000000</td>\n",
       "      <td>0.000000</td>\n",
       "      <td>0.000000</td>\n",
       "      <td>0.000000</td>\n",
       "      <td>0.000000</td>\n",
       "      <td>0.000000</td>\n",
       "      <td>0.000000</td>\n",
       "      <td>0.000000</td>\n",
       "      <td>0.000000</td>\n",
       "      <td>1.000000</td>\n",
       "      <td>0.000000</td>\n",
       "    </tr>\n",
       "    <tr>\n",
       "      <th>25%</th>\n",
       "      <td>0.000000</td>\n",
       "      <td>4.000000</td>\n",
       "      <td>1.000000</td>\n",
       "      <td>0.000000</td>\n",
       "      <td>0.000000</td>\n",
       "      <td>52.000000</td>\n",
       "      <td>0.000000</td>\n",
       "      <td>0.000000</td>\n",
       "      <td>0.000000</td>\n",
       "      <td>0.000000</td>\n",
       "      <td>0.000000</td>\n",
       "      <td>0.000000</td>\n",
       "      <td>0.000000</td>\n",
       "      <td>0.000000</td>\n",
       "      <td>0.000000</td>\n",
       "      <td>0.000000</td>\n",
       "      <td>0.000000</td>\n",
       "      <td>3.000000</td>\n",
       "      <td>1.000000</td>\n",
       "    </tr>\n",
       "    <tr>\n",
       "      <th>50%</th>\n",
       "      <td>1.000000</td>\n",
       "      <td>4.000000</td>\n",
       "      <td>2.000000</td>\n",
       "      <td>0.000000</td>\n",
       "      <td>1.000000</td>\n",
       "      <td>62.000000</td>\n",
       "      <td>0.000000</td>\n",
       "      <td>0.000000</td>\n",
       "      <td>0.000000</td>\n",
       "      <td>0.000000</td>\n",
       "      <td>0.000000</td>\n",
       "      <td>0.000000</td>\n",
       "      <td>0.000000</td>\n",
       "      <td>0.000000</td>\n",
       "      <td>0.000000</td>\n",
       "      <td>0.000000</td>\n",
       "      <td>0.000000</td>\n",
       "      <td>3.000000</td>\n",
       "      <td>1.000000</td>\n",
       "    </tr>\n",
       "    <tr>\n",
       "      <th>75%</th>\n",
       "      <td>1.000000</td>\n",
       "      <td>12.000000</td>\n",
       "      <td>2.000000</td>\n",
       "      <td>0.000000</td>\n",
       "      <td>1.000000</td>\n",
       "      <td>71.000000</td>\n",
       "      <td>0.000000</td>\n",
       "      <td>1.000000</td>\n",
       "      <td>0.000000</td>\n",
       "      <td>0.000000</td>\n",
       "      <td>0.000000</td>\n",
       "      <td>1.000000</td>\n",
       "      <td>0.000000</td>\n",
       "      <td>0.000000</td>\n",
       "      <td>0.000000</td>\n",
       "      <td>0.000000</td>\n",
       "      <td>0.000000</td>\n",
       "      <td>6.000000</td>\n",
       "      <td>1.000000</td>\n",
       "    </tr>\n",
       "    <tr>\n",
       "      <th>max</th>\n",
       "      <td>1.000000</td>\n",
       "      <td>13.000000</td>\n",
       "      <td>2.000000</td>\n",
       "      <td>1.000000</td>\n",
       "      <td>1.000000</td>\n",
       "      <td>120.000000</td>\n",
       "      <td>1.000000</td>\n",
       "      <td>1.000000</td>\n",
       "      <td>1.000000</td>\n",
       "      <td>1.000000</td>\n",
       "      <td>1.000000</td>\n",
       "      <td>1.000000</td>\n",
       "      <td>1.000000</td>\n",
       "      <td>1.000000</td>\n",
       "      <td>1.000000</td>\n",
       "      <td>1.000000</td>\n",
       "      <td>1.000000</td>\n",
       "      <td>7.000000</td>\n",
       "      <td>1.000000</td>\n",
       "    </tr>\n",
       "  </tbody>\n",
       "</table>\n",
       "</div>"
      ]
     },
     "execution_count": 343,
     "metadata": {},
     "output_type": "execute_result"
    }
   ],
   "execution_count": 343
  },
  {
   "metadata": {},
   "cell_type": "markdown",
   "source": "Veo que la mayoria de los falsos positivos fueron hospitalizados. Hay una diferencia significativa de la media de hospitalización entre los falsos positivos y el dataset completo"
  },
  {
   "metadata": {
    "ExecuteTime": {
     "end_time": "2024-12-08T04:13:27.099355Z",
     "start_time": "2024-12-08T04:13:27.096199Z"
    }
   },
   "cell_type": "code",
   "source": [
    "counts = falsos_positivos[\"HOSPITALIZED\"].value_counts().sort_index()\n",
    "print(f\"\\nDistribución de HOSPITALIZED:\")\n",
    "print(counts)"
   ],
   "outputs": [
    {
     "name": "stdout",
     "output_type": "stream",
     "text": [
      "\n",
      "Distribución de HOSPITALIZED:\n",
      "HOSPITALIZED\n",
      "0     4433\n",
      "1    16163\n",
      "Name: count, dtype: int64\n"
     ]
    }
   ],
   "execution_count": 344
  },
  {
   "metadata": {},
   "cell_type": "markdown",
   "source": "Decido eliminar la variable HOSPITALIZED para no confundir al modelo"
  },
  {
   "metadata": {
    "ExecuteTime": {
     "end_time": "2024-12-08T04:13:30.287909Z",
     "start_time": "2024-12-08T04:13:27.155281Z"
    }
   },
   "cell_type": "code",
   "source": [
    "X_train_no_HOSPITALIZED = X_train.drop(columns=['HOSPITALIZED'])\n",
    "X_test_no_HOSPITALIZED = X_test.drop(columns=['HOSPITALIZED'])\n",
    "\n",
    "cat_clf = CatBoostClassifier(\n",
    "    iterations=100,\n",
    "    learning_rate=0.1,\n",
    "    depth=6,\n",
    "    eval_metric='TotalF1',\n",
    "    random_seed=42,\n",
    "    verbose=0\n",
    ")\n",
    "\n",
    "cat_clf.fit(X_train_no_HOSPITALIZED, y_train)\n",
    "\n",
    "y_pred_proba = cat_clf.predict_proba(X_test_no_HOSPITALIZED)\n",
    "optimal_threshold = search_optimal_threshold(y_test, y_pred_proba[:, 1])\n",
    "print(f\"Umbral óptimo: {optimal_threshold:.2f}\")\n",
    "y_pred = (y_pred_proba[:, 1] >= optimal_threshold).astype(int)\n",
    "metrics(y_test, y_pred, y_pred_proba)"
   ],
   "outputs": [
    {
     "name": "stdout",
     "output_type": "stream",
     "text": [
      "Umbral óptimo: 0.16\n",
      "Matriz de Confusión:\n",
      "[[270002  20596]\n",
      " [  3998  19040]]\n",
      "Precisión (Precision): 0.4804\n",
      "Sensibilidad (Recall): 0.8265\n",
      "F1-Score: 0.6076\n",
      "AUC-ROC: 0.9552\n",
      "Accuracy Score: 0.9216\n"
     ]
    }
   ],
   "execution_count": 345
  },
  {
   "metadata": {},
   "cell_type": "markdown",
   "source": [
    "## Resultados\n",
    "### Alta Sensibilidad (Recall) - 0.8265:\n",
    "\n",
    "**Importancia**: En el contexto de la salud, especialmente para la predicción de fallecimientos por COVID-19, es crucial identificar correctamente a la mayoría de los pacientes en riesgo. Una alta sensibilidad asegura que pocos casos positivos se pasen por alto (es decir, reducir los Falsos Negativos).\n",
    "\n",
    "**Justificación**: Con una sensibilidad de 82.65%, el modelo es eficaz para detectar a los pacientes que realmente están en riesgo de fallecer, permitiendo intervenciones médicas oportunas y potencialmente salvando vidas.\n",
    "\n",
    "### Precisión Moderada - 0.4804:\n",
    "\n",
    "**Importancia**: La precisión indica la proporción de predicciones positivas que son realmente correctas. Aunque una precisión baja puede resultar en un número elevado de Falsos Positivos, en este caso, es un compromiso aceptable para asegurar una alta sensibilidad.\n",
    "\n",
    "**Justificación**: Una precisión de 48.04% significa que aproximadamente la mitad de las predicciones positivas son correctas. Dado el contexto médico, este nivel de precisión es razonable para equilibrar la detección de casos verdaderamente positivos sin sobrecargar excesivamente los recursos médicos con falsos positivos.\n",
    "\n",
    "### F1-Score - 0.6076:\n",
    "\n",
    "**Importancia**: El F1-Score es la media armónica entre precisión y sensibilidad, proporcionando una métrica equilibrada que considera ambas.\n",
    "\n",
    "**Justificación**: Un F1-Score de 0.6076 indica un buen equilibrio entre la capacidad del modelo para identificar casos positivos y la exactitud de esas predicciones, lo cual es esencial en aplicaciones médicas donde tanto la detección temprana como la gestión eficiente de recursos son vitales.\n",
    "\n",
    "### Alta Área Bajo la Curva ROC (AUC-ROC) - 0.9552:\n",
    "\n",
    "**Importancia**: El AUC-ROC mide la capacidad del modelo para distinguir entre clases positivas y negativas. Un valor cercano a 1 indica una excelente capacidad de discriminación.\n",
    "\n",
    "**Justificación**: Con un AUC-ROC de 0.9552, el modelo demuestra una capacidad sobresaliente para diferenciar entre pacientes que fallecerán y los que no, lo que refuerza la confianza en sus predicciones generales.\n",
    "\n",
    "### Alta Precisión Global (Accuracy) - 0.9216:\n",
    "\n",
    "**Importancia**: La precisión global mide la proporción de todas las predicciones correctas.\n",
    "\n",
    "**Justificación**: Un Accuracy de 92.16% refleja que el modelo realiza predicciones correctas en la mayoría de los casos, lo que es indicativo de un rendimiento general robusto."
   ]
  }
 ],
 "metadata": {
  "colab": {
   "provenance": []
  },
  "kernelspec": {
   "display_name": "Python 3 (ipykernel)",
   "language": "python",
   "name": "python3"
  },
  "language_info": {
   "codemirror_mode": {
    "name": "ipython",
    "version": 3
   },
   "file_extension": ".py",
   "mimetype": "text/x-python",
   "name": "python",
   "nbconvert_exporter": "python",
   "pygments_lexer": "ipython3",
   "version": "3.11.0"
  }
 },
 "nbformat": 4,
 "nbformat_minor": 4
}
