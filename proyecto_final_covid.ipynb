{
 "cells": [
  {
   "cell_type": "markdown",
   "metadata": {
    "id": "6FzRaCQslqR0"
   },
   "source": [
    "# Análisis Exploratorio"
   ]
  },
  {
   "cell_type": "code",
   "metadata": {
    "colab": {
     "base_uri": "https://localhost:8080/",
     "height": 256
    },
    "id": "2i-4yeO_PQog",
    "outputId": "29b91e06-2fad-4ed5-cde9-ccab2b19c5f7",
    "ExecuteTime": {
     "end_time": "2024-12-06T18:07:04.959005Z",
     "start_time": "2024-12-06T18:07:04.097539Z"
    }
   },
   "source": [
    "import pandas as pd\n",
    "from imblearn.combine import SMOTEENN\n",
    "\n",
    "df = pd.read_csv(\"./Covid Data.csv\")\n",
    "df.head()"
   ],
   "outputs": [
    {
     "data": {
      "text/plain": [
       "   USMER  MEDICAL_UNIT  SEX  PATIENT_TYPE   DATE_DIED  INTUBED  PNEUMONIA  \\\n",
       "0      2             1    1             1  03/05/2020       97          1   \n",
       "1      2             1    2             1  03/06/2020       97          1   \n",
       "2      2             1    2             2  09/06/2020        1          2   \n",
       "3      2             1    1             1  12/06/2020       97          2   \n",
       "4      2             1    2             1  21/06/2020       97          2   \n",
       "\n",
       "   AGE  PREGNANT  DIABETES  ...  ASTHMA  INMSUPR  HIPERTENSION  OTHER_DISEASE  \\\n",
       "0   65         2         2  ...       2        2             1              2   \n",
       "1   72        97         2  ...       2        2             1              2   \n",
       "2   55        97         1  ...       2        2             2              2   \n",
       "3   53         2         2  ...       2        2             2              2   \n",
       "4   68        97         1  ...       2        2             1              2   \n",
       "\n",
       "   CARDIOVASCULAR  OBESITY  RENAL_CHRONIC  TOBACCO  CLASIFFICATION_FINAL  ICU  \n",
       "0               2        2              2        2                     3   97  \n",
       "1               2        1              1        2                     5   97  \n",
       "2               2        2              2        2                     3    2  \n",
       "3               2        2              2        2                     7   97  \n",
       "4               2        2              2        2                     3   97  \n",
       "\n",
       "[5 rows x 21 columns]"
      ],
      "text/html": [
       "<div>\n",
       "<style scoped>\n",
       "    .dataframe tbody tr th:only-of-type {\n",
       "        vertical-align: middle;\n",
       "    }\n",
       "\n",
       "    .dataframe tbody tr th {\n",
       "        vertical-align: top;\n",
       "    }\n",
       "\n",
       "    .dataframe thead th {\n",
       "        text-align: right;\n",
       "    }\n",
       "</style>\n",
       "<table border=\"1\" class=\"dataframe\">\n",
       "  <thead>\n",
       "    <tr style=\"text-align: right;\">\n",
       "      <th></th>\n",
       "      <th>USMER</th>\n",
       "      <th>MEDICAL_UNIT</th>\n",
       "      <th>SEX</th>\n",
       "      <th>PATIENT_TYPE</th>\n",
       "      <th>DATE_DIED</th>\n",
       "      <th>INTUBED</th>\n",
       "      <th>PNEUMONIA</th>\n",
       "      <th>AGE</th>\n",
       "      <th>PREGNANT</th>\n",
       "      <th>DIABETES</th>\n",
       "      <th>...</th>\n",
       "      <th>ASTHMA</th>\n",
       "      <th>INMSUPR</th>\n",
       "      <th>HIPERTENSION</th>\n",
       "      <th>OTHER_DISEASE</th>\n",
       "      <th>CARDIOVASCULAR</th>\n",
       "      <th>OBESITY</th>\n",
       "      <th>RENAL_CHRONIC</th>\n",
       "      <th>TOBACCO</th>\n",
       "      <th>CLASIFFICATION_FINAL</th>\n",
       "      <th>ICU</th>\n",
       "    </tr>\n",
       "  </thead>\n",
       "  <tbody>\n",
       "    <tr>\n",
       "      <th>0</th>\n",
       "      <td>2</td>\n",
       "      <td>1</td>\n",
       "      <td>1</td>\n",
       "      <td>1</td>\n",
       "      <td>03/05/2020</td>\n",
       "      <td>97</td>\n",
       "      <td>1</td>\n",
       "      <td>65</td>\n",
       "      <td>2</td>\n",
       "      <td>2</td>\n",
       "      <td>...</td>\n",
       "      <td>2</td>\n",
       "      <td>2</td>\n",
       "      <td>1</td>\n",
       "      <td>2</td>\n",
       "      <td>2</td>\n",
       "      <td>2</td>\n",
       "      <td>2</td>\n",
       "      <td>2</td>\n",
       "      <td>3</td>\n",
       "      <td>97</td>\n",
       "    </tr>\n",
       "    <tr>\n",
       "      <th>1</th>\n",
       "      <td>2</td>\n",
       "      <td>1</td>\n",
       "      <td>2</td>\n",
       "      <td>1</td>\n",
       "      <td>03/06/2020</td>\n",
       "      <td>97</td>\n",
       "      <td>1</td>\n",
       "      <td>72</td>\n",
       "      <td>97</td>\n",
       "      <td>2</td>\n",
       "      <td>...</td>\n",
       "      <td>2</td>\n",
       "      <td>2</td>\n",
       "      <td>1</td>\n",
       "      <td>2</td>\n",
       "      <td>2</td>\n",
       "      <td>1</td>\n",
       "      <td>1</td>\n",
       "      <td>2</td>\n",
       "      <td>5</td>\n",
       "      <td>97</td>\n",
       "    </tr>\n",
       "    <tr>\n",
       "      <th>2</th>\n",
       "      <td>2</td>\n",
       "      <td>1</td>\n",
       "      <td>2</td>\n",
       "      <td>2</td>\n",
       "      <td>09/06/2020</td>\n",
       "      <td>1</td>\n",
       "      <td>2</td>\n",
       "      <td>55</td>\n",
       "      <td>97</td>\n",
       "      <td>1</td>\n",
       "      <td>...</td>\n",
       "      <td>2</td>\n",
       "      <td>2</td>\n",
       "      <td>2</td>\n",
       "      <td>2</td>\n",
       "      <td>2</td>\n",
       "      <td>2</td>\n",
       "      <td>2</td>\n",
       "      <td>2</td>\n",
       "      <td>3</td>\n",
       "      <td>2</td>\n",
       "    </tr>\n",
       "    <tr>\n",
       "      <th>3</th>\n",
       "      <td>2</td>\n",
       "      <td>1</td>\n",
       "      <td>1</td>\n",
       "      <td>1</td>\n",
       "      <td>12/06/2020</td>\n",
       "      <td>97</td>\n",
       "      <td>2</td>\n",
       "      <td>53</td>\n",
       "      <td>2</td>\n",
       "      <td>2</td>\n",
       "      <td>...</td>\n",
       "      <td>2</td>\n",
       "      <td>2</td>\n",
       "      <td>2</td>\n",
       "      <td>2</td>\n",
       "      <td>2</td>\n",
       "      <td>2</td>\n",
       "      <td>2</td>\n",
       "      <td>2</td>\n",
       "      <td>7</td>\n",
       "      <td>97</td>\n",
       "    </tr>\n",
       "    <tr>\n",
       "      <th>4</th>\n",
       "      <td>2</td>\n",
       "      <td>1</td>\n",
       "      <td>2</td>\n",
       "      <td>1</td>\n",
       "      <td>21/06/2020</td>\n",
       "      <td>97</td>\n",
       "      <td>2</td>\n",
       "      <td>68</td>\n",
       "      <td>97</td>\n",
       "      <td>1</td>\n",
       "      <td>...</td>\n",
       "      <td>2</td>\n",
       "      <td>2</td>\n",
       "      <td>1</td>\n",
       "      <td>2</td>\n",
       "      <td>2</td>\n",
       "      <td>2</td>\n",
       "      <td>2</td>\n",
       "      <td>2</td>\n",
       "      <td>3</td>\n",
       "      <td>97</td>\n",
       "    </tr>\n",
       "  </tbody>\n",
       "</table>\n",
       "<p>5 rows × 21 columns</p>\n",
       "</div>"
      ]
     },
     "execution_count": 1,
     "metadata": {},
     "output_type": "execute_result"
    }
   ],
   "execution_count": 1
  },
  {
   "cell_type": "code",
   "metadata": {
    "colab": {
     "base_uri": "https://localhost:8080/"
    },
    "id": "zNeFbMTWPVlr",
    "outputId": "82a73279-b293-45ec-ac5b-6fb3b41860f0",
    "ExecuteTime": {
     "end_time": "2024-12-06T05:31:31.095618Z",
     "start_time": "2024-12-06T05:31:31.058625Z"
    }
   },
   "source": [
    "df.info()"
   ],
   "outputs": [
    {
     "name": "stdout",
     "output_type": "stream",
     "text": [
      "<class 'pandas.core.frame.DataFrame'>\n",
      "RangeIndex: 1048575 entries, 0 to 1048574\n",
      "Data columns (total 21 columns):\n",
      " #   Column                Non-Null Count    Dtype \n",
      "---  ------                --------------    ----- \n",
      " 0   USMER                 1048575 non-null  int64 \n",
      " 1   MEDICAL_UNIT          1048575 non-null  int64 \n",
      " 2   SEX                   1048575 non-null  int64 \n",
      " 3   PATIENT_TYPE          1048575 non-null  int64 \n",
      " 4   DATE_DIED             1048575 non-null  object\n",
      " 5   INTUBED               1048575 non-null  int64 \n",
      " 6   PNEUMONIA             1048575 non-null  int64 \n",
      " 7   AGE                   1048575 non-null  int64 \n",
      " 8   PREGNANT              1048575 non-null  int64 \n",
      " 9   DIABETES              1048575 non-null  int64 \n",
      " 10  COPD                  1048575 non-null  int64 \n",
      " 11  ASTHMA                1048575 non-null  int64 \n",
      " 12  INMSUPR               1048575 non-null  int64 \n",
      " 13  HIPERTENSION          1048575 non-null  int64 \n",
      " 14  OTHER_DISEASE         1048575 non-null  int64 \n",
      " 15  CARDIOVASCULAR        1048575 non-null  int64 \n",
      " 16  OBESITY               1048575 non-null  int64 \n",
      " 17  RENAL_CHRONIC         1048575 non-null  int64 \n",
      " 18  TOBACCO               1048575 non-null  int64 \n",
      " 19  CLASIFFICATION_FINAL  1048575 non-null  int64 \n",
      " 20  ICU                   1048575 non-null  int64 \n",
      "dtypes: int64(20), object(1)\n",
      "memory usage: 168.0+ MB\n"
     ]
    }
   ],
   "execution_count": 2
  },
  {
   "cell_type": "code",
   "metadata": {
    "colab": {
     "base_uri": "https://localhost:8080/",
     "height": 320
    },
    "id": "QZptxngzPWGo",
    "outputId": "1621660c-e232-41c1-da91-d565c3199e9f",
    "ExecuteTime": {
     "end_time": "2024-12-06T05:31:31.419181Z",
     "start_time": "2024-12-06T05:31:31.117226Z"
    }
   },
   "source": [
    "df.describe()"
   ],
   "outputs": [
    {
     "data": {
      "text/plain": [
       "              USMER  MEDICAL_UNIT           SEX  PATIENT_TYPE       INTUBED  \\\n",
       "count  1.048575e+06  1.048575e+06  1.048575e+06  1.048575e+06  1.048575e+06   \n",
       "mean   1.632194e+00  8.980565e+00  1.499259e+00  1.190765e+00  7.952288e+01   \n",
       "std    4.822084e-01  3.723278e+00  4.999997e-01  3.929041e-01  3.686889e+01   \n",
       "min    1.000000e+00  1.000000e+00  1.000000e+00  1.000000e+00  1.000000e+00   \n",
       "25%    1.000000e+00  4.000000e+00  1.000000e+00  1.000000e+00  9.700000e+01   \n",
       "50%    2.000000e+00  1.200000e+01  1.000000e+00  1.000000e+00  9.700000e+01   \n",
       "75%    2.000000e+00  1.200000e+01  2.000000e+00  1.000000e+00  9.700000e+01   \n",
       "max    2.000000e+00  1.300000e+01  2.000000e+00  2.000000e+00  9.900000e+01   \n",
       "\n",
       "          PNEUMONIA           AGE      PREGNANT      DIABETES          COPD  \\\n",
       "count  1.048575e+06  1.048575e+06  1.048575e+06  1.048575e+06  1.048575e+06   \n",
       "mean   3.346831e+00  4.179410e+01  4.976558e+01  2.186404e+00  2.260569e+00   \n",
       "std    1.191288e+01  1.690739e+01  4.751073e+01  5.424242e+00  5.132258e+00   \n",
       "min    1.000000e+00  0.000000e+00  1.000000e+00  1.000000e+00  1.000000e+00   \n",
       "25%    2.000000e+00  3.000000e+01  2.000000e+00  2.000000e+00  2.000000e+00   \n",
       "50%    2.000000e+00  4.000000e+01  9.700000e+01  2.000000e+00  2.000000e+00   \n",
       "75%    2.000000e+00  5.300000e+01  9.700000e+01  2.000000e+00  2.000000e+00   \n",
       "max    9.900000e+01  1.210000e+02  9.800000e+01  9.800000e+01  9.800000e+01   \n",
       "\n",
       "             ASTHMA       INMSUPR  HIPERTENSION  OTHER_DISEASE  \\\n",
       "count  1.048575e+06  1.048575e+06  1.048575e+06   1.048575e+06   \n",
       "mean   2.242626e+00  2.298132e+00  2.128989e+00   2.435143e+00   \n",
       "std    5.114089e+00  5.462843e+00  5.236397e+00   6.646676e+00   \n",
       "min    1.000000e+00  1.000000e+00  1.000000e+00   1.000000e+00   \n",
       "25%    2.000000e+00  2.000000e+00  2.000000e+00   2.000000e+00   \n",
       "50%    2.000000e+00  2.000000e+00  2.000000e+00   2.000000e+00   \n",
       "75%    2.000000e+00  2.000000e+00  2.000000e+00   2.000000e+00   \n",
       "max    9.800000e+01  9.800000e+01  9.800000e+01   9.800000e+01   \n",
       "\n",
       "       CARDIOVASCULAR       OBESITY  RENAL_CHRONIC       TOBACCO  \\\n",
       "count    1.048575e+06  1.048575e+06   1.048575e+06  1.048575e+06   \n",
       "mean     2.261810e+00  2.125176e+00   2.257180e+00  2.214333e+00   \n",
       "std      5.194850e+00  5.175445e+00   5.135354e+00  5.323097e+00   \n",
       "min      1.000000e+00  1.000000e+00   1.000000e+00  1.000000e+00   \n",
       "25%      2.000000e+00  2.000000e+00   2.000000e+00  2.000000e+00   \n",
       "50%      2.000000e+00  2.000000e+00   2.000000e+00  2.000000e+00   \n",
       "75%      2.000000e+00  2.000000e+00   2.000000e+00  2.000000e+00   \n",
       "max      9.800000e+01  9.800000e+01   9.800000e+01  9.800000e+01   \n",
       "\n",
       "       CLASIFFICATION_FINAL           ICU  \n",
       "count          1.048575e+06  1.048575e+06  \n",
       "mean           5.305653e+00  7.955397e+01  \n",
       "std            1.881165e+00  3.682307e+01  \n",
       "min            1.000000e+00  1.000000e+00  \n",
       "25%            3.000000e+00  9.700000e+01  \n",
       "50%            6.000000e+00  9.700000e+01  \n",
       "75%            7.000000e+00  9.700000e+01  \n",
       "max            7.000000e+00  9.900000e+01  "
      ],
      "text/html": [
       "<div>\n",
       "<style scoped>\n",
       "    .dataframe tbody tr th:only-of-type {\n",
       "        vertical-align: middle;\n",
       "    }\n",
       "\n",
       "    .dataframe tbody tr th {\n",
       "        vertical-align: top;\n",
       "    }\n",
       "\n",
       "    .dataframe thead th {\n",
       "        text-align: right;\n",
       "    }\n",
       "</style>\n",
       "<table border=\"1\" class=\"dataframe\">\n",
       "  <thead>\n",
       "    <tr style=\"text-align: right;\">\n",
       "      <th></th>\n",
       "      <th>USMER</th>\n",
       "      <th>MEDICAL_UNIT</th>\n",
       "      <th>SEX</th>\n",
       "      <th>PATIENT_TYPE</th>\n",
       "      <th>INTUBED</th>\n",
       "      <th>PNEUMONIA</th>\n",
       "      <th>AGE</th>\n",
       "      <th>PREGNANT</th>\n",
       "      <th>DIABETES</th>\n",
       "      <th>COPD</th>\n",
       "      <th>ASTHMA</th>\n",
       "      <th>INMSUPR</th>\n",
       "      <th>HIPERTENSION</th>\n",
       "      <th>OTHER_DISEASE</th>\n",
       "      <th>CARDIOVASCULAR</th>\n",
       "      <th>OBESITY</th>\n",
       "      <th>RENAL_CHRONIC</th>\n",
       "      <th>TOBACCO</th>\n",
       "      <th>CLASIFFICATION_FINAL</th>\n",
       "      <th>ICU</th>\n",
       "    </tr>\n",
       "  </thead>\n",
       "  <tbody>\n",
       "    <tr>\n",
       "      <th>count</th>\n",
       "      <td>1.048575e+06</td>\n",
       "      <td>1.048575e+06</td>\n",
       "      <td>1.048575e+06</td>\n",
       "      <td>1.048575e+06</td>\n",
       "      <td>1.048575e+06</td>\n",
       "      <td>1.048575e+06</td>\n",
       "      <td>1.048575e+06</td>\n",
       "      <td>1.048575e+06</td>\n",
       "      <td>1.048575e+06</td>\n",
       "      <td>1.048575e+06</td>\n",
       "      <td>1.048575e+06</td>\n",
       "      <td>1.048575e+06</td>\n",
       "      <td>1.048575e+06</td>\n",
       "      <td>1.048575e+06</td>\n",
       "      <td>1.048575e+06</td>\n",
       "      <td>1.048575e+06</td>\n",
       "      <td>1.048575e+06</td>\n",
       "      <td>1.048575e+06</td>\n",
       "      <td>1.048575e+06</td>\n",
       "      <td>1.048575e+06</td>\n",
       "    </tr>\n",
       "    <tr>\n",
       "      <th>mean</th>\n",
       "      <td>1.632194e+00</td>\n",
       "      <td>8.980565e+00</td>\n",
       "      <td>1.499259e+00</td>\n",
       "      <td>1.190765e+00</td>\n",
       "      <td>7.952288e+01</td>\n",
       "      <td>3.346831e+00</td>\n",
       "      <td>4.179410e+01</td>\n",
       "      <td>4.976558e+01</td>\n",
       "      <td>2.186404e+00</td>\n",
       "      <td>2.260569e+00</td>\n",
       "      <td>2.242626e+00</td>\n",
       "      <td>2.298132e+00</td>\n",
       "      <td>2.128989e+00</td>\n",
       "      <td>2.435143e+00</td>\n",
       "      <td>2.261810e+00</td>\n",
       "      <td>2.125176e+00</td>\n",
       "      <td>2.257180e+00</td>\n",
       "      <td>2.214333e+00</td>\n",
       "      <td>5.305653e+00</td>\n",
       "      <td>7.955397e+01</td>\n",
       "    </tr>\n",
       "    <tr>\n",
       "      <th>std</th>\n",
       "      <td>4.822084e-01</td>\n",
       "      <td>3.723278e+00</td>\n",
       "      <td>4.999997e-01</td>\n",
       "      <td>3.929041e-01</td>\n",
       "      <td>3.686889e+01</td>\n",
       "      <td>1.191288e+01</td>\n",
       "      <td>1.690739e+01</td>\n",
       "      <td>4.751073e+01</td>\n",
       "      <td>5.424242e+00</td>\n",
       "      <td>5.132258e+00</td>\n",
       "      <td>5.114089e+00</td>\n",
       "      <td>5.462843e+00</td>\n",
       "      <td>5.236397e+00</td>\n",
       "      <td>6.646676e+00</td>\n",
       "      <td>5.194850e+00</td>\n",
       "      <td>5.175445e+00</td>\n",
       "      <td>5.135354e+00</td>\n",
       "      <td>5.323097e+00</td>\n",
       "      <td>1.881165e+00</td>\n",
       "      <td>3.682307e+01</td>\n",
       "    </tr>\n",
       "    <tr>\n",
       "      <th>min</th>\n",
       "      <td>1.000000e+00</td>\n",
       "      <td>1.000000e+00</td>\n",
       "      <td>1.000000e+00</td>\n",
       "      <td>1.000000e+00</td>\n",
       "      <td>1.000000e+00</td>\n",
       "      <td>1.000000e+00</td>\n",
       "      <td>0.000000e+00</td>\n",
       "      <td>1.000000e+00</td>\n",
       "      <td>1.000000e+00</td>\n",
       "      <td>1.000000e+00</td>\n",
       "      <td>1.000000e+00</td>\n",
       "      <td>1.000000e+00</td>\n",
       "      <td>1.000000e+00</td>\n",
       "      <td>1.000000e+00</td>\n",
       "      <td>1.000000e+00</td>\n",
       "      <td>1.000000e+00</td>\n",
       "      <td>1.000000e+00</td>\n",
       "      <td>1.000000e+00</td>\n",
       "      <td>1.000000e+00</td>\n",
       "      <td>1.000000e+00</td>\n",
       "    </tr>\n",
       "    <tr>\n",
       "      <th>25%</th>\n",
       "      <td>1.000000e+00</td>\n",
       "      <td>4.000000e+00</td>\n",
       "      <td>1.000000e+00</td>\n",
       "      <td>1.000000e+00</td>\n",
       "      <td>9.700000e+01</td>\n",
       "      <td>2.000000e+00</td>\n",
       "      <td>3.000000e+01</td>\n",
       "      <td>2.000000e+00</td>\n",
       "      <td>2.000000e+00</td>\n",
       "      <td>2.000000e+00</td>\n",
       "      <td>2.000000e+00</td>\n",
       "      <td>2.000000e+00</td>\n",
       "      <td>2.000000e+00</td>\n",
       "      <td>2.000000e+00</td>\n",
       "      <td>2.000000e+00</td>\n",
       "      <td>2.000000e+00</td>\n",
       "      <td>2.000000e+00</td>\n",
       "      <td>2.000000e+00</td>\n",
       "      <td>3.000000e+00</td>\n",
       "      <td>9.700000e+01</td>\n",
       "    </tr>\n",
       "    <tr>\n",
       "      <th>50%</th>\n",
       "      <td>2.000000e+00</td>\n",
       "      <td>1.200000e+01</td>\n",
       "      <td>1.000000e+00</td>\n",
       "      <td>1.000000e+00</td>\n",
       "      <td>9.700000e+01</td>\n",
       "      <td>2.000000e+00</td>\n",
       "      <td>4.000000e+01</td>\n",
       "      <td>9.700000e+01</td>\n",
       "      <td>2.000000e+00</td>\n",
       "      <td>2.000000e+00</td>\n",
       "      <td>2.000000e+00</td>\n",
       "      <td>2.000000e+00</td>\n",
       "      <td>2.000000e+00</td>\n",
       "      <td>2.000000e+00</td>\n",
       "      <td>2.000000e+00</td>\n",
       "      <td>2.000000e+00</td>\n",
       "      <td>2.000000e+00</td>\n",
       "      <td>2.000000e+00</td>\n",
       "      <td>6.000000e+00</td>\n",
       "      <td>9.700000e+01</td>\n",
       "    </tr>\n",
       "    <tr>\n",
       "      <th>75%</th>\n",
       "      <td>2.000000e+00</td>\n",
       "      <td>1.200000e+01</td>\n",
       "      <td>2.000000e+00</td>\n",
       "      <td>1.000000e+00</td>\n",
       "      <td>9.700000e+01</td>\n",
       "      <td>2.000000e+00</td>\n",
       "      <td>5.300000e+01</td>\n",
       "      <td>9.700000e+01</td>\n",
       "      <td>2.000000e+00</td>\n",
       "      <td>2.000000e+00</td>\n",
       "      <td>2.000000e+00</td>\n",
       "      <td>2.000000e+00</td>\n",
       "      <td>2.000000e+00</td>\n",
       "      <td>2.000000e+00</td>\n",
       "      <td>2.000000e+00</td>\n",
       "      <td>2.000000e+00</td>\n",
       "      <td>2.000000e+00</td>\n",
       "      <td>2.000000e+00</td>\n",
       "      <td>7.000000e+00</td>\n",
       "      <td>9.700000e+01</td>\n",
       "    </tr>\n",
       "    <tr>\n",
       "      <th>max</th>\n",
       "      <td>2.000000e+00</td>\n",
       "      <td>1.300000e+01</td>\n",
       "      <td>2.000000e+00</td>\n",
       "      <td>2.000000e+00</td>\n",
       "      <td>9.900000e+01</td>\n",
       "      <td>9.900000e+01</td>\n",
       "      <td>1.210000e+02</td>\n",
       "      <td>9.800000e+01</td>\n",
       "      <td>9.800000e+01</td>\n",
       "      <td>9.800000e+01</td>\n",
       "      <td>9.800000e+01</td>\n",
       "      <td>9.800000e+01</td>\n",
       "      <td>9.800000e+01</td>\n",
       "      <td>9.800000e+01</td>\n",
       "      <td>9.800000e+01</td>\n",
       "      <td>9.800000e+01</td>\n",
       "      <td>9.800000e+01</td>\n",
       "      <td>9.800000e+01</td>\n",
       "      <td>7.000000e+00</td>\n",
       "      <td>9.900000e+01</td>\n",
       "    </tr>\n",
       "  </tbody>\n",
       "</table>\n",
       "</div>"
      ]
     },
     "execution_count": 3,
     "metadata": {},
     "output_type": "execute_result"
    }
   ],
   "execution_count": 3
  },
  {
   "cell_type": "code",
   "metadata": {
    "colab": {
     "base_uri": "https://localhost:8080/",
     "height": 743
    },
    "id": "9lxfObipPYjO",
    "outputId": "51415bcb-a63b-464c-bbc1-0348e09ac218",
    "ExecuteTime": {
     "end_time": "2024-12-06T05:31:31.482440Z",
     "start_time": "2024-12-06T05:31:31.449453Z"
    }
   },
   "source": [
    "df.isnull().sum()"
   ],
   "outputs": [
    {
     "data": {
      "text/plain": [
       "USMER                   0\n",
       "MEDICAL_UNIT            0\n",
       "SEX                     0\n",
       "PATIENT_TYPE            0\n",
       "DATE_DIED               0\n",
       "INTUBED                 0\n",
       "PNEUMONIA               0\n",
       "AGE                     0\n",
       "PREGNANT                0\n",
       "DIABETES                0\n",
       "COPD                    0\n",
       "ASTHMA                  0\n",
       "INMSUPR                 0\n",
       "HIPERTENSION            0\n",
       "OTHER_DISEASE           0\n",
       "CARDIOVASCULAR          0\n",
       "OBESITY                 0\n",
       "RENAL_CHRONIC           0\n",
       "TOBACCO                 0\n",
       "CLASIFFICATION_FINAL    0\n",
       "ICU                     0\n",
       "dtype: int64"
      ]
     },
     "execution_count": 4,
     "metadata": {},
     "output_type": "execute_result"
    }
   ],
   "execution_count": 4
  },
  {
   "cell_type": "markdown",
   "metadata": {
    "id": "5NH-zuTTlzMd"
   },
   "source": [
    "## Preprocesamiento"
   ]
  },
  {
   "cell_type": "code",
   "metadata": {
    "ExecuteTime": {
     "end_time": "2024-12-06T05:31:31.737282Z",
     "start_time": "2024-12-06T05:31:31.505419Z"
    }
   },
   "source": [
    "# Cambiar DATE_DIED por 0 si es 9999/99/99 o 1 si es cualquier otro\n",
    "\n",
    "def cambiar_fecha(fecha):\n",
    "    fecha = str(fecha)\n",
    "    if fecha == '9999-99-99':\n",
    "        return 0\n",
    "    else:\n",
    "        return 1\n",
    "\n",
    "df['DIED'] = df['DATE_DIED'].apply(cambiar_fecha)\n",
    "\n",
    "df = df.drop('DATE_DIED', axis=1)"
   ],
   "outputs": [],
   "execution_count": 5
  },
  {
   "cell_type": "code",
   "metadata": {
    "ExecuteTime": {
     "end_time": "2024-12-06T05:31:32.744459Z",
     "start_time": "2024-12-06T05:31:31.760552Z"
    }
   },
   "source": [
    "import seaborn as sns\n",
    "import matplotlib.pyplot as plt\n",
    "\n",
    "plt.figure(figsize=(10, 8))\n",
    "corr = df.corr()\n",
    "sns.heatmap(corr, cmap='Reds', annot=True, fmt=\".2f\", annot_kws={'size': 6})\n",
    "plt.title('Matriz de Correlación de Variables')\n",
    "plt.show()"
   ],
   "outputs": [
    {
     "data": {
      "text/plain": [
       "<Figure size 1000x800 with 2 Axes>"
      ],
      "image/png": "[encoded data removed]"
     },
     "metadata": {},
     "output_type": "display_data"
    }
   ],
   "execution_count": 6
  },
  {
   "cell_type": "code",
   "metadata": {
    "ExecuteTime": {
     "end_time": "2024-12-06T05:31:32.793116Z",
     "start_time": "2024-12-06T05:31:32.763205Z"
    }
   },
   "source": [
    "# Quitar ICU por ser una copia de INTUBED\n",
    "df = df.drop('ICU', axis=1)"
   ],
   "outputs": [],
   "execution_count": 7
  },
  {
   "cell_type": "code",
   "metadata": {
    "ExecuteTime": {
     "end_time": "2024-12-06T05:31:35.052661Z",
     "start_time": "2024-12-06T05:31:32.796811Z"
    }
   },
   "source": [
    "# Cambiar a booleanos y a None\n",
    "\n",
    "def to_bool(num):\n",
    "    if num == 1:\n",
    "        return 1\n",
    "\n",
    "    if num == 2:\n",
    "        return 0\n",
    "\n",
    "    return None\n",
    "\n",
    "bool_cols = ['PATIENT_TYPE', 'INTUBED', 'PNEUMONIA', 'PREGNANT', 'DIABETES', 'COPD', 'ASTHMA', 'INMSUPR', 'HIPERTENSION', 'OTHER_DISEASE', 'CARDIOVASCULAR', 'OBESITY', 'RENAL_CHRONIC', 'TOBACCO']\n",
    "\n",
    "df[bool_cols] = df[bool_cols].map(to_bool)"
   ],
   "outputs": [],
   "execution_count": 8
  },
  {
   "cell_type": "code",
   "metadata": {
    "ExecuteTime": {
     "end_time": "2024-12-06T05:31:35.255929Z",
     "start_time": "2024-12-06T05:31:35.152314Z"
    }
   },
   "source": [
    "# quitar resultados no concluyentes (CLASIFFICATION_FINAL)\n",
    "\n",
    "rows_to_drop = df[df['CLASIFFICATION_FINAL'] == 4].index\n",
    "\n",
    "df.drop(rows_to_drop, inplace=True)"
   ],
   "outputs": [],
   "execution_count": 9
  },
  {
   "cell_type": "code",
   "metadata": {
    "colab": {
     "base_uri": "https://localhost:8080/",
     "height": 350
    },
    "id": "ovHtkN_kmYDN",
    "outputId": "740d023e-890d-4356-c281-07cbcf584011",
    "ExecuteTime": {
     "end_time": "2024-12-06T05:31:35.736048Z",
     "start_time": "2024-12-06T05:31:35.263944Z"
    }
   },
   "source": [
    "df.describe()"
   ],
   "outputs": [
    {
     "data": {
      "text/plain": [
       "              USMER  MEDICAL_UNIT           SEX  PATIENT_TYPE        INTUBED  \\\n",
       "count  1.045453e+06  1.045453e+06  1.045453e+06  1.045453e+06  192114.000000   \n",
       "mean   1.631842e+00  8.973974e+00  1.499287e+00  8.092454e-01       0.174933   \n",
       "std    4.823048e-01  3.724575e+00  4.999997e-01  3.928962e-01       0.379910   \n",
       "min    1.000000e+00  1.000000e+00  1.000000e+00  0.000000e+00       0.000000   \n",
       "25%    1.000000e+00  4.000000e+00  1.000000e+00  1.000000e+00       0.000000   \n",
       "50%    2.000000e+00  1.200000e+01  1.000000e+00  1.000000e+00       0.000000   \n",
       "75%    2.000000e+00  1.200000e+01  2.000000e+00  1.000000e+00       0.000000   \n",
       "max    2.000000e+00  1.300000e+01  2.000000e+00  1.000000e+00       1.000000   \n",
       "\n",
       "          PNEUMONIA           AGE       PREGNANT      DIABETES          COPD  \\\n",
       "count  1.029461e+06  1.045453e+06  519721.000000  1.042121e+06  1.042454e+06   \n",
       "mean   1.355214e-01  4.179397e+01       0.015606  1.195639e-01  1.440351e-02   \n",
       "std    3.422798e-01  1.690858e+01       0.123947  3.244510e-01  1.191472e-01   \n",
       "min    0.000000e+00  0.000000e+00       0.000000  0.000000e+00  0.000000e+00   \n",
       "25%    0.000000e+00  3.000000e+01       0.000000  0.000000e+00  0.000000e+00   \n",
       "50%    0.000000e+00  4.000000e+01       0.000000  0.000000e+00  0.000000e+00   \n",
       "75%    0.000000e+00  5.300000e+01       0.000000  0.000000e+00  0.000000e+00   \n",
       "max    1.000000e+00  1.210000e+02       1.000000  1.000000e+00  1.000000e+00   \n",
       "\n",
       "             ASTHMA       INMSUPR  HIPERTENSION  OTHER_DISEASE  \\\n",
       "count  1.042479e+06  1.042054e+06  1.042352e+06   1.040423e+06   \n",
       "mean   3.021931e-02  1.356648e-02  1.557391e-01   2.692751e-02   \n",
       "std    1.711903e-01  1.156825e-01  3.626080e-01   1.618717e-01   \n",
       "min    0.000000e+00  0.000000e+00  0.000000e+00   0.000000e+00   \n",
       "25%    0.000000e+00  0.000000e+00  0.000000e+00   0.000000e+00   \n",
       "50%    0.000000e+00  0.000000e+00  0.000000e+00   0.000000e+00   \n",
       "75%    0.000000e+00  0.000000e+00  0.000000e+00   0.000000e+00   \n",
       "max    1.000000e+00  1.000000e+00  1.000000e+00   1.000000e+00   \n",
       "\n",
       "       CARDIOVASCULAR       OBESITY  RENAL_CHRONIC       TOBACCO  \\\n",
       "count    1.042381e+06  1.042424e+06   1.042450e+06  1.042237e+06   \n",
       "mean     1.987085e-02  1.528908e-01   1.808528e-02  8.067743e-02   \n",
       "std      1.395565e-01  3.598823e-01   1.332600e-01  2.723392e-01   \n",
       "min      0.000000e+00  0.000000e+00   0.000000e+00  0.000000e+00   \n",
       "25%      0.000000e+00  0.000000e+00   0.000000e+00  0.000000e+00   \n",
       "50%      0.000000e+00  0.000000e+00   0.000000e+00  0.000000e+00   \n",
       "75%      0.000000e+00  0.000000e+00   0.000000e+00  0.000000e+00   \n",
       "max      1.000000e+00  1.000000e+00   1.000000e+00  1.000000e+00   \n",
       "\n",
       "       CLASIFFICATION_FINAL          DIED  \n",
       "count          1.045453e+06  1.045453e+06  \n",
       "mean           5.309552e+00  7.345524e-02  \n",
       "std            1.882617e+00  2.608824e-01  \n",
       "min            1.000000e+00  0.000000e+00  \n",
       "25%            3.000000e+00  0.000000e+00  \n",
       "50%            6.000000e+00  0.000000e+00  \n",
       "75%            7.000000e+00  0.000000e+00  \n",
       "max            7.000000e+00  1.000000e+00  "
      ],
      "text/html": [
       "<div>\n",
       "<style scoped>\n",
       "    .dataframe tbody tr th:only-of-type {\n",
       "        vertical-align: middle;\n",
       "    }\n",
       "\n",
       "    .dataframe tbody tr th {\n",
       "        vertical-align: top;\n",
       "    }\n",
       "\n",
       "    .dataframe thead th {\n",
       "        text-align: right;\n",
       "    }\n",
       "</style>\n",
       "<table border=\"1\" class=\"dataframe\">\n",
       "  <thead>\n",
       "    <tr style=\"text-align: right;\">\n",
       "      <th></th>\n",
       "      <th>USMER</th>\n",
       "      <th>MEDICAL_UNIT</th>\n",
       "      <th>SEX</th>\n",
       "      <th>PATIENT_TYPE</th>\n",
       "      <th>INTUBED</th>\n",
       "      <th>PNEUMONIA</th>\n",
       "      <th>AGE</th>\n",
       "      <th>PREGNANT</th>\n",
       "      <th>DIABETES</th>\n",
       "      <th>COPD</th>\n",
       "      <th>ASTHMA</th>\n",
       "      <th>INMSUPR</th>\n",
       "      <th>HIPERTENSION</th>\n",
       "      <th>OTHER_DISEASE</th>\n",
       "      <th>CARDIOVASCULAR</th>\n",
       "      <th>OBESITY</th>\n",
       "      <th>RENAL_CHRONIC</th>\n",
       "      <th>TOBACCO</th>\n",
       "      <th>CLASIFFICATION_FINAL</th>\n",
       "      <th>DIED</th>\n",
       "    </tr>\n",
       "  </thead>\n",
       "  <tbody>\n",
       "    <tr>\n",
       "      <th>count</th>\n",
       "      <td>1.045453e+06</td>\n",
       "      <td>1.045453e+06</td>\n",
       "      <td>1.045453e+06</td>\n",
       "      <td>1.045453e+06</td>\n",
       "      <td>192114.000000</td>\n",
       "      <td>1.029461e+06</td>\n",
       "      <td>1.045453e+06</td>\n",
       "      <td>519721.000000</td>\n",
       "      <td>1.042121e+06</td>\n",
       "      <td>1.042454e+06</td>\n",
       "      <td>1.042479e+06</td>\n",
       "      <td>1.042054e+06</td>\n",
       "      <td>1.042352e+06</td>\n",
       "      <td>1.040423e+06</td>\n",
       "      <td>1.042381e+06</td>\n",
       "      <td>1.042424e+06</td>\n",
       "      <td>1.042450e+06</td>\n",
       "      <td>1.042237e+06</td>\n",
       "      <td>1.045453e+06</td>\n",
       "      <td>1.045453e+06</td>\n",
       "    </tr>\n",
       "    <tr>\n",
       "      <th>mean</th>\n",
       "      <td>1.631842e+00</td>\n",
       "      <td>8.973974e+00</td>\n",
       "      <td>1.499287e+00</td>\n",
       "      <td>8.092454e-01</td>\n",
       "      <td>0.174933</td>\n",
       "      <td>1.355214e-01</td>\n",
       "      <td>4.179397e+01</td>\n",
       "      <td>0.015606</td>\n",
       "      <td>1.195639e-01</td>\n",
       "      <td>1.440351e-02</td>\n",
       "      <td>3.021931e-02</td>\n",
       "      <td>1.356648e-02</td>\n",
       "      <td>1.557391e-01</td>\n",
       "      <td>2.692751e-02</td>\n",
       "      <td>1.987085e-02</td>\n",
       "      <td>1.528908e-01</td>\n",
       "      <td>1.808528e-02</td>\n",
       "      <td>8.067743e-02</td>\n",
       "      <td>5.309552e+00</td>\n",
       "      <td>7.345524e-02</td>\n",
       "    </tr>\n",
       "    <tr>\n",
       "      <th>std</th>\n",
       "      <td>4.823048e-01</td>\n",
       "      <td>3.724575e+00</td>\n",
       "      <td>4.999997e-01</td>\n",
       "      <td>3.928962e-01</td>\n",
       "      <td>0.379910</td>\n",
       "      <td>3.422798e-01</td>\n",
       "      <td>1.690858e+01</td>\n",
       "      <td>0.123947</td>\n",
       "      <td>3.244510e-01</td>\n",
       "      <td>1.191472e-01</td>\n",
       "      <td>1.711903e-01</td>\n",
       "      <td>1.156825e-01</td>\n",
       "      <td>3.626080e-01</td>\n",
       "      <td>1.618717e-01</td>\n",
       "      <td>1.395565e-01</td>\n",
       "      <td>3.598823e-01</td>\n",
       "      <td>1.332600e-01</td>\n",
       "      <td>2.723392e-01</td>\n",
       "      <td>1.882617e+00</td>\n",
       "      <td>2.608824e-01</td>\n",
       "    </tr>\n",
       "    <tr>\n",
       "      <th>min</th>\n",
       "      <td>1.000000e+00</td>\n",
       "      <td>1.000000e+00</td>\n",
       "      <td>1.000000e+00</td>\n",
       "      <td>0.000000e+00</td>\n",
       "      <td>0.000000</td>\n",
       "      <td>0.000000e+00</td>\n",
       "      <td>0.000000e+00</td>\n",
       "      <td>0.000000</td>\n",
       "      <td>0.000000e+00</td>\n",
       "      <td>0.000000e+00</td>\n",
       "      <td>0.000000e+00</td>\n",
       "      <td>0.000000e+00</td>\n",
       "      <td>0.000000e+00</td>\n",
       "      <td>0.000000e+00</td>\n",
       "      <td>0.000000e+00</td>\n",
       "      <td>0.000000e+00</td>\n",
       "      <td>0.000000e+00</td>\n",
       "      <td>0.000000e+00</td>\n",
       "      <td>1.000000e+00</td>\n",
       "      <td>0.000000e+00</td>\n",
       "    </tr>\n",
       "    <tr>\n",
       "      <th>25%</th>\n",
       "      <td>1.000000e+00</td>\n",
       "      <td>4.000000e+00</td>\n",
       "      <td>1.000000e+00</td>\n",
       "      <td>1.000000e+00</td>\n",
       "      <td>0.000000</td>\n",
       "      <td>0.000000e+00</td>\n",
       "      <td>3.000000e+01</td>\n",
       "      <td>0.000000</td>\n",
       "      <td>0.000000e+00</td>\n",
       "      <td>0.000000e+00</td>\n",
       "      <td>0.000000e+00</td>\n",
       "      <td>0.000000e+00</td>\n",
       "      <td>0.000000e+00</td>\n",
       "      <td>0.000000e+00</td>\n",
       "      <td>0.000000e+00</td>\n",
       "      <td>0.000000e+00</td>\n",
       "      <td>0.000000e+00</td>\n",
       "      <td>0.000000e+00</td>\n",
       "      <td>3.000000e+00</td>\n",
       "      <td>0.000000e+00</td>\n",
       "    </tr>\n",
       "    <tr>\n",
       "      <th>50%</th>\n",
       "      <td>2.000000e+00</td>\n",
       "      <td>1.200000e+01</td>\n",
       "      <td>1.000000e+00</td>\n",
       "      <td>1.000000e+00</td>\n",
       "      <td>0.000000</td>\n",
       "      <td>0.000000e+00</td>\n",
       "      <td>4.000000e+01</td>\n",
       "      <td>0.000000</td>\n",
       "      <td>0.000000e+00</td>\n",
       "      <td>0.000000e+00</td>\n",
       "      <td>0.000000e+00</td>\n",
       "      <td>0.000000e+00</td>\n",
       "      <td>0.000000e+00</td>\n",
       "      <td>0.000000e+00</td>\n",
       "      <td>0.000000e+00</td>\n",
       "      <td>0.000000e+00</td>\n",
       "      <td>0.000000e+00</td>\n",
       "      <td>0.000000e+00</td>\n",
       "      <td>6.000000e+00</td>\n",
       "      <td>0.000000e+00</td>\n",
       "    </tr>\n",
       "    <tr>\n",
       "      <th>75%</th>\n",
       "      <td>2.000000e+00</td>\n",
       "      <td>1.200000e+01</td>\n",
       "      <td>2.000000e+00</td>\n",
       "      <td>1.000000e+00</td>\n",
       "      <td>0.000000</td>\n",
       "      <td>0.000000e+00</td>\n",
       "      <td>5.300000e+01</td>\n",
       "      <td>0.000000</td>\n",
       "      <td>0.000000e+00</td>\n",
       "      <td>0.000000e+00</td>\n",
       "      <td>0.000000e+00</td>\n",
       "      <td>0.000000e+00</td>\n",
       "      <td>0.000000e+00</td>\n",
       "      <td>0.000000e+00</td>\n",
       "      <td>0.000000e+00</td>\n",
       "      <td>0.000000e+00</td>\n",
       "      <td>0.000000e+00</td>\n",
       "      <td>0.000000e+00</td>\n",
       "      <td>7.000000e+00</td>\n",
       "      <td>0.000000e+00</td>\n",
       "    </tr>\n",
       "    <tr>\n",
       "      <th>max</th>\n",
       "      <td>2.000000e+00</td>\n",
       "      <td>1.300000e+01</td>\n",
       "      <td>2.000000e+00</td>\n",
       "      <td>1.000000e+00</td>\n",
       "      <td>1.000000</td>\n",
       "      <td>1.000000e+00</td>\n",
       "      <td>1.210000e+02</td>\n",
       "      <td>1.000000</td>\n",
       "      <td>1.000000e+00</td>\n",
       "      <td>1.000000e+00</td>\n",
       "      <td>1.000000e+00</td>\n",
       "      <td>1.000000e+00</td>\n",
       "      <td>1.000000e+00</td>\n",
       "      <td>1.000000e+00</td>\n",
       "      <td>1.000000e+00</td>\n",
       "      <td>1.000000e+00</td>\n",
       "      <td>1.000000e+00</td>\n",
       "      <td>1.000000e+00</td>\n",
       "      <td>7.000000e+00</td>\n",
       "      <td>1.000000e+00</td>\n",
       "    </tr>\n",
       "  </tbody>\n",
       "</table>\n",
       "</div>"
      ]
     },
     "execution_count": 10,
     "metadata": {},
     "output_type": "execute_result"
    }
   ],
   "execution_count": 10
  },
  {
   "cell_type": "code",
   "metadata": {
    "ExecuteTime": {
     "end_time": "2024-12-06T05:31:35.790948Z",
     "start_time": "2024-12-06T05:31:35.766807Z"
    }
   },
   "source": [
    "df.info()"
   ],
   "outputs": [
    {
     "name": "stdout",
     "output_type": "stream",
     "text": [
      "<class 'pandas.core.frame.DataFrame'>\n",
      "Index: 1045453 entries, 0 to 1048574\n",
      "Data columns (total 20 columns):\n",
      " #   Column                Non-Null Count    Dtype  \n",
      "---  ------                --------------    -----  \n",
      " 0   USMER                 1045453 non-null  int64  \n",
      " 1   MEDICAL_UNIT          1045453 non-null  int64  \n",
      " 2   SEX                   1045453 non-null  int64  \n",
      " 3   PATIENT_TYPE          1045453 non-null  int64  \n",
      " 4   INTUBED               192114 non-null   float64\n",
      " 5   PNEUMONIA             1029461 non-null  float64\n",
      " 6   AGE                   1045453 non-null  int64  \n",
      " 7   PREGNANT              519721 non-null   float64\n",
      " 8   DIABETES              1042121 non-null  float64\n",
      " 9   COPD                  1042454 non-null  float64\n",
      " 10  ASTHMA                1042479 non-null  float64\n",
      " 11  INMSUPR               1042054 non-null  float64\n",
      " 12  HIPERTENSION          1042352 non-null  float64\n",
      " 13  OTHER_DISEASE         1040423 non-null  float64\n",
      " 14  CARDIOVASCULAR        1042381 non-null  float64\n",
      " 15  OBESITY               1042424 non-null  float64\n",
      " 16  RENAL_CHRONIC         1042450 non-null  float64\n",
      " 17  TOBACCO               1042237 non-null  float64\n",
      " 18  CLASIFFICATION_FINAL  1045453 non-null  int64  \n",
      " 19  DIED                  1045453 non-null  int64  \n",
      "dtypes: float64(13), int64(7)\n",
      "memory usage: 167.5 MB\n"
     ]
    }
   ],
   "execution_count": 11
  },
  {
   "cell_type": "code",
   "metadata": {
    "ExecuteTime": {
     "end_time": "2024-12-06T05:31:35.828707Z",
     "start_time": "2024-12-06T05:31:35.815335Z"
    }
   },
   "source": [
    "df.isnull().sum()"
   ],
   "outputs": [
    {
     "data": {
      "text/plain": [
       "USMER                        0\n",
       "MEDICAL_UNIT                 0\n",
       "SEX                          0\n",
       "PATIENT_TYPE                 0\n",
       "INTUBED                 853339\n",
       "PNEUMONIA                15992\n",
       "AGE                          0\n",
       "PREGNANT                525732\n",
       "DIABETES                  3332\n",
       "COPD                      2999\n",
       "ASTHMA                    2974\n",
       "INMSUPR                   3399\n",
       "HIPERTENSION              3101\n",
       "OTHER_DISEASE             5030\n",
       "CARDIOVASCULAR            3072\n",
       "OBESITY                   3029\n",
       "RENAL_CHRONIC             3003\n",
       "TOBACCO                   3216\n",
       "CLASIFFICATION_FINAL         0\n",
       "DIED                         0\n",
       "dtype: int64"
      ]
     },
     "execution_count": 12,
     "metadata": {},
     "output_type": "execute_result"
    }
   ],
   "execution_count": 12
  },
  {
   "cell_type": "markdown",
   "metadata": {},
   "source": [
    "Tratar PREGNANT"
   ]
  },
  {
   "cell_type": "code",
   "metadata": {
    "ExecuteTime": {
     "end_time": "2024-12-06T05:31:35.922368Z",
     "start_time": "2024-12-06T05:31:35.875406Z"
    }
   },
   "source": [
    "df[\"PREGNANT\"].describe()"
   ],
   "outputs": [
    {
     "data": {
      "text/plain": [
       "count    519721.000000\n",
       "mean          0.015606\n",
       "std           0.123947\n",
       "min           0.000000\n",
       "25%           0.000000\n",
       "50%           0.000000\n",
       "75%           0.000000\n",
       "max           1.000000\n",
       "Name: PREGNANT, dtype: float64"
      ]
     },
     "execution_count": 13,
     "metadata": {},
     "output_type": "execute_result"
    }
   ],
   "execution_count": 13
  },
  {
   "cell_type": "code",
   "metadata": {
    "ExecuteTime": {
     "end_time": "2024-12-06T05:31:38.889776Z",
     "start_time": "2024-12-06T05:31:35.949639Z"
    }
   },
   "source": [
    "# PONER PREGNANT COMO FALSE SI ES HOMBRE\n",
    "\n",
    "# Cambiar valores en col2 usando una función\n",
    "df['PREGNANT'] = df.apply(lambda row: 0 if row['SEX'] == 2 else row['PREGNANT'], axis=1)"
   ],
   "outputs": [],
   "execution_count": 14
  },
  {
   "cell_type": "code",
   "metadata": {
    "ExecuteTime": {
     "end_time": "2024-12-06T05:31:38.957379Z",
     "start_time": "2024-12-06T05:31:38.927165Z"
    }
   },
   "source": [
    "df.isnull().sum()[\"PREGNANT\"]"
   ],
   "outputs": [
    {
     "data": {
      "text/plain": [
       "np.int64(3751)"
      ]
     },
     "execution_count": 15,
     "metadata": {},
     "output_type": "execute_result"
    }
   ],
   "execution_count": 15
  },
  {
   "cell_type": "code",
   "metadata": {
    "ExecuteTime": {
     "end_time": "2024-12-06T05:31:39.108994Z",
     "start_time": "2024-12-06T05:31:39.087033Z"
    }
   },
   "source": [
    "df[\"PREGNANT\"].describe()"
   ],
   "outputs": [
    {
     "data": {
      "text/plain": [
       "count    1.041702e+06\n",
       "mean     7.786296e-03\n",
       "std      8.789583e-02\n",
       "min      0.000000e+00\n",
       "25%      0.000000e+00\n",
       "50%      0.000000e+00\n",
       "75%      0.000000e+00\n",
       "max      1.000000e+00\n",
       "Name: PREGNANT, dtype: float64"
      ]
     },
     "execution_count": 16,
     "metadata": {},
     "output_type": "execute_result"
    }
   ],
   "execution_count": 16
  },
  {
   "metadata": {
    "ExecuteTime": {
     "end_time": "2024-12-06T05:31:39.233459Z",
     "start_time": "2024-12-06T05:31:39.135935Z"
    }
   },
   "cell_type": "code",
   "source": [
    "# Quitar INTUBED por alta cantidad de nulos y alta correlación con PATIENT_TYPE\n",
    "\n",
    "df = df.drop('INTUBED', axis=1)"
   ],
   "outputs": [],
   "execution_count": 17
  },
  {
   "cell_type": "markdown",
   "metadata": {},
   "source": [
    "### Quitar nulos"
   ]
  },
  {
   "cell_type": "code",
   "metadata": {
    "ExecuteTime": {
     "end_time": "2024-12-06T05:32:30.306655Z",
     "start_time": "2024-12-06T05:31:39.251650Z"
    }
   },
   "source": [
    "#df.drop(df[df['PATIENT_TYPE'].isnull()].index, inplace=True)\n",
    "\n",
    "#df.drop(df[df['PNEUMONIA'].isnull()].index, inplace=True)\n",
    "\n",
    "#df.drop(df[df['DIABETES'].isnull()].index, inplace=True)\n",
    "\n",
    "#df.drop(df[df['COPD'].isnull()].index, inplace=True)\n",
    "\n",
    "#df.drop(df[df['ASTHMA'].isnull()].index, inplace=True)\n",
    "\n",
    "#df.drop(df[df['INMSUPR'].isnull()].index, inplace=True)\n",
    "\n",
    "#df.drop(df[df['HIPERTENSION'].isnull()].index, inplace=True)\n",
    "\n",
    "#df.drop(df[df['OTHER_DISEASE'].isnull()].index, inplace=True)\n",
    "\n",
    "#df.drop(df[df['CARDIOVASCULAR'].isnull()].index, inplace=True)\n",
    "\n",
    "#df.drop(df[df['OBESITY'].isnull()].index, inplace=True)\n",
    "\n",
    "#df.drop(df[df['RENAL_CHRONIC'].isnull()].index, inplace=True)\n",
    "\n",
    "#df.drop(df[df['TOBACCO'].isnull()].index, inplace=True)\n",
    "\n",
    "#df.drop(df[df['PREGNANT'].isnull()].index, inplace=True)\n",
    "\n",
    "from sklearn.experimental import enable_iterative_imputer\n",
    "from sklearn.impute import IterativeImputer\n",
    "\n",
    "# Crear el imputador\n",
    "iterative_imputer = IterativeImputer(max_iter=10, random_state=42)\n",
    "\n",
    "# Aplicar imputación\n",
    "imputed_data = iterative_imputer.fit_transform(df)\n",
    "\n",
    "# Convertir a DataFrame si es necesario\n",
    "df = pd.DataFrame(imputed_data, columns=df.columns)\n",
    "\n",
    "df.isnull().sum()"
   ],
   "outputs": [
    {
     "data": {
      "text/plain": [
       "USMER                   0\n",
       "MEDICAL_UNIT            0\n",
       "SEX                     0\n",
       "PATIENT_TYPE            0\n",
       "PNEUMONIA               0\n",
       "AGE                     0\n",
       "PREGNANT                0\n",
       "DIABETES                0\n",
       "COPD                    0\n",
       "ASTHMA                  0\n",
       "INMSUPR                 0\n",
       "HIPERTENSION            0\n",
       "OTHER_DISEASE           0\n",
       "CARDIOVASCULAR          0\n",
       "OBESITY                 0\n",
       "RENAL_CHRONIC           0\n",
       "TOBACCO                 0\n",
       "CLASIFFICATION_FINAL    0\n",
       "DIED                    0\n",
       "dtype: int64"
      ]
     },
     "execution_count": 18,
     "metadata": {},
     "output_type": "execute_result"
    }
   ],
   "execution_count": 18
  },
  {
   "metadata": {
    "ExecuteTime": {
     "end_time": "2024-12-06T05:32:30.661205Z",
     "start_time": "2024-12-06T05:32:30.342724Z"
    }
   },
   "cell_type": "code",
   "source": "df.describe()",
   "outputs": [
    {
     "data": {
      "text/plain": [
       "              USMER  MEDICAL_UNIT           SEX  PATIENT_TYPE     PNEUMONIA  \\\n",
       "count  1.045453e+06  1.045453e+06  1.045453e+06  1.045453e+06  1.045453e+06   \n",
       "mean   1.631842e+00  8.973974e+00  1.499287e+00  8.092454e-01  1.362255e-01   \n",
       "std    4.823048e-01  3.724575e+00  4.999997e-01  3.928962e-01  3.410485e-01   \n",
       "min    1.000000e+00  1.000000e+00  1.000000e+00  0.000000e+00 -6.402932e-02   \n",
       "25%    1.000000e+00  4.000000e+00  1.000000e+00  1.000000e+00  0.000000e+00   \n",
       "50%    2.000000e+00  1.200000e+01  1.000000e+00  1.000000e+00  0.000000e+00   \n",
       "75%    2.000000e+00  1.200000e+01  2.000000e+00  1.000000e+00  0.000000e+00   \n",
       "max    2.000000e+00  1.300000e+01  2.000000e+00  1.000000e+00  1.000000e+00   \n",
       "\n",
       "                AGE      PREGNANT      DIABETES          COPD        ASTHMA  \\\n",
       "count  1.045453e+06  1.045453e+06  1.045453e+06  1.045453e+06  1.045453e+06   \n",
       "mean   4.179397e+01  7.818675e-03  1.197880e-01  1.444022e-02  3.020900e-02   \n",
       "std    1.690858e+01  8.774120e-02  3.240630e-01  1.189876e-01  1.709484e-01   \n",
       "min    0.000000e+00 -1.616576e-02 -1.341604e-01 -3.713933e-02 -1.049676e-02   \n",
       "25%    3.000000e+01  0.000000e+00  0.000000e+00  0.000000e+00  0.000000e+00   \n",
       "50%    4.000000e+01  0.000000e+00  0.000000e+00  0.000000e+00  0.000000e+00   \n",
       "75%    5.300000e+01  0.000000e+00  0.000000e+00  0.000000e+00  0.000000e+00   \n",
       "max    1.210000e+02  1.000000e+00  1.000000e+00  1.000000e+00  1.000000e+00   \n",
       "\n",
       "            INMSUPR  HIPERTENSION  OTHER_DISEASE  CARDIOVASCULAR  \\\n",
       "count  1.045453e+06  1.045453e+06   1.045453e+06    1.045453e+06   \n",
       "mean   1.359195e-02  1.559666e-01   2.694952e-02    1.991539e-02   \n",
       "std    1.155027e-01  3.622151e-01   1.614997e-01    1.393644e-01   \n",
       "min   -4.334197e-03 -1.938122e-01  -1.015799e-02   -2.704071e-02   \n",
       "25%    0.000000e+00  0.000000e+00   0.000000e+00    0.000000e+00   \n",
       "50%    0.000000e+00  0.000000e+00   0.000000e+00    0.000000e+00   \n",
       "75%    0.000000e+00  0.000000e+00   0.000000e+00    0.000000e+00   \n",
       "max    1.000000e+00  1.017757e+00   1.000000e+00    1.000000e+00   \n",
       "\n",
       "            OBESITY  RENAL_CHRONIC       TOBACCO  CLASIFFICATION_FINAL  \\\n",
       "count  1.045453e+06   1.045453e+06  1.045453e+06          1.045453e+06   \n",
       "mean   1.529621e-01   1.812791e-02  8.071562e-02          5.309552e+00   \n",
       "std    3.593773e-01   1.330838e-01  2.719288e-01          1.882617e+00   \n",
       "min    0.000000e+00  -1.801093e-02  0.000000e+00          1.000000e+00   \n",
       "25%    0.000000e+00   0.000000e+00  0.000000e+00          3.000000e+00   \n",
       "50%    0.000000e+00   0.000000e+00  0.000000e+00          6.000000e+00   \n",
       "75%    0.000000e+00   0.000000e+00  0.000000e+00          7.000000e+00   \n",
       "max    1.000000e+00   1.000000e+00  1.000000e+00          7.000000e+00   \n",
       "\n",
       "               DIED  \n",
       "count  1.045453e+06  \n",
       "mean   7.345524e-02  \n",
       "std    2.608824e-01  \n",
       "min    0.000000e+00  \n",
       "25%    0.000000e+00  \n",
       "50%    0.000000e+00  \n",
       "75%    0.000000e+00  \n",
       "max    1.000000e+00  "
      ],
      "text/html": [
       "<div>\n",
       "<style scoped>\n",
       "    .dataframe tbody tr th:only-of-type {\n",
       "        vertical-align: middle;\n",
       "    }\n",
       "\n",
       "    .dataframe tbody tr th {\n",
       "        vertical-align: top;\n",
       "    }\n",
       "\n",
       "    .dataframe thead th {\n",
       "        text-align: right;\n",
       "    }\n",
       "</style>\n",
       "<table border=\"1\" class=\"dataframe\">\n",
       "  <thead>\n",
       "    <tr style=\"text-align: right;\">\n",
       "      <th></th>\n",
       "      <th>USMER</th>\n",
       "      <th>MEDICAL_UNIT</th>\n",
       "      <th>SEX</th>\n",
       "      <th>PATIENT_TYPE</th>\n",
       "      <th>PNEUMONIA</th>\n",
       "      <th>AGE</th>\n",
       "      <th>PREGNANT</th>\n",
       "      <th>DIABETES</th>\n",
       "      <th>COPD</th>\n",
       "      <th>ASTHMA</th>\n",
       "      <th>INMSUPR</th>\n",
       "      <th>HIPERTENSION</th>\n",
       "      <th>OTHER_DISEASE</th>\n",
       "      <th>CARDIOVASCULAR</th>\n",
       "      <th>OBESITY</th>\n",
       "      <th>RENAL_CHRONIC</th>\n",
       "      <th>TOBACCO</th>\n",
       "      <th>CLASIFFICATION_FINAL</th>\n",
       "      <th>DIED</th>\n",
       "    </tr>\n",
       "  </thead>\n",
       "  <tbody>\n",
       "    <tr>\n",
       "      <th>count</th>\n",
       "      <td>1.045453e+06</td>\n",
       "      <td>1.045453e+06</td>\n",
       "      <td>1.045453e+06</td>\n",
       "      <td>1.045453e+06</td>\n",
       "      <td>1.045453e+06</td>\n",
       "      <td>1.045453e+06</td>\n",
       "      <td>1.045453e+06</td>\n",
       "      <td>1.045453e+06</td>\n",
       "      <td>1.045453e+06</td>\n",
       "      <td>1.045453e+06</td>\n",
       "      <td>1.045453e+06</td>\n",
       "      <td>1.045453e+06</td>\n",
       "      <td>1.045453e+06</td>\n",
       "      <td>1.045453e+06</td>\n",
       "      <td>1.045453e+06</td>\n",
       "      <td>1.045453e+06</td>\n",
       "      <td>1.045453e+06</td>\n",
       "      <td>1.045453e+06</td>\n",
       "      <td>1.045453e+06</td>\n",
       "    </tr>\n",
       "    <tr>\n",
       "      <th>mean</th>\n",
       "      <td>1.631842e+00</td>\n",
       "      <td>8.973974e+00</td>\n",
       "      <td>1.499287e+00</td>\n",
       "      <td>8.092454e-01</td>\n",
       "      <td>1.362255e-01</td>\n",
       "      <td>4.179397e+01</td>\n",
       "      <td>7.818675e-03</td>\n",
       "      <td>1.197880e-01</td>\n",
       "      <td>1.444022e-02</td>\n",
       "      <td>3.020900e-02</td>\n",
       "      <td>1.359195e-02</td>\n",
       "      <td>1.559666e-01</td>\n",
       "      <td>2.694952e-02</td>\n",
       "      <td>1.991539e-02</td>\n",
       "      <td>1.529621e-01</td>\n",
       "      <td>1.812791e-02</td>\n",
       "      <td>8.071562e-02</td>\n",
       "      <td>5.309552e+00</td>\n",
       "      <td>7.345524e-02</td>\n",
       "    </tr>\n",
       "    <tr>\n",
       "      <th>std</th>\n",
       "      <td>4.823048e-01</td>\n",
       "      <td>3.724575e+00</td>\n",
       "      <td>4.999997e-01</td>\n",
       "      <td>3.928962e-01</td>\n",
       "      <td>3.410485e-01</td>\n",
       "      <td>1.690858e+01</td>\n",
       "      <td>8.774120e-02</td>\n",
       "      <td>3.240630e-01</td>\n",
       "      <td>1.189876e-01</td>\n",
       "      <td>1.709484e-01</td>\n",
       "      <td>1.155027e-01</td>\n",
       "      <td>3.622151e-01</td>\n",
       "      <td>1.614997e-01</td>\n",
       "      <td>1.393644e-01</td>\n",
       "      <td>3.593773e-01</td>\n",
       "      <td>1.330838e-01</td>\n",
       "      <td>2.719288e-01</td>\n",
       "      <td>1.882617e+00</td>\n",
       "      <td>2.608824e-01</td>\n",
       "    </tr>\n",
       "    <tr>\n",
       "      <th>min</th>\n",
       "      <td>1.000000e+00</td>\n",
       "      <td>1.000000e+00</td>\n",
       "      <td>1.000000e+00</td>\n",
       "      <td>0.000000e+00</td>\n",
       "      <td>-6.402932e-02</td>\n",
       "      <td>0.000000e+00</td>\n",
       "      <td>-1.616576e-02</td>\n",
       "      <td>-1.341604e-01</td>\n",
       "      <td>-3.713933e-02</td>\n",
       "      <td>-1.049676e-02</td>\n",
       "      <td>-4.334197e-03</td>\n",
       "      <td>-1.938122e-01</td>\n",
       "      <td>-1.015799e-02</td>\n",
       "      <td>-2.704071e-02</td>\n",
       "      <td>0.000000e+00</td>\n",
       "      <td>-1.801093e-02</td>\n",
       "      <td>0.000000e+00</td>\n",
       "      <td>1.000000e+00</td>\n",
       "      <td>0.000000e+00</td>\n",
       "    </tr>\n",
       "    <tr>\n",
       "      <th>25%</th>\n",
       "      <td>1.000000e+00</td>\n",
       "      <td>4.000000e+00</td>\n",
       "      <td>1.000000e+00</td>\n",
       "      <td>1.000000e+00</td>\n",
       "      <td>0.000000e+00</td>\n",
       "      <td>3.000000e+01</td>\n",
       "      <td>0.000000e+00</td>\n",
       "      <td>0.000000e+00</td>\n",
       "      <td>0.000000e+00</td>\n",
       "      <td>0.000000e+00</td>\n",
       "      <td>0.000000e+00</td>\n",
       "      <td>0.000000e+00</td>\n",
       "      <td>0.000000e+00</td>\n",
       "      <td>0.000000e+00</td>\n",
       "      <td>0.000000e+00</td>\n",
       "      <td>0.000000e+00</td>\n",
       "      <td>0.000000e+00</td>\n",
       "      <td>3.000000e+00</td>\n",
       "      <td>0.000000e+00</td>\n",
       "    </tr>\n",
       "    <tr>\n",
       "      <th>50%</th>\n",
       "      <td>2.000000e+00</td>\n",
       "      <td>1.200000e+01</td>\n",
       "      <td>1.000000e+00</td>\n",
       "      <td>1.000000e+00</td>\n",
       "      <td>0.000000e+00</td>\n",
       "      <td>4.000000e+01</td>\n",
       "      <td>0.000000e+00</td>\n",
       "      <td>0.000000e+00</td>\n",
       "      <td>0.000000e+00</td>\n",
       "      <td>0.000000e+00</td>\n",
       "      <td>0.000000e+00</td>\n",
       "      <td>0.000000e+00</td>\n",
       "      <td>0.000000e+00</td>\n",
       "      <td>0.000000e+00</td>\n",
       "      <td>0.000000e+00</td>\n",
       "      <td>0.000000e+00</td>\n",
       "      <td>0.000000e+00</td>\n",
       "      <td>6.000000e+00</td>\n",
       "      <td>0.000000e+00</td>\n",
       "    </tr>\n",
       "    <tr>\n",
       "      <th>75%</th>\n",
       "      <td>2.000000e+00</td>\n",
       "      <td>1.200000e+01</td>\n",
       "      <td>2.000000e+00</td>\n",
       "      <td>1.000000e+00</td>\n",
       "      <td>0.000000e+00</td>\n",
       "      <td>5.300000e+01</td>\n",
       "      <td>0.000000e+00</td>\n",
       "      <td>0.000000e+00</td>\n",
       "      <td>0.000000e+00</td>\n",
       "      <td>0.000000e+00</td>\n",
       "      <td>0.000000e+00</td>\n",
       "      <td>0.000000e+00</td>\n",
       "      <td>0.000000e+00</td>\n",
       "      <td>0.000000e+00</td>\n",
       "      <td>0.000000e+00</td>\n",
       "      <td>0.000000e+00</td>\n",
       "      <td>0.000000e+00</td>\n",
       "      <td>7.000000e+00</td>\n",
       "      <td>0.000000e+00</td>\n",
       "    </tr>\n",
       "    <tr>\n",
       "      <th>max</th>\n",
       "      <td>2.000000e+00</td>\n",
       "      <td>1.300000e+01</td>\n",
       "      <td>2.000000e+00</td>\n",
       "      <td>1.000000e+00</td>\n",
       "      <td>1.000000e+00</td>\n",
       "      <td>1.210000e+02</td>\n",
       "      <td>1.000000e+00</td>\n",
       "      <td>1.000000e+00</td>\n",
       "      <td>1.000000e+00</td>\n",
       "      <td>1.000000e+00</td>\n",
       "      <td>1.000000e+00</td>\n",
       "      <td>1.017757e+00</td>\n",
       "      <td>1.000000e+00</td>\n",
       "      <td>1.000000e+00</td>\n",
       "      <td>1.000000e+00</td>\n",
       "      <td>1.000000e+00</td>\n",
       "      <td>1.000000e+00</td>\n",
       "      <td>7.000000e+00</td>\n",
       "      <td>1.000000e+00</td>\n",
       "    </tr>\n",
       "  </tbody>\n",
       "</table>\n",
       "</div>"
      ]
     },
     "execution_count": 19,
     "metadata": {},
     "output_type": "execute_result"
    }
   ],
   "execution_count": 19
  },
  {
   "cell_type": "code",
   "metadata": {
    "ExecuteTime": {
     "end_time": "2024-12-06T05:32:31.452275Z",
     "start_time": "2024-12-06T05:32:30.680267Z"
    }
   },
   "source": [
    "import seaborn as sns\n",
    "import matplotlib.pyplot as plt\n",
    "\n",
    "plt.figure(figsize=(10, 8))\n",
    "corr = df.corr()\n",
    "sns.heatmap(corr, cmap='Reds', annot=True, fmt=\".2f\", annot_kws={'size': 6})\n",
    "plt.title('Matriz de Correlación de Variables')\n",
    "plt.show()"
   ],
   "outputs": [
    {
     "data": {
      "text/plain": [
       "<Figure size 1000x800 with 2 Axes>"
      ],
      "image/png": "[encoded data removed]"
     },
     "metadata": {},
     "output_type": "display_data"
    }
   ],
   "execution_count": 20
  },
  {
   "metadata": {
    "ExecuteTime": {
     "end_time": "2024-12-06T05:32:36.584526Z",
     "start_time": "2024-12-06T05:32:31.459624Z"
    }
   },
   "cell_type": "code",
   "source": [
    "# GUARDAR DF EN UN CSV\n",
    "\n",
    "df.to_csv(\"./clean_covid_data.csv\")"
   ],
   "outputs": [],
   "execution_count": 21
  },
  {
   "cell_type": "markdown",
   "metadata": {
    "id": "o9mhmdCEtxTG"
   },
   "source": [
    "## Separar Entrenamiento y Test"
   ]
  },
  {
   "cell_type": "code",
   "metadata": {
    "id": "HP-ceamDPo2W",
    "ExecuteTime": {
     "end_time": "2024-12-06T05:32:36.991248Z",
     "start_time": "2024-12-06T05:32:36.604483Z"
    }
   },
   "source": [
    "from sklearn.model_selection import train_test_split\n",
    "\n",
    "y = df['DIED']\n",
    "X = df.drop('DIED', axis=1)\n",
    "\n",
    "X_train, X_test, y_train, y_test = train_test_split(X, y, test_size=0.3, random_state=42, stratify=y)"
   ],
   "outputs": [],
   "execution_count": 22
  },
  {
   "metadata": {},
   "cell_type": "markdown",
   "source": "# Entrenar Modelos"
  },
  {
   "metadata": {
    "ExecuteTime": {
     "end_time": "2024-12-06T05:32:37.024148Z",
     "start_time": "2024-12-06T05:32:37.020933Z"
    }
   },
   "cell_type": "code",
   "source": [
    "from sklearn.metrics import confusion_matrix, precision_score, recall_score, f1_score, roc_auc_score, accuracy_score\n",
    "\n",
    "def metrics(y_test, y_pred, y_pred_proba):\n",
    "    cm = confusion_matrix(y_test, y_pred)\n",
    "    prec = precision_score(y_test, y_pred, zero_division=0)\n",
    "    rec = recall_score(y_test, y_pred, zero_division=0)\n",
    "    f1 = f1_score(y_test, y_pred, zero_division=0)\n",
    "\n",
    "    auc = roc_auc_score(y_test, y_pred_proba[:, 1])\n",
    "\n",
    "    print(\"Matriz de Confusión:\")\n",
    "    print(cm)\n",
    "    print(f\"Precisión (Precision): {prec:.4f}\")\n",
    "    print(f\"Sensibilidad (Recall): {rec:.4f}\")\n",
    "    print(f\"F1-Score: {f1:.4f}\")\n",
    "    print(f\"AUC-ROC: {auc:.4f}\")\n",
    "    print(f\"Accuracy Score: {accuracy_score(y_test, y_pred):.4f}\" )"
   ],
   "outputs": [],
   "execution_count": 23
  },
  {
   "cell_type": "markdown",
   "metadata": {
    "id": "jJzmmu9LrYtn"
   },
   "source": [
    "Probaré con **Regresión Logística**"
   ]
  },
  {
   "cell_type": "code",
   "metadata": {
    "colab": {
     "base_uri": "https://localhost:8080/",
     "height": 80
    },
    "id": "uQhnNBISPwiX",
    "outputId": "ae1c06e1-3dc6-4cd8-bbab-c70b080ccdd7",
    "ExecuteTime": {
     "end_time": "2024-12-06T05:32:47.023387Z",
     "start_time": "2024-12-06T05:32:37.030897Z"
    }
   },
   "source": [
    "from sklearn.linear_model import LogisticRegression\n",
    "\n",
    "logreg = LogisticRegression(max_iter=100000000)\n",
    "logreg.fit(X_train, y_train)\n",
    "y_pred = logreg.predict(X_test)\n",
    "y_pred_proba = logreg.predict_proba(X_test)\n",
    "metrics(y_test, y_pred, y_pred_proba)"
   ],
   "outputs": [
    {
     "name": "stdout",
     "output_type": "stream",
     "text": [
      "Matriz de Confusión:\n",
      "[[283937   6661]\n",
      " [ 13033  10005]]\n",
      "Precisión (Precision): 0.6003\n",
      "Sensibilidad (Recall): 0.4343\n",
      "F1-Score: 0.5040\n",
      "AUC-ROC: 0.9533\n",
      "Accuracy Score: 0.9372\n"
     ]
    }
   ],
   "execution_count": 24
  },
  {
   "cell_type": "markdown",
   "metadata": {
    "id": "mAtIdbumRTjJ"
   },
   "source": [
    "Probaré **Random Forest**"
   ]
  },
  {
   "cell_type": "code",
   "metadata": {
    "id": "unE2zMvVRXxL",
    "ExecuteTime": {
     "end_time": "2024-12-06T05:33:31.751942Z",
     "start_time": "2024-12-06T05:32:47.074090Z"
    }
   },
   "source": [
    "from sklearn.ensemble import RandomForestClassifier\n",
    "\n",
    "rf = RandomForestClassifier(random_state=42)\n",
    "rf.fit(X_train, y_train)\n",
    "y_pred = rf.predict(X_test)\n",
    "y_pred_proba = rf.predict_proba(X_test)\n",
    "metrics(y_test, y_pred, y_pred_proba)"
   ],
   "outputs": [
    {
     "name": "stdout",
     "output_type": "stream",
     "text": [
      "Matriz de Confusión:\n",
      "[[282125   8473]\n",
      " [ 11901  11137]]\n",
      "Precisión (Precision): 0.5679\n",
      "Sensibilidad (Recall): 0.4834\n",
      "F1-Score: 0.5223\n",
      "AUC-ROC: 0.9362\n",
      "Accuracy Score: 0.9350\n"
     ]
    }
   ],
   "execution_count": 25
  },
  {
   "cell_type": "markdown",
   "metadata": {
    "id": "_51-9eD7VaIC"
   },
   "source": [
    "Probaré **arboles de decisión**"
   ]
  },
  {
   "cell_type": "code",
   "metadata": {
    "colab": {
     "base_uri": "https://localhost:8080/",
     "height": 80
    },
    "id": "tXG-8U7nVgCK",
    "outputId": "9a2e4b99-8799-43bd-83c4-b3a78dc983e8",
    "ExecuteTime": {
     "end_time": "2024-12-06T05:33:33.484987Z",
     "start_time": "2024-12-06T05:33:31.786126Z"
    }
   },
   "source": [
    "from sklearn.tree import DecisionTreeClassifier\n",
    "\n",
    "dt = DecisionTreeClassifier(random_state=42)\n",
    "dt.fit(X_train, y_train)\n",
    "y_pred = dt.predict(X_test)\n",
    "y_pred_proba = dt.predict_proba(X_test)\n",
    "metrics(y_test, y_pred, y_pred_proba)"
   ],
   "outputs": [
    {
     "name": "stdout",
     "output_type": "stream",
     "text": [
      "Matriz de Confusión:\n",
      "[[281542   9056]\n",
      " [ 12692  10346]]\n",
      "Precisión (Precision): 0.5332\n",
      "Sensibilidad (Recall): 0.4491\n",
      "F1-Score: 0.4876\n",
      "AUC-ROC: 0.8219\n",
      "Accuracy Score: 0.9307\n"
     ]
    }
   ],
   "execution_count": 26
  },
  {
   "cell_type": "markdown",
   "metadata": {
    "id": "tnDjjx2doDFi"
   },
   "source": [
    "Voy a balancearlos con SMOTE (Synthetic Minority Oversampling Technique) y hacer submuestreo con ENN (Edited Nearest Neighbors)"
   ]
  },
  {
   "cell_type": "code",
   "metadata": {
    "id": "5_xCqJGFeExG",
    "ExecuteTime": {
     "end_time": "2024-12-06T05:55:51.667174Z",
     "start_time": "2024-12-06T05:33:33.509129Z"
    }
   },
   "source": [
    "from imblearn.combine import SMOTEENN\n",
    "\n",
    "smote = SMOTEENN(random_state=42)\n",
    "X_train, y_train = smote.fit_resample(X_train, y_train)"
   ],
   "outputs": [],
   "execution_count": 27
  },
  {
   "cell_type": "code",
   "metadata": {
    "ExecuteTime": {
     "end_time": "2024-12-06T05:56:02.787455Z",
     "start_time": "2024-12-06T05:55:51.712940Z"
    }
   },
   "source": [
    "from sklearn.linear_model import LogisticRegression\n",
    "\n",
    "logreg = LogisticRegression(max_iter=100000000)\n",
    "logreg.fit(X_train, y_train)\n",
    "y_pred = logreg.predict(X_test)\n",
    "y_pred_proba = logreg.predict_proba(X_test)\n",
    "metrics(y_test, y_pred, y_pred_proba)"
   ],
   "outputs": [
    {
     "name": "stdout",
     "output_type": "stream",
     "text": [
      "Matriz de Confusión:\n",
      "[[257423  33175]\n",
      " [  1643  21395]]\n",
      "Precisión (Precision): 0.3921\n",
      "Sensibilidad (Recall): 0.9287\n",
      "F1-Score: 0.5514\n",
      "AUC-ROC: 0.9525\n",
      "Accuracy Score: 0.8890\n"
     ]
    }
   ],
   "execution_count": 28
  },
  {
   "metadata": {
    "ExecuteTime": {
     "end_time": "2024-12-06T05:57:04.969491Z",
     "start_time": "2024-12-06T05:56:02.793229Z"
    }
   },
   "cell_type": "code",
   "source": [
    "from sklearn.ensemble import RandomForestClassifier\n",
    "\n",
    "rf = RandomForestClassifier(random_state=42)\n",
    "rf.fit(X_train, y_train)\n",
    "y_pred = rf.predict(X_test)\n",
    "y_pred_proba = rf.predict_proba(X_test)\n",
    "metrics(y_test, y_pred, y_pred_proba)"
   ],
   "outputs": [
    {
     "name": "stdout",
     "output_type": "stream",
     "text": [
      "Matriz de Confusión:\n",
      "[[269324  21274]\n",
      " [  5099  17939]]\n",
      "Precisión (Precision): 0.4575\n",
      "Sensibilidad (Recall): 0.7787\n",
      "F1-Score: 0.5763\n",
      "AUC-ROC: 0.9159\n",
      "Accuracy Score: 0.9159\n"
     ]
    }
   ],
   "execution_count": 29
  },
  {
   "metadata": {
    "ExecuteTime": {
     "end_time": "2024-12-06T05:57:08.087284Z",
     "start_time": "2024-12-06T05:57:05.009602Z"
    }
   },
   "cell_type": "code",
   "source": [
    "from sklearn.tree import DecisionTreeClassifier\n",
    "\n",
    "dt = DecisionTreeClassifier(random_state=42)\n",
    "dt.fit(X_train, y_train)\n",
    "y_pred = dt.predict(X_test)\n",
    "y_pred_proba = dt.predict_proba(X_test)\n",
    "metrics(y_test, y_pred, y_pred_proba)"
   ],
   "outputs": [
    {
     "name": "stdout",
     "output_type": "stream",
     "text": [
      "Matriz de Confusión:\n",
      "[[269783  20815]\n",
      " [  5682  17356]]\n",
      "Precisión (Precision): 0.4547\n",
      "Sensibilidad (Recall): 0.7534\n",
      "F1-Score: 0.5671\n",
      "AUC-ROC: 0.8409\n",
      "Accuracy Score: 0.9155\n"
     ]
    }
   ],
   "execution_count": 30
  },
  {
   "metadata": {},
   "cell_type": "markdown",
   "source": "### GridSearchCV"
  },
  {
   "metadata": {},
   "cell_type": "markdown",
   "source": "Probaré **GridSearchCV**. Me ayuda a encontra la mejor combinación de parametros para el modelo que escoja."
  },
  {
   "cell_type": "code",
   "metadata": {
    "id": "i-s-Vj9NoZQb"
   },
   "source": [
    "from sklearn.ensemble import RandomForestClassifier\n",
    "from sklearn.model_selection import GridSearchCV\n",
    "\n",
    "params =  {\n",
    "    'n_estimators': [50, 100, 200],\n",
    "    'max_depth': [None, 10, 20, 30, 40],\n",
    "    'min_samples_split': [2, 5, 10]\n",
    "}\n",
    "\n",
    "grid_search = GridSearchCV(RandomForestClassifier(), params, cv=5, n_jobs=-1)\n",
    "grid_search.fit(X_train, y_train)"
   ],
   "outputs": [],
   "execution_count": null
  },
  {
   "cell_type": "code",
   "metadata": {},
   "source": [
    "best_rf = grid_search.best_estimator_\n",
    "\n",
    "print(\"Mejores Hiperparámetros:\", grid_search.best_params_)\n",
    "print(\"Mejor Score de Validación:\", grid_search.best_score_)"
   ],
   "outputs": [],
   "execution_count": null
  },
  {
   "cell_type": "code",
   "metadata": {
    "id": "RMSU2H6Eo-XN"
   },
   "source": [
    "y_pred = best_rf.predict(X_test)"
   ],
   "outputs": [],
   "execution_count": null
  },
  {
   "cell_type": "code",
   "metadata": {
    "colab": {
     "base_uri": "https://localhost:8080/"
    },
    "id": "uslymkVmpAJ6",
    "outputId": "095946da-c335-4282-a474-a50a615fb9cf"
   },
   "source": [
    "print(\"Matriz de confusión:\")\n",
    "print(confusion_matrix(y_test, y_pred))"
   ],
   "outputs": [],
   "execution_count": null
  },
  {
   "cell_type": "code",
   "metadata": {
    "colab": {
     "base_uri": "https://localhost:8080/"
    },
    "id": "UJGKYPyOpCIn",
    "outputId": "ffd57cce-62d2-4826-dd92-9db297728a0b"
   },
   "source": [
    "accuracy = accuracy_score(y_test, y_pred)\n",
    "print(\"Precisión:\", accuracy)"
   ],
   "outputs": [],
   "execution_count": null
  }
 ],
 "metadata": {
  "colab": {
   "provenance": []
  },
  "kernelspec": {
   "display_name": "Python 3 (ipykernel)",
   "language": "python",
   "name": "python3"
  },
  "language_info": {
   "codemirror_mode": {
    "name": "ipython",
    "version": 3
   },
   "file_extension": ".py",
   "mimetype": "text/x-python",
   "name": "python",
   "nbconvert_exporter": "python",
   "pygments_lexer": "ipython3",
   "version": "3.13.1"
  }
 },
 "nbformat": 4,
 "nbformat_minor": 4
}
